{
 "cells": [
  {
   "cell_type": "code",
   "execution_count": 1,
   "metadata": {
    "collapsed": false
   },
   "outputs": [],
   "source": [
    "import pandas as pd\n",
    "import numpy as np"
   ]
  },
  {
   "cell_type": "code",
   "execution_count": 2,
   "metadata": {
    "collapsed": true
   },
   "outputs": [],
   "source": [
    "def rev_comp(strSeq):\n",
    "\tdicComp = {'A':'T','T':'A','G':'C','C':'G','N':'N'}\n",
    "\tstrCseq = ''\n",
    "\tfor i in strSeq:\n",
    "\t\ttry:\n",
    "\t\t\tstrCseq += dicComp[i.upper()]\n",
    "\t\texcept KeyError:\n",
    "\t\t\tstrCseq += 'N'\n",
    "\t# End of for i\n",
    "\treturn(strCseq[::-1])"
   ]
  },
  {
   "cell_type": "code",
   "execution_count": 4,
   "metadata": {
    "collapsed": false
   },
   "outputs": [],
   "source": [
    "file_fa = '/ref/analysis/Cre/ref/Creinhardtii_281_v5.0.fa'\n",
    "\n",
    "bulk = open(file_fa).read()\n",
    "bulk = bulk.split('>')\n",
    "dicHD2seq = {}\n",
    "for each_bulk in bulk:\n",
    "    if each_bulk.strip() == '':\n",
    "        continue\n",
    "    genename = each_bulk.split('\\n')[0]\n",
    "    seq      = ''.join(each_bulk.split('\\n')[1:])\n",
    "    dicHD2seq[genename] = seq"
   ]
  },
  {
   "cell_type": "code",
   "execution_count": 5,
   "metadata": {
    "collapsed": false
   },
   "outputs": [
    {
     "name": "stderr",
     "output_type": "stream",
     "text": [
      "/usr/local/lib/python2.7/dist-packages/ipykernel/__main__.py:8: SettingWithCopyWarning: \n",
      "A value is trying to be set on a copy of a slice from a DataFrame.\n",
      "Try using .loc[row_indexer,col_indexer] = value instead\n",
      "\n",
      "See the caveats in the documentation: http://pandas.pydata.org/pandas-docs/stable/indexing.html#indexing-view-versus-copy\n",
      "/usr/local/lib/python2.7/dist-packages/ipykernel/__main__.py:13: SettingWithCopyWarning: \n",
      "A value is trying to be set on a copy of a slice from a DataFrame.\n",
      "Try using .loc[row_indexer,col_indexer] = value instead\n",
      "\n",
      "See the caveats in the documentation: http://pandas.pydata.org/pandas-docs/stable/indexing.html#indexing-view-versus-copy\n",
      "/usr/local/lib/python2.7/dist-packages/ipykernel/__main__.py:17: FutureWarning: sort(columns=....) is deprecated, use sort_values(by=.....)\n"
     ]
    }
   ],
   "source": [
    "file_gff = '/ref/analysis/Cre/braker/braker.try5_mario/braker/chlamy2011/augustus.gff.rmsharp.gff.parsed.gff'\n",
    "\n",
    "df_gff = pd.read_csv(file_gff,sep='\\t',header=None)\n",
    "\n",
    "mask        = (df_gff[2] == 'gene')\n",
    "df_gff_gene = df_gff[mask]      \n",
    "\n",
    "df_gff_gene['genename'] = df_gff[8].apply(lambda x:x.replace('ID=',''))\n",
    "\n",
    "mask = (df_gff[2] == 'CDS')\n",
    "df_gff_cds = df_gff[mask]      \n",
    "\n",
    "df_gff_cds['genename'] = df_gff_cds[8].apply(lambda x : x.replace('Parent=',''))\n",
    "\n",
    "df_gff_cds_index = df_gff_cds.set_index('genename')\n",
    "\n",
    "df_gff_cds_index = df_gff_cds_index.sort([3], ascending=[1])"
   ]
  },
  {
   "cell_type": "code",
   "execution_count": 7,
   "metadata": {
    "collapsed": false,
    "scrolled": false
   },
   "outputs": [],
   "source": [
    "i = 0\n",
    "dic = {'transcriptname' : [],\n",
    "       'strand' : [],\n",
    "       'CDSloc' : [],\n",
    "       'CDSseq' : []}\n",
    "for genename in set(df_gff_cds_index.index):\n",
    "    \n",
    "    dic['transcriptname'].append(genename)\n",
    "    \n",
    "    edf = df_gff_cds_index.loc[genename]\n",
    "    if str(type(edf)) == \"<class 'pandas.core.frame.DataFrame'>\":\n",
    "        CDS_list = zip(list(edf[3]),list(edf[4]))\n",
    "        chromosome = edf[0][0]\n",
    "        strand     = edf[6][0]\n",
    "    else:\n",
    "        CDS_list = zip([edf[3]],[edf[4]])\n",
    "        chromosome = edf[0]\n",
    "        strand     = edf[6]\n",
    "    \n",
    "    dic['strand'].append(strand)\n",
    "    cdsseq = ''\n",
    "    for l,r in CDS_list:\n",
    "        #print l,r\n",
    "        cdsseq += dicHD2seq[chromosome][l-1:r]\n",
    "    if strand == '+':\n",
    "        pass\n",
    "    else: \n",
    "        cdsseq = rev_comp(cdsseq)\n",
    "    dic['CDSloc'].append(CDS_list)\n",
    "    dic['CDSseq'].append(cdsseq)\n",
    "    #print genename,chromosome,strand,CDS_list,cdsseq\n",
    "    #if i == 10:\n",
    "    #    break\n",
    "    #i += 1"
   ]
  },
  {
   "cell_type": "code",
   "execution_count": 8,
   "metadata": {
    "collapsed": true
   },
   "outputs": [],
   "source": [
    "df_cds = pd.DataFrame(dic)\n",
    "df_cds['transcript'] = df_cds['transcriptname'].apply(lambda x : x.split('.')[1])\n",
    "df_cds['gene'] = df_cds['transcriptname'].apply(lambda x : x.split('.')[0])"
   ]
  },
  {
   "cell_type": "code",
   "execution_count": 9,
   "metadata": {
    "collapsed": false
   },
   "outputs": [],
   "source": [
    "df_cds_index = df_cds.set_index(['gene','transcript'])"
   ]
  },
  {
   "cell_type": "code",
   "execution_count": 10,
   "metadata": {
    "collapsed": true
   },
   "outputs": [],
   "source": [
    "df_cds_index.to_pickle(file_gff+'.cdsseq.pk')"
   ]
  },
  {
   "cell_type": "code",
   "execution_count": 11,
   "metadata": {
    "collapsed": false
   },
   "outputs": [
    {
     "data": {
      "text/html": [
       "<div>\n",
       "<table border=\"1\" class=\"dataframe\">\n",
       "  <thead>\n",
       "    <tr style=\"text-align: right;\">\n",
       "      <th></th>\n",
       "      <th></th>\n",
       "      <th>CDSloc</th>\n",
       "      <th>CDSseq</th>\n",
       "      <th>strand</th>\n",
       "      <th>transcriptname</th>\n",
       "    </tr>\n",
       "    <tr>\n",
       "      <th>gene</th>\n",
       "      <th>transcript</th>\n",
       "      <th></th>\n",
       "      <th></th>\n",
       "      <th></th>\n",
       "      <th></th>\n",
       "    </tr>\n",
       "  </thead>\n",
       "  <tbody>\n",
       "    <tr>\n",
       "      <th>g13850</th>\n",
       "      <th>t1</th>\n",
       "      <td>[(6430310, 6430466), (6430692, 6430891), (6431...</td>\n",
       "      <td>ATGAGAACGCTGAAGAAAATTAGGCTGGAGCAGGAGGATGAGGGCG...</td>\n",
       "      <td>-</td>\n",
       "      <td>g13850.t1</td>\n",
       "    </tr>\n",
       "    <tr>\n",
       "      <th>g3773</th>\n",
       "      <th>t1</th>\n",
       "      <td>[(5367703, 5367731), (5367818, 5367988), (5368...</td>\n",
       "      <td>ATGGCAACGTTGAGGCTCGATGTCAGCGGGCGACTCGACGAGGAGG...</td>\n",
       "      <td>+</td>\n",
       "      <td>g3773.t1</td>\n",
       "    </tr>\n",
       "    <tr>\n",
       "      <th>g9804</th>\n",
       "      <th>t1</th>\n",
       "      <td>[(1998351, 1998382), (1998509, 2000696), (2000...</td>\n",
       "      <td>ATGGGCCGCAACCACCGCCACGCCCGTACCCAGAACCACAGTCACG...</td>\n",
       "      <td>-</td>\n",
       "      <td>g9804.t1</td>\n",
       "    </tr>\n",
       "    <tr>\n",
       "      <th>g12808</th>\n",
       "      <th>t1</th>\n",
       "      <td>[(69755, 69943), (70159, 70284), (70868, 70972)]</td>\n",
       "      <td>ATGACCCATCCCGGCGCCGCCCCGGCCGCTGCCACCCTCCCCTGTC...</td>\n",
       "      <td>+</td>\n",
       "      <td>g12808.t1</td>\n",
       "    </tr>\n",
       "    <tr>\n",
       "      <th>g3484</th>\n",
       "      <th>t1</th>\n",
       "      <td>[(3884746, 3884791), (3884937, 3886198), (3886...</td>\n",
       "      <td>ATGGCGGAGCCGGTGGAGGACGTGGTCGTGCTGGACAGCCTACAGC...</td>\n",
       "      <td>+</td>\n",
       "      <td>g3484.t1</td>\n",
       "    </tr>\n",
       "  </tbody>\n",
       "</table>\n",
       "</div>"
      ],
      "text/plain": [
       "                                                              CDSloc  \\\n",
       "gene   transcript                                                      \n",
       "g13850 t1          [(6430310, 6430466), (6430692, 6430891), (6431...   \n",
       "g3773  t1          [(5367703, 5367731), (5367818, 5367988), (5368...   \n",
       "g9804  t1          [(1998351, 1998382), (1998509, 2000696), (2000...   \n",
       "g12808 t1           [(69755, 69943), (70159, 70284), (70868, 70972)]   \n",
       "g3484  t1          [(3884746, 3884791), (3884937, 3886198), (3886...   \n",
       "\n",
       "                                                              CDSseq strand  \\\n",
       "gene   transcript                                                             \n",
       "g13850 t1          ATGAGAACGCTGAAGAAAATTAGGCTGGAGCAGGAGGATGAGGGCG...      -   \n",
       "g3773  t1          ATGGCAACGTTGAGGCTCGATGTCAGCGGGCGACTCGACGAGGAGG...      +   \n",
       "g9804  t1          ATGGGCCGCAACCACCGCCACGCCCGTACCCAGAACCACAGTCACG...      -   \n",
       "g12808 t1          ATGACCCATCCCGGCGCCGCCCCGGCCGCTGCCACCCTCCCCTGTC...      +   \n",
       "g3484  t1          ATGGCGGAGCCGGTGGAGGACGTGGTCGTGCTGGACAGCCTACAGC...      +   \n",
       "\n",
       "                  transcriptname  \n",
       "gene   transcript                 \n",
       "g13850 t1              g13850.t1  \n",
       "g3773  t1               g3773.t1  \n",
       "g9804  t1               g9804.t1  \n",
       "g12808 t1              g12808.t1  \n",
       "g3484  t1               g3484.t1  "
      ]
     },
     "execution_count": 11,
     "metadata": {},
     "output_type": "execute_result"
    }
   ],
   "source": [
    "df_cds_index.head()"
   ]
  },
  {
   "cell_type": "code",
   "execution_count": null,
   "metadata": {
    "collapsed": true
   },
   "outputs": [],
   "source": []
  }
 ],
 "metadata": {
  "kernelspec": {
   "display_name": "Python 2",
   "language": "python",
   "name": "python2"
  },
  "language_info": {
   "codemirror_mode": {
    "name": "ipython",
    "version": 2
   },
   "file_extension": ".py",
   "mimetype": "text/x-python",
   "name": "python",
   "nbconvert_exporter": "python",
   "pygments_lexer": "ipython2",
   "version": "2.7.6"
  }
 },
 "nbformat": 4,
 "nbformat_minor": 0
}
