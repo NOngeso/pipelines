{
 "cells": [
  {
   "cell_type": "code",
   "execution_count": 12,
   "metadata": {
    "collapsed": false
   },
   "outputs": [
    {
     "name": "stdout",
     "output_type": "stream",
     "text": [
      "8.0\t9.0\t6.0\t6.0\t3.0\t0\t0\n",
      "8.0\t5.0\t4.0\t10.0\t5.0\t0\t0\n",
      "8.0\t4.0\t2.0\t11.0\t7.0\t0\t0\n",
      "8.0\t9.0\t6.0\t5.0\t4.0\t0\t0\n",
      "5.0\t8.0\t8.0\t5.0\t6.0\t0\t0\n"
     ]
    }
   ],
   "source": [
    "from numpy.random import multinomial\n",
    "import numpy as np\n",
    "contract_hour = 32\n",
    "contract_min  = 0\n",
    "print '\\t'.join(map(str,multinomial(contract_hour, [1/5.] * 5) + multinomial(contract_min, [1/5.] * 5).astype(np.float)/100)) + '\\t' + '0' + '\\t' + '0'\n",
    "print '\\t'.join(map(str,multinomial(contract_hour, [1/5.] * 5) + multinomial(contract_min, [1/5.] * 5).astype(np.float)/100)) + '\\t' + '0' + '\\t' + '0'\n",
    "print '\\t'.join(map(str,multinomial(contract_hour, [1/5.] * 5) + multinomial(contract_min, [1/5.] * 5).astype(np.float)/100)) + '\\t' + '0' + '\\t' + '0'\n",
    "print '\\t'.join(map(str,multinomial(contract_hour, [1/5.] * 5) + multinomial(contract_min, [1/5.] * 5).astype(np.float)/100)) + '\\t' + '0' + '\\t' + '0'\n",
    "print '\\t'.join(map(str,multinomial(contract_hour, [1/5.] * 5) + multinomial(contract_min, [1/5.] * 5).astype(np.float)/100)) + '\\t' + '0' + '\\t' + '0'\n",
    "\n",
    "\n",
    "\n"
   ]
  },
  {
   "cell_type": "code",
   "execution_count": 10,
   "metadata": {
    "collapsed": false
   },
   "outputs": [
    {
     "data": {
      "text/plain": [
       "40.099999999999994"
      ]
     },
     "execution_count": 10,
     "metadata": {},
     "output_type": "execute_result"
    }
   ],
   "source": [
    "6.02+5.02+12.02+10.03+7.01"
   ]
  },
  {
   "cell_type": "code",
   "execution_count": 21,
   "metadata": {
    "collapsed": false
   },
   "outputs": [
    {
     "name": "stdout",
     "output_type": "stream",
     "text": [
      "6.0\t8.2\t3.3\t8.1\n",
      "2.2\t7.1\t7.1\t9.2\n",
      "5.0\t8.2\t8.3\t4.1\n",
      "7.2\t5.1\t5.0\t8.3\n",
      "5.1\t6.2\t7.1\t7.2\n"
     ]
    }
   ],
   "source": [
    "from numpy.random import multinomial\n",
    "import numpy as np\n",
    "# 5 days should be 32 hours \n",
    "# 4 dats should be 32/5 * 4 = 25.6\n",
    "contract_hour = 25\n",
    "contract_min  = 6\n",
    "n_slots       = 4\n",
    "print '\\t'.join(map(str,multinomial(contract_hour, [1./n_slots] * n_slots) + multinomial(contract_min, [1./n_slots] * n_slots).astype(np.float)/10))\n",
    "print '\\t'.join(map(str,multinomial(contract_hour, [1./n_slots] * n_slots) + multinomial(contract_min, [1./n_slots] * n_slots).astype(np.float)/10)) \n",
    "print '\\t'.join(map(str,multinomial(contract_hour, [1./n_slots] * n_slots) + multinomial(contract_min, [1./n_slots] * n_slots).astype(np.float)/10)) \n",
    "print '\\t'.join(map(str,multinomial(contract_hour, [1./n_slots] * n_slots) + multinomial(contract_min, [1./n_slots] * n_slots).astype(np.float)/10)) \n",
    "print '\\t'.join(map(str,multinomial(contract_hour, [1./n_slots] * n_slots) + multinomial(contract_min, [1./n_slots] * n_slots).astype(np.float)/10)) \n"
   ]
  },
  {
   "cell_type": "code",
   "execution_count": 22,
   "metadata": {
    "collapsed": false
   },
   "outputs": [
    {
     "data": {
      "text/plain": [
       "19.200000000000003"
      ]
     },
     "execution_count": 22,
     "metadata": {},
     "output_type": "execute_result"
    }
   ],
   "source": [
    "(32./5)*3"
   ]
  },
  {
   "cell_type": "code",
   "execution_count": 23,
   "metadata": {
    "collapsed": false
   },
   "outputs": [
    {
     "name": "stdout",
     "output_type": "stream",
     "text": [
      "5.1\t3.0\t11.1\n",
      "5.1\t4.1\t10.0\n",
      "8.1\t5.1\t6.0\n",
      "4.1\t7.0\t8.1\n",
      "10.1\t4.0\t5.1\n"
     ]
    }
   ],
   "source": [
    "from numpy.random import multinomial\n",
    "import numpy as np\n",
    "# 5 days should be 32 hours \n",
    "# 3 dats should be 32/5 * 3 = 19.2\n",
    "contract_hour = 19\n",
    "contract_min  = 2\n",
    "n_slots       = 3\n",
    "print '\\t'.join(map(str,multinomial(contract_hour, [1./n_slots] * n_slots) + multinomial(contract_min, [1./n_slots] * n_slots).astype(np.float)/10))\n",
    "print '\\t'.join(map(str,multinomial(contract_hour, [1./n_slots] * n_slots) + multinomial(contract_min, [1./n_slots] * n_slots).astype(np.float)/10)) \n",
    "print '\\t'.join(map(str,multinomial(contract_hour, [1./n_slots] * n_slots) + multinomial(contract_min, [1./n_slots] * n_slots).astype(np.float)/10)) \n",
    "print '\\t'.join(map(str,multinomial(contract_hour, [1./n_slots] * n_slots) + multinomial(contract_min, [1./n_slots] * n_slots).astype(np.float)/10)) \n",
    "print '\\t'.join(map(str,multinomial(contract_hour, [1./n_slots] * n_slots) + multinomial(contract_min, [1./n_slots] * n_slots).astype(np.float)/10)) \n"
   ]
  },
  {
   "cell_type": "code",
   "execution_count": null,
   "metadata": {
    "collapsed": true
   },
   "outputs": [],
   "source": []
  }
 ],
 "metadata": {
  "kernelspec": {
   "display_name": "Python 2",
   "language": "python",
   "name": "python2"
  },
  "language_info": {
   "codemirror_mode": {
    "name": "ipython",
    "version": 2
   },
   "file_extension": ".py",
   "mimetype": "text/x-python",
   "name": "python",
   "nbconvert_exporter": "python",
   "pygments_lexer": "ipython2",
   "version": "2.7.6"
  }
 },
 "nbformat": 4,
 "nbformat_minor": 0
}
