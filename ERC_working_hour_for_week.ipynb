{
 "cells": [
  {
   "cell_type": "code",
   "execution_count": 118,
   "metadata": {
    "collapsed": false
   },
   "outputs": [
    {
     "name": "stdout",
     "output_type": "stream",
     "text": [
      "9\t5\t5\t4\t9\t0\t0\n",
      "6\t7\t7\t5\t7\t0\t0\n",
      "7\t6\t7\t4\t8\t0\t0\n",
      "5\t6\t6\t6\t9\t0\t0\n"
     ]
    }
   ],
   "source": [
    "from numpy.random import multinomial\n",
    "print '\\t'.join(map(str,multinomial(32, [1/5.] * 5))) + '\\t' + '0' + '\\t' + '0'\n",
    "print '\\t'.join(map(str,multinomial(32, [1/5.] * 5))) + '\\t' + '0' + '\\t' + '0'\n",
    "print '\\t'.join(map(str,multinomial(32, [1/5.] * 5))) + '\\t' + '0' + '\\t' + '0'\n",
    "print '\\t'.join(map(str,multinomial(32, [1/5.] * 5))) + '\\t' + '0' + '\\t' + '0'"
   ]
  },
  {
   "cell_type": "code",
   "execution_count": null,
   "metadata": {
    "collapsed": true
   },
   "outputs": [],
   "source": []
  },
  {
   "cell_type": "code",
   "execution_count": null,
   "metadata": {
    "collapsed": true
   },
   "outputs": [],
   "source": []
  }
 ],
 "metadata": {
  "kernelspec": {
   "display_name": "Python 2",
   "language": "python",
   "name": "python2"
  },
  "language_info": {
   "codemirror_mode": {
    "name": "ipython",
    "version": 2
   },
   "file_extension": ".py",
   "mimetype": "text/x-python",
   "name": "python",
   "nbconvert_exporter": "python",
   "pygments_lexer": "ipython2",
   "version": "2.7.6"
  }
 },
 "nbformat": 4,
 "nbformat_minor": 0
}
