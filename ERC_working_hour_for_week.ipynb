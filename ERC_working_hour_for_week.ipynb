{
 "cells": [
  {
   "cell_type": "code",
   "execution_count": 99,
   "metadata": {
    "collapsed": false,
    "scrolled": true
   },
   "outputs": [
    {
     "name": "stdout",
     "output_type": "stream",
     "text": [
      "5.2\t8.2\t8.1\t4.2\n",
      "5.2\t7.0\t5.3\t8.2\n",
      "4.3\t8.3\t4.0\t9.1\n",
      "7.2\t11.2\t4.2\t3.1\n",
      "4.1\t4.2\t8.1\t9.3\n"
     ]
    }
   ],
   "source": [
    "from numpy.random import multinomial\n",
    "import numpy as np\n",
    "# 5 days should be 32.08 hours \n",
    "# 3 dats should be 32.08/5 * 3 = 19.2\n",
    "oneday    = 6.42\n",
    "days      = 4\n",
    "hour_week = '%0.1f'%(oneday*days) \n",
    "contract_hour = int(hour_week.split('.')[0])\n",
    "contract_min  = int(hour_week.split('.')[1])\n",
    "n_slots = days\n",
    "print '\\t'.join(map(str,multinomial(contract_hour, [1./n_slots] * n_slots) + multinomial(contract_min, [1./n_slots] * n_slots).astype(np.float)/10))\n",
    "print '\\t'.join(map(str,multinomial(contract_hour, [1./n_slots] * n_slots) + multinomial(contract_min, [1./n_slots] * n_slots).astype(np.float)/10)) \n",
    "print '\\t'.join(map(str,multinomial(contract_hour, [1./n_slots] * n_slots) + multinomial(contract_min, [1./n_slots] * n_slots).astype(np.float)/10)) \n",
    "print '\\t'.join(map(str,multinomial(contract_hour, [1./n_slots] * n_slots) + multinomial(contract_min, [1./n_slots] * n_slots).astype(np.float)/10)) \n",
    "print '\\t'.join(map(str,multinomial(contract_hour, [1./n_slots] * n_slots) + multinomial(contract_min, [1./n_slots] * n_slots).astype(np.float)/10)) \n"
   ]
  },
  {
   "cell_type": "code",
   "execution_count": 11,
   "metadata": {
    "collapsed": false
   },
   "outputs": [
    {
     "data": {
      "text/plain": [
       "'19.26'"
      ]
     },
     "execution_count": 11,
     "metadata": {},
     "output_type": "execute_result"
    }
   ],
   "source": [
    "hour_week"
   ]
  },
  {
   "cell_type": "code",
   "execution_count": 17,
   "metadata": {
    "collapsed": false
   },
   "outputs": [
    {
     "data": {
      "text/plain": [
       "32.1"
      ]
     },
     "execution_count": 17,
     "metadata": {},
     "output_type": "execute_result"
    }
   ],
   "source": [
    "12.04+3.01+4.02+8.02+5.01"
   ]
  },
  {
   "cell_type": "code",
   "execution_count": null,
   "metadata": {
    "collapsed": true
   },
   "outputs": [],
   "source": []
  }
 ],
 "metadata": {
  "kernelspec": {
   "display_name": "Python 2",
   "language": "python",
   "name": "python2"
  },
  "language_info": {
   "codemirror_mode": {
    "name": "ipython",
    "version": 2
   },
   "file_extension": ".py",
   "mimetype": "text/x-python",
   "name": "python",
   "nbconvert_exporter": "python",
   "pygments_lexer": "ipython2",
   "version": "2.7.6"
  }
 },
 "nbformat": 4,
 "nbformat_minor": 0
}
