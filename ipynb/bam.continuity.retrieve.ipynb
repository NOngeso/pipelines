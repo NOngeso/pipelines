{
 "cells": [
  {
   "cell_type": "code",
   "execution_count": 3,
   "metadata": {
    "collapsed": false
   },
   "outputs": [],
   "source": [
    "import subprocess\n",
    "import numpy as np\n",
    "import pandas as pd\n",
    "import sys\n",
    "sys.path.append('../')"
   ]
  },
  {
   "cell_type": "code",
   "execution_count": 2,
   "metadata": {
    "collapsed": true
   },
   "outputs": [],
   "source": [
    "import kang"
   ]
  },
  {
   "cell_type": "code",
   "execution_count": 3,
   "metadata": {
    "collapsed": true
   },
   "outputs": [],
   "source": [
    "file_bam = '/ref/Cre/genemodel_correction/tophat/SRR2132433.tophat_out_maxintron1000.accepted_hits.bam'"
   ]
  },
  {
   "cell_type": "markdown",
   "metadata": {},
   "source": [
    "**How do I codes **\n",
    "\n",
    "Let's say 0,1,2,3,4,5,6,7,8,9 is fragment\n",
    "\n",
    "0-1, 1-2, 2-3, 3-4 ... are linked.\n",
    "\n",
    "each is converted into array in additive manner. \n",
    "\n",
    "[1,1,1,1,...] each pos is described as 'pos_inter' \n",
    "\n"
   ]
  },
  {
   "cell_type": "code",
   "execution_count": 4,
   "metadata": {
    "collapsed": true
   },
   "outputs": [],
   "source": [
    "file_fa = '/ref/Cre/genemodel_correction/Creinhardtii_281_v5.0.fa'\n",
    "dicHD2seq = kang.Fasta2dic(file_fa)\n",
    "\n",
    "chromosome, left, right = 'chromosome_1', 1000, 20000\n",
    "\n",
    "print ('samtools view %s %s:%d-%d > temp.sam'%(file_bam,chromosome,left,right))\n",
    "subprocess.call('samtools view %s %s:%d-%d > temp.sam'%(file_bam,chromosome,left,right),shell=True)\n",
    "subprocess.call('cut -f 1-20 temp.sam > temp.sam.cut',shell=True)\n",
    "\n",
    "\n",
    "rows = len(dicHD2seq.keys())\n",
    "columns = max([len(x) for x in dicHD2seq.values()])-1\n",
    "continuity_matrix = np.zeros([rows,columns])\n",
    "for line in open('temp.sam.cut'): # should be changed to zero base map\n",
    "    cell         = line.strip().split('\\t')\n",
    "    chromosome   = int(cell[2].replace('chromosome_',''))\n",
    "    startpos     = int(cell[3]) - 1 # zero based conversion \n",
    "    fragmentsize = int(cell[8])\n",
    "    endpos       = startpos + fragmentsize - 1 \n",
    "    startpos_inter = startpos  # startpos - nextpos \n",
    "    endpos_inter   = endpos - 1 # previouspos - endpos \n",
    "    \n",
    "    continuity_matrix[chromosome,startpos_inter:fragmentsize-1] += 1  # list characteristic can utillize fragment size itself.\n",
    "    \n",
    "    \n",
    "    "
   ]
  },
  {
   "cell_type": "code",
   "execution_count": 13,
   "metadata": {
    "collapsed": false
   },
   "outputs": [
    {
     "data": {
      "text/html": [
       "<div>\n",
       "<table border=\"1\" class=\"dataframe\">\n",
       "  <thead>\n",
       "    <tr style=\"text-align: right;\">\n",
       "      <th></th>\n",
       "      <th>0</th>\n",
       "      <th>1</th>\n",
       "      <th>2</th>\n",
       "      <th>3</th>\n",
       "      <th>4</th>\n",
       "      <th>5</th>\n",
       "      <th>6</th>\n",
       "      <th>7</th>\n",
       "      <th>8</th>\n",
       "      <th>9</th>\n",
       "      <th>...</th>\n",
       "      <th>13</th>\n",
       "      <th>14</th>\n",
       "      <th>15</th>\n",
       "      <th>16</th>\n",
       "      <th>17</th>\n",
       "      <th>18</th>\n",
       "      <th>19</th>\n",
       "      <th>SRRID</th>\n",
       "      <th>READID</th>\n",
       "      <th>PAIRID</th>\n",
       "    </tr>\n",
       "  </thead>\n",
       "  <tbody>\n",
       "    <tr>\n",
       "      <th>0</th>\n",
       "      <td>SRR2132433.1070057.2</td>\n",
       "      <td>403</td>\n",
       "      <td>chromosome_1</td>\n",
       "      <td>901</td>\n",
       "      <td>1</td>\n",
       "      <td>100M</td>\n",
       "      <td>=</td>\n",
       "      <td>750</td>\n",
       "      <td>-251</td>\n",
       "      <td>TCGAGAAAATAGGGGTTTGCTTCGGCACAGGGCCAAAGTTCCTGGT...</td>\n",
       "      <td>...</td>\n",
       "      <td>XM:i:0</td>\n",
       "      <td>XO:i:0</td>\n",
       "      <td>XG:i:0</td>\n",
       "      <td>NM:i:0</td>\n",
       "      <td>MD:Z:100</td>\n",
       "      <td>YT:Z:UU</td>\n",
       "      <td>NH:i:4</td>\n",
       "      <td>SRR2132433</td>\n",
       "      <td>1070057</td>\n",
       "      <td>2</td>\n",
       "    </tr>\n",
       "    <tr>\n",
       "      <th>1</th>\n",
       "      <td>SRR2132433.11181939.2</td>\n",
       "      <td>403</td>\n",
       "      <td>chromosome_1</td>\n",
       "      <td>901</td>\n",
       "      <td>0</td>\n",
       "      <td>100M</td>\n",
       "      <td>=</td>\n",
       "      <td>795</td>\n",
       "      <td>-206</td>\n",
       "      <td>TCGAGAAAATAGGGGTTTGCTTCGGCACAGGGCCAAAGTTCCTGGT...</td>\n",
       "      <td>...</td>\n",
       "      <td>XM:i:0</td>\n",
       "      <td>XO:i:0</td>\n",
       "      <td>XG:i:0</td>\n",
       "      <td>NM:i:0</td>\n",
       "      <td>MD:Z:100</td>\n",
       "      <td>YT:Z:UU</td>\n",
       "      <td>NH:i:5</td>\n",
       "      <td>SRR2132433</td>\n",
       "      <td>11181939</td>\n",
       "      <td>2</td>\n",
       "    </tr>\n",
       "    <tr>\n",
       "      <th>2</th>\n",
       "      <td>SRR2132433.11248243.2</td>\n",
       "      <td>403</td>\n",
       "      <td>chromosome_1</td>\n",
       "      <td>901</td>\n",
       "      <td>1</td>\n",
       "      <td>100M</td>\n",
       "      <td>=</td>\n",
       "      <td>735</td>\n",
       "      <td>-266</td>\n",
       "      <td>TCGAGAAAATAGGGGTTTGCTTCGGCACAGGGCCAAAGTTCCTGGT...</td>\n",
       "      <td>...</td>\n",
       "      <td>XM:i:0</td>\n",
       "      <td>XO:i:0</td>\n",
       "      <td>XG:i:0</td>\n",
       "      <td>NM:i:0</td>\n",
       "      <td>MD:Z:100</td>\n",
       "      <td>YT:Z:UU</td>\n",
       "      <td>NH:i:4</td>\n",
       "      <td>SRR2132433</td>\n",
       "      <td>11248243</td>\n",
       "      <td>2</td>\n",
       "    </tr>\n",
       "    <tr>\n",
       "      <th>3</th>\n",
       "      <td>SRR2132433.11297625.2</td>\n",
       "      <td>145</td>\n",
       "      <td>chromosome_1</td>\n",
       "      <td>908</td>\n",
       "      <td>0</td>\n",
       "      <td>100M</td>\n",
       "      <td>=</td>\n",
       "      <td>703</td>\n",
       "      <td>-305</td>\n",
       "      <td>AATAGGGGTTTGCTTCGGCACAGGGCCAAAGTTCCTGGTTTGGGTC...</td>\n",
       "      <td>...</td>\n",
       "      <td>XM:i:0</td>\n",
       "      <td>XO:i:0</td>\n",
       "      <td>XG:i:0</td>\n",
       "      <td>NM:i:0</td>\n",
       "      <td>MD:Z:100</td>\n",
       "      <td>YT:Z:UU</td>\n",
       "      <td>NH:i:6</td>\n",
       "      <td>SRR2132433</td>\n",
       "      <td>11297625</td>\n",
       "      <td>2</td>\n",
       "    </tr>\n",
       "    <tr>\n",
       "      <th>4</th>\n",
       "      <td>SRR2132433.19799958.1</td>\n",
       "      <td>83</td>\n",
       "      <td>chromosome_1</td>\n",
       "      <td>909</td>\n",
       "      <td>0</td>\n",
       "      <td>100M</td>\n",
       "      <td>=</td>\n",
       "      <td>832</td>\n",
       "      <td>-177</td>\n",
       "      <td>ATAGGGGTTTGCTTCGGCACAGGGCCAAAGTTCCTGGTTTGGGTCG...</td>\n",
       "      <td>...</td>\n",
       "      <td>XM:i:0</td>\n",
       "      <td>XO:i:0</td>\n",
       "      <td>XG:i:0</td>\n",
       "      <td>NM:i:0</td>\n",
       "      <td>MD:Z:100</td>\n",
       "      <td>YT:Z:UU</td>\n",
       "      <td>NH:i:5</td>\n",
       "      <td>SRR2132433</td>\n",
       "      <td>19799958</td>\n",
       "      <td>1</td>\n",
       "    </tr>\n",
       "  </tbody>\n",
       "</table>\n",
       "<p>5 rows × 23 columns</p>\n",
       "</div>"
      ],
      "text/plain": [
       "                       0    1             2    3  4     5  6    7    8  \\\n",
       "0   SRR2132433.1070057.2  403  chromosome_1  901  1  100M  =  750 -251   \n",
       "1  SRR2132433.11181939.2  403  chromosome_1  901  0  100M  =  795 -206   \n",
       "2  SRR2132433.11248243.2  403  chromosome_1  901  1  100M  =  735 -266   \n",
       "3  SRR2132433.11297625.2  145  chromosome_1  908  0  100M  =  703 -305   \n",
       "4  SRR2132433.19799958.1   83  chromosome_1  909  0  100M  =  832 -177   \n",
       "\n",
       "                                                   9  ...        13      14  \\\n",
       "0  TCGAGAAAATAGGGGTTTGCTTCGGCACAGGGCCAAAGTTCCTGGT...  ...    XM:i:0  XO:i:0   \n",
       "1  TCGAGAAAATAGGGGTTTGCTTCGGCACAGGGCCAAAGTTCCTGGT...  ...    XM:i:0  XO:i:0   \n",
       "2  TCGAGAAAATAGGGGTTTGCTTCGGCACAGGGCCAAAGTTCCTGGT...  ...    XM:i:0  XO:i:0   \n",
       "3  AATAGGGGTTTGCTTCGGCACAGGGCCAAAGTTCCTGGTTTGGGTC...  ...    XM:i:0  XO:i:0   \n",
       "4  ATAGGGGTTTGCTTCGGCACAGGGCCAAAGTTCCTGGTTTGGGTCG...  ...    XM:i:0  XO:i:0   \n",
       "\n",
       "       15      16        17       18      19       SRRID    READID PAIRID  \n",
       "0  XG:i:0  NM:i:0  MD:Z:100  YT:Z:UU  NH:i:4  SRR2132433   1070057      2  \n",
       "1  XG:i:0  NM:i:0  MD:Z:100  YT:Z:UU  NH:i:5  SRR2132433  11181939      2  \n",
       "2  XG:i:0  NM:i:0  MD:Z:100  YT:Z:UU  NH:i:4  SRR2132433  11248243      2  \n",
       "3  XG:i:0  NM:i:0  MD:Z:100  YT:Z:UU  NH:i:6  SRR2132433  11297625      2  \n",
       "4  XG:i:0  NM:i:0  MD:Z:100  YT:Z:UU  NH:i:5  SRR2132433  19799958      1  \n",
       "\n",
       "[5 rows x 23 columns]"
      ]
     },
     "execution_count": 13,
     "metadata": {},
     "output_type": "execute_result"
    }
   ],
   "source": [
    "df_sam.head()"
   ]
  },
  {
   "cell_type": "code",
   "execution_count": 22,
   "metadata": {
    "collapsed": true
   },
   "outputs": [],
   "source": [
    "a = np.zeros(5)"
   ]
  },
  {
   "cell_type": "code",
   "execution_count": 23,
   "metadata": {
    "collapsed": false
   },
   "outputs": [
    {
     "data": {
      "text/plain": [
       "array([ 0.,  0.,  0.,  0.,  0.])"
      ]
     },
     "execution_count": 23,
     "metadata": {},
     "output_type": "execute_result"
    }
   ],
   "source": [
    "a"
   ]
  },
  {
   "cell_type": "code",
   "execution_count": 24,
   "metadata": {
    "collapsed": true
   },
   "outputs": [],
   "source": [
    "a[0:4] += 1"
   ]
  },
  {
   "cell_type": "code",
   "execution_count": 25,
   "metadata": {
    "collapsed": false
   },
   "outputs": [
    {
     "data": {
      "text/plain": [
       "array([ 1.,  1.,  1.,  1.,  0.])"
      ]
     },
     "execution_count": 25,
     "metadata": {},
     "output_type": "execute_result"
    }
   ],
   "source": [
    "a"
   ]
  },
  {
   "cell_type": "code",
   "execution_count": 5,
   "metadata": {
    "collapsed": false
   },
   "outputs": [
    {
     "data": {
      "text/plain": [
       "array([4, 5, 6, 7, 8, 9])"
      ]
     },
     "execution_count": 5,
     "metadata": {},
     "output_type": "execute_result"
    }
   ],
   "source": [
    "np.arange(4,10)"
   ]
  },
  {
   "cell_type": "code",
   "execution_count": null,
   "metadata": {
    "collapsed": true
   },
   "outputs": [],
   "source": []
  }
 ],
 "metadata": {
  "kernelspec": {
   "display_name": "Python 2",
   "language": "python",
   "name": "python2"
  },
  "language_info": {
   "codemirror_mode": {
    "name": "ipython",
    "version": 2
   },
   "file_extension": ".py",
   "mimetype": "text/x-python",
   "name": "python",
   "nbconvert_exporter": "python",
   "pygments_lexer": "ipython2",
   "version": "2.7.6"
  }
 },
 "nbformat": 4,
 "nbformat_minor": 0
}
