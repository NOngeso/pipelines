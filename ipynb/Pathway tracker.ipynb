{
 "cells": [
  {
   "cell_type": "code",
   "execution_count": 6,
   "metadata": {
    "collapsed": false
   },
   "outputs": [],
   "source": [
    "class signal:\n",
    "    def __init__(self,molecule):\n",
    "        self.name       = molecule\n",
    "        self.status     = ''\n",
    "        self.IP         = []\n",
    "        self.US         = []\n",
    "class gene:\n",
    "    def __init__(self):\n",
    "        self.name       = ''\n",
    "        self.ID         = ''\n",
    "        self.status     = ''\n",
    "        self.IP         = [] # interaction partners\n",
    "        self.US         = [] # upstream signals \n",
    "    def signal_perception(self,molecule):\n",
    "        self.US.append(signal(molecule))"
   ]
  },
  {
   "cell_type": "code",
   "execution_count": 7,
   "metadata": {
    "collapsed": false
   },
   "outputs": [],
   "source": [
    "pyl = gene()\n",
    "pyl.name   = 'pyl'\n",
    "pyl.ID     = 'AT3G10102'\n",
    "pyl.status = 'homodimer'\n",
    "pyl.IP.append('AT3G10101')\n",
    "pyl.signal_perception('ABA')"
   ]
  },
  {
   "cell_type": "code",
   "execution_count": 8,
   "metadata": {
    "collapsed": false
   },
   "outputs": [
    {
     "data": {
      "text/plain": [
       "<__main__.gene instance at 0x7f9b6441a950>"
      ]
     },
     "execution_count": 8,
     "metadata": {},
     "output_type": "execute_result"
    }
   ],
   "source": [
    "pyl"
   ]
  },
  {
   "cell_type": "code",
   "execution_count": 13,
   "metadata": {
    "collapsed": false
   },
   "outputs": [
    {
     "data": {
      "text/plain": [
       "'ABA'"
      ]
     },
     "execution_count": 13,
     "metadata": {},
     "output_type": "execute_result"
    }
   ],
   "source": [
    "pyl.US[0].name"
   ]
  },
  {
   "cell_type": "code",
   "execution_count": null,
   "metadata": {
    "collapsed": true
   },
   "outputs": [],
   "source": []
  }
 ],
 "metadata": {
  "kernelspec": {
   "display_name": "Python 2",
   "language": "python",
   "name": "python2"
  },
  "language_info": {
   "codemirror_mode": {
    "name": "ipython",
    "version": 2
   },
   "file_extension": ".py",
   "mimetype": "text/x-python",
   "name": "python",
   "nbconvert_exporter": "python",
   "pygments_lexer": "ipython2",
   "version": "2.7.6"
  }
 },
 "nbformat": 4,
 "nbformat_minor": 0
}
