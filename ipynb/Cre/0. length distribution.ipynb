{
 "cells": [
  {
   "cell_type": "code",
   "execution_count": 1,
   "metadata": {
    "collapsed": false
   },
   "outputs": [
    {
     "name": "stderr",
     "output_type": "stream",
     "text": [
      "/usr/local/lib/python2.7/dist-packages/matplotlib/__init__.py:872: UserWarning: axes.color_cycle is deprecated and replaced with axes.prop_cycle; please use the latter.\n",
      "  warnings.warn(self.msg_depr % (key, alt_key))\n"
     ]
    }
   ],
   "source": [
    "%matplotlib inline\n",
    "import numpy as np\n",
    "import pandas as pd\n",
    "import matplotlib.pyplot as plt\n",
    "import seaborn as sns\n",
    "colors = sns.color_palette(\"deep\", 20)\n",
    "sns.set(context=\"poster\")\n",
    "sns.set_style(\"dark\")\n",
    "## 다음도 스타일 주는법\n",
    "import matplotlib\n",
    "matplotlib.style.use('ggplot') "
   ]
  },
  {
   "cell_type": "code",
   "execution_count": 2,
   "metadata": {
    "collapsed": true
   },
   "outputs": [],
   "source": [
    "file_gff_new = '/ref/Cre/braker/braker.chlamy20151203.augustus.gff.rmsharp.gff.parsed.gff'\n",
    "file_gff_old = '/ref/Cre/ref/Creinhardtii_281_v5.5.gene.gff3'"
   ]
  },
  {
   "cell_type": "code",
   "execution_count": 3,
   "metadata": {
    "collapsed": false
   },
   "outputs": [
    {
     "name": "stdout",
     "output_type": "stream",
     "text": [
      "##gff-version 3\n",
      "##annot-version v5.5\n",
      "chromosome_1\tphytozomev10\tgene\t18766\t20237\t.\t+\t.\tID=Cre01.g000017.v5.5;Name=Cre01.g000017\n",
      "chromosome_1\tphytozomev10\tmRNA\t18766\t20237\t.\t+\t.\tID=Cre01.g000017.t1.1.v5.5;Name=Cre01.g000017.t1.1;pacid=30789166;longest=1;Parent=Cre01.g000017.v5.5\n",
      "chromosome_1\tphytozomev10\tfive_prime_UTR\t18766\t19162\t.\t+\t.\tID=Cre01.g000017.t1.1.v5.5.five_prime_UTR.1;Parent=Cre01.g000017.t1.1.v5.5;pacid=30789166\n",
      "chromosome_1\tphytozomev10\tCDS\t19163\t19178\t.\t+\t0\tID=Cre01.g000017.t1.1.v5.5.CDS.1;Parent=Cre01.g000017.t1.1.v5.5;pacid=30789166\n",
      "chromosome_1\tphytozomev10\tCDS\t19329\t19948\t.\t+\t2\tID=Cre01.g000017.t1.1.v5.5.CDS.2;Parent=Cre01.g000017.t1.1.v5.5;pacid=30789166\n",
      "chromosome_1\tphytozomev10\tthree_prime_UTR\t19949\t20237\t.\t+\t.\tID=Cre01.g000017.t1.1.v5.5.three_prime_UTR.1;Parent=Cre01.g000017.t1.1.v5.5;pacid=30789166\n",
      "chromosome_1\tphytozomev10\tgene\t20356\t23957\t.\t+\t.\tID=Cre01.g000033.v5.5;Name=Cre01.g000033\n",
      "chromosome_1\tphytozomev10\tmRNA\t20356\t23957\t.\t+\t.\tID=Cre01.g000033.t1.1.v5.5;Name=Cre01.g000033.t1.1;pacid=30788883;longest=1;Parent=Cre01.g000033.v5.5\n",
      "cat: write error: Broken pipe\n"
     ]
    }
   ],
   "source": [
    "%cat $file_gff_old | head"
   ]
  },
  {
   "cell_type": "code",
   "execution_count": null,
   "metadata": {
    "collapsed": true
   },
   "outputs": [],
   "source": []
  }
 ],
 "metadata": {
  "kernelspec": {
   "display_name": "Python 2",
   "language": "python",
   "name": "python2"
  },
  "language_info": {
   "codemirror_mode": {
    "name": "ipython",
    "version": 2
   },
   "file_extension": ".py",
   "mimetype": "text/x-python",
   "name": "python",
   "nbconvert_exporter": "python",
   "pygments_lexer": "ipython2",
   "version": "2.7.6"
  }
 },
 "nbformat": 4,
 "nbformat_minor": 0
}
