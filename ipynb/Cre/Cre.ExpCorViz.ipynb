{
 "cells": [
  {
   "cell_type": "code",
   "execution_count": 1,
   "metadata": {
    "collapsed": false
   },
   "outputs": [
    {
     "name": "stderr",
     "output_type": "stream",
     "text": [
      "/usr/local/lib/python2.7/dist-packages/matplotlib/__init__.py:872: UserWarning: axes.color_cycle is deprecated and replaced with axes.prop_cycle; please use the latter.\n",
      "  warnings.warn(self.msg_depr % (key, alt_key))\n"
     ]
    }
   ],
   "source": [
    "%matplotlib inline\n",
    "import numpy as np\n",
    "import pandas as pd\n",
    "import matplotlib.pyplot as plt\n",
    "import seaborn as sns\n",
    "colors = sns.color_palette(\"deep\", 20)\n",
    "#colors = sns.choose_colorbrewer_palette('qualitative') #{‘sequential’, ‘diverging’, ‘qualitative’}\n",
    "sns.set(context=\"poster\")\n",
    "## 다음도 스타일 주는법\n",
    "import matplotlib\n",
    "matplotlib.style.use('ggplot') "
   ]
  },
  {
   "cell_type": "code",
   "execution_count": 5,
   "metadata": {
    "collapsed": false
   },
   "outputs": [
    {
     "data": {
      "text/html": [
       "<div>\n",
       "<table border=\"1\" class=\"dataframe\">\n",
       "  <thead>\n",
       "    <tr style=\"text-align: right;\">\n",
       "      <th></th>\n",
       "      <th>gene</th>\n",
       "      <th>geneLeft</th>\n",
       "      <th>geneRight</th>\n",
       "      <th>GeneLeftCor</th>\n",
       "      <th>GeneRightCor</th>\n",
       "    </tr>\n",
       "  </thead>\n",
       "  <tbody>\n",
       "    <tr>\n",
       "      <th>0</th>\n",
       "      <td>Cre30.g757997</td>\n",
       "      <td>None</td>\n",
       "      <td>Cre30.g758047</td>\n",
       "      <td>None</td>\n",
       "      <td>0.511579398584</td>\n",
       "    </tr>\n",
       "    <tr>\n",
       "      <th>1</th>\n",
       "      <td>Cre30.g758047</td>\n",
       "      <td>Cre30.g757997</td>\n",
       "      <td>Cre30.g758097</td>\n",
       "      <td>0.511579398584</td>\n",
       "      <td>-0.607835652029</td>\n",
       "    </tr>\n",
       "    <tr>\n",
       "      <th>2</th>\n",
       "      <td>Cre30.g758097</td>\n",
       "      <td>Cre30.g758047</td>\n",
       "      <td>Cre30.g758147</td>\n",
       "      <td>-0.607835652029</td>\n",
       "      <td>-0.2254877808</td>\n",
       "    </tr>\n",
       "    <tr>\n",
       "      <th>3</th>\n",
       "      <td>Cre30.g758147</td>\n",
       "      <td>Cre30.g758097</td>\n",
       "      <td>Cre30.g758197</td>\n",
       "      <td>-0.2254877808</td>\n",
       "      <td>-0.152443950461</td>\n",
       "    </tr>\n",
       "    <tr>\n",
       "      <th>4</th>\n",
       "      <td>Cre30.g758197</td>\n",
       "      <td>Cre30.g758147</td>\n",
       "      <td>Cre30.g758247</td>\n",
       "      <td>-0.152443950461</td>\n",
       "      <td>-0.142834785444</td>\n",
       "    </tr>\n",
       "  </tbody>\n",
       "</table>\n",
       "</div>"
      ],
      "text/plain": [
       "            gene       geneLeft      geneRight      GeneLeftCor  \\\n",
       "0  Cre30.g757997           None  Cre30.g758047             None   \n",
       "1  Cre30.g758047  Cre30.g757997  Cre30.g758097   0.511579398584   \n",
       "2  Cre30.g758097  Cre30.g758047  Cre30.g758147  -0.607835652029   \n",
       "3  Cre30.g758147  Cre30.g758097  Cre30.g758197    -0.2254877808   \n",
       "4  Cre30.g758197  Cre30.g758147  Cre30.g758247  -0.152443950461   \n",
       "\n",
       "      GeneRightCor  \n",
       "0   0.511579398584  \n",
       "1  -0.607835652029  \n",
       "2    -0.2254877808  \n",
       "3  -0.152443950461  \n",
       "4  -0.142834785444  "
      ]
     },
     "execution_count": 5,
     "metadata": {},
     "output_type": "execute_result"
    }
   ],
   "source": [
    "file_cor_neighbor = 'gene_cor_neighbor.txt'\n",
    "df_cor_neighbor = pd.read_csv(file_cor_neighbor,sep='\\t')\n",
    "df_cor_neighbor.head()"
   ]
  },
  {
   "cell_type": "code",
   "execution_count": 15,
   "metadata": {
    "collapsed": false
   },
   "outputs": [
    {
     "data": {
      "text/html": [
       "<div>\n",
       "<table border=\"1\" class=\"dataframe\">\n",
       "  <thead>\n",
       "    <tr style=\"text-align: right;\">\n",
       "      <th></th>\n",
       "      <th>gene</th>\n",
       "      <th>geneLeft</th>\n",
       "      <th>geneRight</th>\n",
       "      <th>GeneLeftCor</th>\n",
       "      <th>GeneRightCor</th>\n",
       "    </tr>\n",
       "  </thead>\n",
       "  <tbody>\n",
       "    <tr>\n",
       "      <th>134</th>\n",
       "      <td>Cre15.g639750</td>\n",
       "      <td>Cre15.g639802</td>\n",
       "      <td>Cre15.g639700</td>\n",
       "      <td>0.98102328984</td>\n",
       "      <td>0.951724474225</td>\n",
       "    </tr>\n",
       "    <tr>\n",
       "      <th>162</th>\n",
       "      <td>Cre15.g638750</td>\n",
       "      <td>Cre15.g638956</td>\n",
       "      <td>Cre15.g638700</td>\n",
       "      <td>0.955171190434</td>\n",
       "      <td>0.965524572914</td>\n",
       "    </tr>\n",
       "    <tr>\n",
       "      <th>871</th>\n",
       "      <td>Cre14.g634322</td>\n",
       "      <td>Cre14.g634279</td>\n",
       "      <td>Cre14.g634365</td>\n",
       "      <td>0.986443381402</td>\n",
       "      <td>0.995663391952</td>\n",
       "    </tr>\n",
       "    <tr>\n",
       "      <th>6641</th>\n",
       "      <td>Cre12.g523800</td>\n",
       "      <td>Cre12.g523750</td>\n",
       "      <td>Cre12.g523816</td>\n",
       "      <td>0.982628251441</td>\n",
       "      <td>0.956294487793</td>\n",
       "    </tr>\n",
       "    <tr>\n",
       "      <th>7636</th>\n",
       "      <td>Cre05.g233602</td>\n",
       "      <td>Cre05.g233502</td>\n",
       "      <td>Cre05.g233702</td>\n",
       "      <td>0.994288231518</td>\n",
       "      <td>0.994781526631</td>\n",
       "    </tr>\n",
       "    <tr>\n",
       "      <th>7637</th>\n",
       "      <td>Cre05.g233702</td>\n",
       "      <td>Cre05.g233602</td>\n",
       "      <td>Cre05.g233802</td>\n",
       "      <td>0.994781526631</td>\n",
       "      <td>0.996402618542</td>\n",
       "    </tr>\n",
       "    <tr>\n",
       "      <th>9083</th>\n",
       "      <td>Cre07.g329217</td>\n",
       "      <td>Cre07.g329200</td>\n",
       "      <td>Cre07.g329233</td>\n",
       "      <td>0.99739752873</td>\n",
       "      <td>0.995090789</td>\n",
       "    </tr>\n",
       "    <tr>\n",
       "      <th>12327</th>\n",
       "      <td>Cre01.g046501</td>\n",
       "      <td>Cre01.g046500</td>\n",
       "      <td>Cre01.g046502</td>\n",
       "      <td>0.963470964129</td>\n",
       "      <td>0.997321659705</td>\n",
       "    </tr>\n",
       "    <tr>\n",
       "      <th>15692</th>\n",
       "      <td>Cre09.g386741</td>\n",
       "      <td>Cre09.g386740</td>\n",
       "      <td>Cre09.g386742</td>\n",
       "      <td>0.955693403419</td>\n",
       "      <td>0.989633627185</td>\n",
       "    </tr>\n",
       "    <tr>\n",
       "      <th>16889</th>\n",
       "      <td>Cre08.g358542</td>\n",
       "      <td>Cre08.g358541</td>\n",
       "      <td>Cre08.g358543</td>\n",
       "      <td>0.980314929085</td>\n",
       "      <td>0.978855896441</td>\n",
       "    </tr>\n",
       "    <tr>\n",
       "      <th>17728</th>\n",
       "      <td>Cre27.g757347</td>\n",
       "      <td>Cre27.g757297</td>\n",
       "      <td>Cre27.g757397</td>\n",
       "      <td>0.963751606683</td>\n",
       "      <td>0.986034974292</td>\n",
       "    </tr>\n",
       "  </tbody>\n",
       "</table>\n",
       "</div>"
      ],
      "text/plain": [
       "                gene       geneLeft      geneRight     GeneLeftCor  \\\n",
       "134    Cre15.g639750  Cre15.g639802  Cre15.g639700   0.98102328984   \n",
       "162    Cre15.g638750  Cre15.g638956  Cre15.g638700  0.955171190434   \n",
       "871    Cre14.g634322  Cre14.g634279  Cre14.g634365  0.986443381402   \n",
       "6641   Cre12.g523800  Cre12.g523750  Cre12.g523816  0.982628251441   \n",
       "7636   Cre05.g233602  Cre05.g233502  Cre05.g233702  0.994288231518   \n",
       "7637   Cre05.g233702  Cre05.g233602  Cre05.g233802  0.994781526631   \n",
       "9083   Cre07.g329217  Cre07.g329200  Cre07.g329233   0.99739752873   \n",
       "12327  Cre01.g046501  Cre01.g046500  Cre01.g046502  0.963470964129   \n",
       "15692  Cre09.g386741  Cre09.g386740  Cre09.g386742  0.955693403419   \n",
       "16889  Cre08.g358542  Cre08.g358541  Cre08.g358543  0.980314929085   \n",
       "17728  Cre27.g757347  Cre27.g757297  Cre27.g757397  0.963751606683   \n",
       "\n",
       "         GeneRightCor  \n",
       "134    0.951724474225  \n",
       "162    0.965524572914  \n",
       "871    0.995663391952  \n",
       "6641   0.956294487793  \n",
       "7636   0.994781526631  \n",
       "7637   0.996402618542  \n",
       "9083      0.995090789  \n",
       "12327  0.997321659705  \n",
       "15692  0.989633627185  \n",
       "16889  0.978855896441  \n",
       "17728  0.986034974292  "
      ]
     },
     "execution_count": 15,
     "metadata": {},
     "output_type": "execute_result"
    }
   ],
   "source": [
    "mask = (df_cor_neighbor['geneLeft'] != 'None')\n",
    "df_cor_neighbor = df_cor_neighbor[mask]\n",
    "mask = (df_cor_neighbor['geneRight'] != 'None')\n",
    "df_cor_neighbor = df_cor_neighbor[mask]\n",
    "mask = (df_cor_neighbor['GeneLeftCor'].astype(float) > 0.95) & (df_cor_neighbor['GeneRightCor'].astype(float) > 0.95)\n",
    "df_cor_neighbor[mask]"
   ]
  },
  {
   "cell_type": "code",
   "execution_count": null,
   "metadata": {
    "collapsed": true
   },
   "outputs": [],
   "source": [
    "file_design = 'guru.design.txt'\n",
    "df_design = pd.read_csv(file_design,sep='\\t',index_col=0,header=None,skiprows=1)\n",
    "df_design.head(10)"
   ]
  },
  {
   "cell_type": "code",
   "execution_count": null,
   "metadata": {
    "collapsed": false
   },
   "outputs": [],
   "source": [
    "x_label = [','.join(df_design.loc[x.split('_')[0]][[1,2]]) for x in df_exp_table.columns.values]"
   ]
  },
  {
   "cell_type": "code",
   "execution_count": null,
   "metadata": {
    "collapsed": false
   },
   "outputs": [],
   "source": [
    "# sample 별 expression distribution\n",
    "file_exp_table = '../guru/DE_genes.fpkm.txt'\n",
    "df_exp_table = pd.read_csv(file_exp_table,sep='\\t',index_col=0)\n",
    "genes = 'Cre05.g233602,Cre05.g233502,Cre05.g233702,Cre05.g233702,Cre05.g233602,Cre05.g233802,Cre05.g233802,Cre05.g233702,Cre05.g233902'\n",
    "#genes = ['Cre02.g142146', 'Cre02.g142166']\n",
    "genes = list(set(genes.split(',')))\n",
    "fig,axs = plt.subplots(len(genes),sharex=True,figsize=(20,12))\n",
    "\n",
    "for i,ax in enumerate(axs):\n",
    "    y = df_exp_table.loc[genes[i]]\n",
    "    x = np.arange(len(y))\n",
    "    ax.bar(x,y,color=colors[i])\n",
    "    ax.set_title(genes[i])\n",
    "    ax.set_xticks(x+0.6)\n",
    "    ax.set_xticklabels(x_label, rotation=60,ha='right')\n",
    "plt.tight_layout()"
   ]
  },
  {
   "cell_type": "code",
   "execution_count": null,
   "metadata": {
    "collapsed": true
   },
   "outputs": [],
   "source": [
    "# Corelation value distribution\n",
    "df_cor = pd.read_csv('CorFitbayes.csv',index_col=0)"
   ]
  },
  {
   "cell_type": "code",
   "execution_count": null,
   "metadata": {
    "collapsed": false
   },
   "outputs": [],
   "source": [
    "df_cor.head()"
   ]
  },
  {
   "cell_type": "code",
   "execution_count": null,
   "metadata": {
    "collapsed": false
   },
   "outputs": [],
   "source": [
    "cor_dist = df_cor.values[np.tril_indices_from(df_cor,-1)]"
   ]
  },
  {
   "cell_type": "code",
   "execution_count": null,
   "metadata": {
    "collapsed": false
   },
   "outputs": [],
   "source": [
    "plt.hist(cor_dist,50)"
   ]
  },
  {
   "cell_type": "code",
   "execution_count": null,
   "metadata": {
    "collapsed": false
   },
   "outputs": [],
   "source": [
    "df_cor['Cre02.g142146']['Cre02.g142166']"
   ]
  },
  {
   "cell_type": "code",
   "execution_count": null,
   "metadata": {
    "collapsed": true
   },
   "outputs": [],
   "source": []
  }
 ],
 "metadata": {
  "kernelspec": {
   "display_name": "Python 2",
   "language": "python",
   "name": "python2"
  },
  "language_info": {
   "codemirror_mode": {
    "name": "ipython",
    "version": 2
   },
   "file_extension": ".py",
   "mimetype": "text/x-python",
   "name": "python",
   "nbconvert_exporter": "python",
   "pygments_lexer": "ipython2",
   "version": "2.7.6"
  }
 },
 "nbformat": 4,
 "nbformat_minor": 0
}
