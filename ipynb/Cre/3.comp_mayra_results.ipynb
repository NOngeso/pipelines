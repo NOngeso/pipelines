{
 "cells": [
  {
   "cell_type": "code",
   "execution_count": 12,
   "metadata": {
    "collapsed": true
   },
   "outputs": [],
   "source": [
    "%matplotlib inline\n",
    "import pandas as pd"
   ]
  },
  {
   "cell_type": "code",
   "execution_count": 2,
   "metadata": {
    "collapsed": false
   },
   "outputs": [
    {
     "data": {
      "text/plain": [
       "ChlreGene_ID55    Cre11.g468300\n",
       "Name: (P1kCre1+2, 1), dtype: object"
      ]
     },
     "execution_count": 2,
     "metadata": {},
     "output_type": "execute_result"
    }
   ],
   "source": [
    "file_mayra_index = 'mayra.plate.index.txt'\n",
    "df_mayra_index   = pd.read_csv(file_mayra_index,sep='\\t',index_col=['platename','Pos.Nr'])\n",
    "\n",
    "df_mayra_index.loc['P1kCre1+2','1']"
   ]
  },
  {
   "cell_type": "code",
   "execution_count": 3,
   "metadata": {
    "collapsed": true
   },
   "outputs": [],
   "source": [
    "file_mayra_results = 'mayra.pcr.list.txt'\n",
    "df_mayra_results = pd.read_csv(file_mayra_results,sep='\\t')"
   ]
  },
  {
   "cell_type": "code",
   "execution_count": 4,
   "metadata": {
    "collapsed": false
   },
   "outputs": [],
   "source": [
    "df_mayra_results['genename'] = df_mayra_results[['platename','Pos.Nr']].apply(lambda x : df_mayra_index.loc[x['platename'],str(x['Pos.Nr'])],axis=1)"
   ]
  },
  {
   "cell_type": "code",
   "execution_count": 5,
   "metadata": {
    "collapsed": false
   },
   "outputs": [],
   "source": [
    "df_mayra_results = df_mayra_results.set_index('genename')"
   ]
  },
  {
   "cell_type": "code",
   "execution_count": 6,
   "metadata": {
    "collapsed": true
   },
   "outputs": [],
   "source": [
    "file_est_cov = 'est_cov.ver2.txt'\n",
    "df_est_cov = pd.read_csv(file_est_cov,sep='\\t',header=None)"
   ]
  },
  {
   "cell_type": "code",
   "execution_count": 7,
   "metadata": {
    "collapsed": true
   },
   "outputs": [],
   "source": [
    "def getit(x,col):\n",
    "    try:\n",
    "        return df_mayra_results.loc['.'.join(x.split('.')[0:2])][col]\n",
    "    except KeyError:\n",
    "        return 'No result yet'"
   ]
  },
  {
   "cell_type": "code",
   "execution_count": 8,
   "metadata": {
    "collapsed": false
   },
   "outputs": [],
   "source": [
    "col = 'right size'\n",
    "df_est_cov[col] = df_est_cov[0].apply(lambda x :getit(x,col))\n",
    "col = 'band - wrong size'\n",
    "df_est_cov[col] = df_est_cov[0].apply(lambda x :getit(x,col))\n",
    "col = 'no band'\n",
    "df_est_cov[col] = df_est_cov[0].apply(lambda x :getit(x,col))\n"
   ]
  },
  {
   "cell_type": "code",
   "execution_count": 9,
   "metadata": {
    "collapsed": false
   },
   "outputs": [],
   "source": [
    "df_est_cov.to_csv(file_est_cov+'.addmayraresult.txt',sep='\\t')"
   ]
  },
  {
   "cell_type": "code",
   "execution_count": null,
   "metadata": {
    "collapsed": false
   },
   "outputs": [],
   "source": [
    "df_mayra_results.loc['Cre09.g410650']"
   ]
  },
  {
   "cell_type": "code",
   "execution_count": 10,
   "metadata": {
    "collapsed": false
   },
   "outputs": [
    {
     "data": {
      "text/html": [
       "<div>\n",
       "<table border=\"1\" class=\"dataframe\">\n",
       "  <thead>\n",
       "    <tr style=\"text-align: right;\">\n",
       "      <th></th>\n",
       "      <th>0</th>\n",
       "      <th>1</th>\n",
       "      <th>2</th>\n",
       "      <th>3</th>\n",
       "      <th>4</th>\n",
       "      <th>5</th>\n",
       "      <th>6</th>\n",
       "      <th>7</th>\n",
       "      <th>8</th>\n",
       "      <th>right size</th>\n",
       "      <th>band - wrong size</th>\n",
       "      <th>no band</th>\n",
       "    </tr>\n",
       "  </thead>\n",
       "  <tbody>\n",
       "    <tr>\n",
       "      <th>0</th>\n",
       "      <td>Cre15.g636750.t1.2.v5.5</td>\n",
       "      <td>1.000000</td>\n",
       "      <td>0.00949367088608</td>\n",
       "      <td>9.23714759536</td>\n",
       "      <td>0.00949367088608</td>\n",
       "      <td>Cre15.g636700</td>\n",
       "      <td>Cre15.g636800</td>\n",
       "      <td>0.0808429795852</td>\n",
       "      <td>0.546664804663</td>\n",
       "      <td>No result yet</td>\n",
       "      <td>No result yet</td>\n",
       "      <td>No result yet</td>\n",
       "    </tr>\n",
       "    <tr>\n",
       "      <th>1</th>\n",
       "      <td>Cre13.g575333.t1.1.v5.5</td>\n",
       "      <td>1.000000</td>\n",
       "      <td>0.554198473282</td>\n",
       "      <td>6.45261437908</td>\n",
       "      <td>0.673282442748</td>\n",
       "      <td>Cre13.g575300</td>\n",
       "      <td>Cre13.g575366</td>\n",
       "      <td>0.0674227226001</td>\n",
       "      <td>0.223591269701</td>\n",
       "      <td>No result yet</td>\n",
       "      <td>No result yet</td>\n",
       "      <td>No result yet</td>\n",
       "    </tr>\n",
       "    <tr>\n",
       "      <th>2</th>\n",
       "      <td>Cre16.g657800.t1.1.v5.5</td>\n",
       "      <td>0.982792</td>\n",
       "      <td>0.08</td>\n",
       "      <td>2.25493945188</td>\n",
       "      <td>0.08</td>\n",
       "      <td>Cre16.g657750</td>\n",
       "      <td>Cre16.g657850</td>\n",
       "      <td>0.694013609721</td>\n",
       "      <td>-0.491532697726</td>\n",
       "      <td>0</td>\n",
       "      <td>1</td>\n",
       "      <td>NaN</td>\n",
       "    </tr>\n",
       "    <tr>\n",
       "      <th>3</th>\n",
       "      <td>Cre02.g076250.t1.1.v5.5</td>\n",
       "      <td>1.000000</td>\n",
       "      <td>0.324687355257</td>\n",
       "      <td>47.9536679537</td>\n",
       "      <td>0.330708661417</td>\n",
       "      <td>Cre02.g076200</td>\n",
       "      <td>Cre02.g076300</td>\n",
       "      <td>-0.654345416953</td>\n",
       "      <td>0.526620719188</td>\n",
       "      <td>No result yet</td>\n",
       "      <td>No result yet</td>\n",
       "      <td>No result yet</td>\n",
       "    </tr>\n",
       "    <tr>\n",
       "      <th>4</th>\n",
       "      <td>Cre09.g390912.t1.1.v5.5</td>\n",
       "      <td>1.000000</td>\n",
       "      <td>0.201830663616</td>\n",
       "      <td>3.49635324266</td>\n",
       "      <td>0.203661327231</td>\n",
       "      <td>Cre09.g390875</td>\n",
       "      <td>Cre09.g390949</td>\n",
       "      <td>-0.263022403471</td>\n",
       "      <td>0.198574895738</td>\n",
       "      <td>No result yet</td>\n",
       "      <td>No result yet</td>\n",
       "      <td>No result yet</td>\n",
       "    </tr>\n",
       "  </tbody>\n",
       "</table>\n",
       "</div>"
      ],
      "text/plain": [
       "                         0         1                 2              3  \\\n",
       "0  Cre15.g636750.t1.2.v5.5  1.000000  0.00949367088608  9.23714759536   \n",
       "1  Cre13.g575333.t1.1.v5.5  1.000000    0.554198473282  6.45261437908   \n",
       "2  Cre16.g657800.t1.1.v5.5  0.982792              0.08  2.25493945188   \n",
       "3  Cre02.g076250.t1.1.v5.5  1.000000    0.324687355257  47.9536679537   \n",
       "4  Cre09.g390912.t1.1.v5.5  1.000000    0.201830663616  3.49635324266   \n",
       "\n",
       "                  4              5              6                7  \\\n",
       "0  0.00949367088608  Cre15.g636700  Cre15.g636800  0.0808429795852   \n",
       "1    0.673282442748  Cre13.g575300  Cre13.g575366  0.0674227226001   \n",
       "2              0.08  Cre16.g657750  Cre16.g657850   0.694013609721   \n",
       "3    0.330708661417  Cre02.g076200  Cre02.g076300  -0.654345416953   \n",
       "4    0.203661327231  Cre09.g390875  Cre09.g390949  -0.263022403471   \n",
       "\n",
       "                 8     right size band - wrong size        no band  \n",
       "0   0.546664804663  No result yet     No result yet  No result yet  \n",
       "1   0.223591269701  No result yet     No result yet  No result yet  \n",
       "2  -0.491532697726              0                 1            NaN  \n",
       "3   0.526620719188  No result yet     No result yet  No result yet  \n",
       "4   0.198574895738  No result yet     No result yet  No result yet  "
      ]
     },
     "execution_count": 10,
     "metadata": {},
     "output_type": "execute_result"
    }
   ],
   "source": [
    "df_est_cov.head()"
   ]
  },
  {
   "cell_type": "code",
   "execution_count": 24,
   "metadata": {
    "collapsed": false
   },
   "outputs": [],
   "source": [
    "def get_dr(f):\n",
    "    try:\n",
    "        return float(f[3]) / (float(f[4])+0.0000000000001)\n",
    "    except:\n",
    "        return 'NA'\n",
    "df_est_cov['depth ratio'] = df_est_cov[[3,4]].apply(get_dr,axis=1)"
   ]
  },
  {
   "cell_type": "code",
   "execution_count": 25,
   "metadata": {
    "collapsed": false
   },
   "outputs": [
    {
     "data": {
      "text/html": [
       "<div>\n",
       "<table border=\"1\" class=\"dataframe\">\n",
       "  <thead>\n",
       "    <tr style=\"text-align: right;\">\n",
       "      <th></th>\n",
       "      <th>0</th>\n",
       "      <th>1</th>\n",
       "      <th>2</th>\n",
       "      <th>3</th>\n",
       "      <th>4</th>\n",
       "      <th>5</th>\n",
       "      <th>6</th>\n",
       "      <th>7</th>\n",
       "      <th>8</th>\n",
       "      <th>right size</th>\n",
       "      <th>band - wrong size</th>\n",
       "      <th>no band</th>\n",
       "      <th>depth ratio</th>\n",
       "    </tr>\n",
       "  </thead>\n",
       "  <tbody>\n",
       "    <tr>\n",
       "      <th>0</th>\n",
       "      <td>Cre15.g636750.t1.2.v5.5</td>\n",
       "      <td>1.000000</td>\n",
       "      <td>0.00949367088608</td>\n",
       "      <td>9.23714759536</td>\n",
       "      <td>0.00949367088608</td>\n",
       "      <td>Cre15.g636700</td>\n",
       "      <td>Cre15.g636800</td>\n",
       "      <td>0.0808429795852</td>\n",
       "      <td>0.546664804663</td>\n",
       "      <td>No result yet</td>\n",
       "      <td>No result yet</td>\n",
       "      <td>No result yet</td>\n",
       "      <td>972.98</td>\n",
       "    </tr>\n",
       "    <tr>\n",
       "      <th>1</th>\n",
       "      <td>Cre13.g575333.t1.1.v5.5</td>\n",
       "      <td>1.000000</td>\n",
       "      <td>0.554198473282</td>\n",
       "      <td>6.45261437908</td>\n",
       "      <td>0.673282442748</td>\n",
       "      <td>Cre13.g575300</td>\n",
       "      <td>Cre13.g575366</td>\n",
       "      <td>0.0674227226001</td>\n",
       "      <td>0.223591269701</td>\n",
       "      <td>No result yet</td>\n",
       "      <td>No result yet</td>\n",
       "      <td>No result yet</td>\n",
       "      <td>9.58382</td>\n",
       "    </tr>\n",
       "    <tr>\n",
       "      <th>2</th>\n",
       "      <td>Cre16.g657800.t1.1.v5.5</td>\n",
       "      <td>0.982792</td>\n",
       "      <td>0.08</td>\n",
       "      <td>2.25493945188</td>\n",
       "      <td>0.08</td>\n",
       "      <td>Cre16.g657750</td>\n",
       "      <td>Cre16.g657850</td>\n",
       "      <td>0.694013609721</td>\n",
       "      <td>-0.491532697726</td>\n",
       "      <td>0</td>\n",
       "      <td>1</td>\n",
       "      <td>NaN</td>\n",
       "      <td>28.1867</td>\n",
       "    </tr>\n",
       "    <tr>\n",
       "      <th>3</th>\n",
       "      <td>Cre02.g076250.t1.1.v5.5</td>\n",
       "      <td>1.000000</td>\n",
       "      <td>0.324687355257</td>\n",
       "      <td>47.9536679537</td>\n",
       "      <td>0.330708661417</td>\n",
       "      <td>Cre02.g076200</td>\n",
       "      <td>Cre02.g076300</td>\n",
       "      <td>-0.654345416953</td>\n",
       "      <td>0.526620719188</td>\n",
       "      <td>No result yet</td>\n",
       "      <td>No result yet</td>\n",
       "      <td>No result yet</td>\n",
       "      <td>145.003</td>\n",
       "    </tr>\n",
       "    <tr>\n",
       "      <th>4</th>\n",
       "      <td>Cre09.g390912.t1.1.v5.5</td>\n",
       "      <td>1.000000</td>\n",
       "      <td>0.201830663616</td>\n",
       "      <td>3.49635324266</td>\n",
       "      <td>0.203661327231</td>\n",
       "      <td>Cre09.g390875</td>\n",
       "      <td>Cre09.g390949</td>\n",
       "      <td>-0.263022403471</td>\n",
       "      <td>0.198574895738</td>\n",
       "      <td>No result yet</td>\n",
       "      <td>No result yet</td>\n",
       "      <td>No result yet</td>\n",
       "      <td>17.1675</td>\n",
       "    </tr>\n",
       "  </tbody>\n",
       "</table>\n",
       "</div>"
      ],
      "text/plain": [
       "                         0         1                 2              3  \\\n",
       "0  Cre15.g636750.t1.2.v5.5  1.000000  0.00949367088608  9.23714759536   \n",
       "1  Cre13.g575333.t1.1.v5.5  1.000000    0.554198473282  6.45261437908   \n",
       "2  Cre16.g657800.t1.1.v5.5  0.982792              0.08  2.25493945188   \n",
       "3  Cre02.g076250.t1.1.v5.5  1.000000    0.324687355257  47.9536679537   \n",
       "4  Cre09.g390912.t1.1.v5.5  1.000000    0.201830663616  3.49635324266   \n",
       "\n",
       "                  4              5              6                7  \\\n",
       "0  0.00949367088608  Cre15.g636700  Cre15.g636800  0.0808429795852   \n",
       "1    0.673282442748  Cre13.g575300  Cre13.g575366  0.0674227226001   \n",
       "2              0.08  Cre16.g657750  Cre16.g657850   0.694013609721   \n",
       "3    0.330708661417  Cre02.g076200  Cre02.g076300  -0.654345416953   \n",
       "4    0.203661327231  Cre09.g390875  Cre09.g390949  -0.263022403471   \n",
       "\n",
       "                 8     right size band - wrong size        no band depth ratio  \n",
       "0   0.546664804663  No result yet     No result yet  No result yet      972.98  \n",
       "1   0.223591269701  No result yet     No result yet  No result yet     9.58382  \n",
       "2  -0.491532697726              0                 1            NaN     28.1867  \n",
       "3   0.526620719188  No result yet     No result yet  No result yet     145.003  \n",
       "4   0.198574895738  No result yet     No result yet  No result yet     17.1675  "
      ]
     },
     "execution_count": 25,
     "metadata": {},
     "output_type": "execute_result"
    }
   ],
   "source": [
    "df_est_cov.head()"
   ]
  },
  {
   "cell_type": "code",
   "execution_count": 38,
   "metadata": {
    "collapsed": false
   },
   "outputs": [],
   "source": [
    "dr = df_est_cov[(df_est_cov['depth ratio'] != 'NA')]['depth ratio']"
   ]
  },
  {
   "cell_type": "code",
   "execution_count": 50,
   "metadata": {
    "collapsed": false
   },
   "outputs": [
    {
     "data": {
      "text/plain": [
       "(array([  7.35700000e+03,   4.12900000e+03,   2.06000000e+03,\n",
       "          1.10300000e+03,   5.89000000e+02,   3.33000000e+02,\n",
       "          2.72000000e+02,   1.83000000e+02,   1.41000000e+02,\n",
       "          1.19000000e+02,   1.00000000e+02,   9.00000000e+01,\n",
       "          7.60000000e+01,   5.50000000e+01,   4.50000000e+01,\n",
       "          3.70000000e+01,   4.10000000e+01,   3.10000000e+01,\n",
       "          2.50000000e+01,   1.80000000e+01,   1.90000000e+01,\n",
       "          1.90000000e+01,   2.10000000e+01,   1.80000000e+01,\n",
       "          1.40000000e+01,   1.50000000e+01,   1.40000000e+01,\n",
       "          1.10000000e+01,   1.60000000e+01,   1.10000000e+01,\n",
       "          5.00000000e+00,   1.20000000e+01,   3.00000000e+00,\n",
       "          9.00000000e+00,   1.20000000e+01,   6.00000000e+00,\n",
       "          6.00000000e+00,   1.20000000e+01,   7.00000000e+00,\n",
       "          6.00000000e+00,   9.00000000e+00,   5.00000000e+00,\n",
       "          5.00000000e+00,   5.00000000e+00,   1.00000000e+00,\n",
       "          8.00000000e+00,   6.00000000e+00,   7.00000000e+00,\n",
       "          4.00000000e+00,   7.00000000e+00,   6.00000000e+00,\n",
       "          7.00000000e+00,   4.00000000e+00,   7.00000000e+00,\n",
       "          2.00000000e+00,   5.00000000e+00,   5.00000000e+00,\n",
       "          2.00000000e+00,   2.00000000e+00]),\n",
       " array([  0,  10,  20,  30,  40,  50,  60,  70,  80,  90, 100, 110, 120,\n",
       "        130, 140, 150, 160, 170, 180, 190, 200, 210, 220, 230, 240, 250,\n",
       "        260, 270, 280, 290, 300, 310, 320, 330, 340, 350, 360, 370, 380,\n",
       "        390, 400, 410, 420, 430, 440, 450, 460, 470, 480, 490, 500, 510,\n",
       "        520, 530, 540, 550, 560, 570, 580, 590]),\n",
       " <a list of 59 Patch objects>)"
      ]
     },
     "execution_count": 50,
     "metadata": {},
     "output_type": "execute_result"
    },
    {
     "data": {
      "image/png": "[encoded data removed]",
      "text/plain": [
       "<matplotlib.figure.Figure at 0x7f8ac05392d0>"
      ]
     },
     "metadata": {},
     "output_type": "display_data"
    }
   ],
   "source": [
    "%matplotlib inline\n",
    "import numpy as np\n",
    "import pandas as pd\n",
    "import matplotlib.pyplot as plt\n",
    "import seaborn as sns\n",
    "colors = sns.color_palette(\"deep\", 20)\n",
    "#colors = sns.choose_colorbrewer_palette('qualitative') #{‘sequential’, ‘diverging’, ‘qualitative’}\n",
    "sns.set(context=\"poster\")\n",
    "sns.set_style(\"dark\")\n",
    "## 다음도 스타일 주는법\n",
    "import matplotlib\n",
    "matplotlib.style.use('ggplot') \n",
    "plt.xlim(0,600)\n",
    "plt.hist(dr,bins=np.arange(0,600,10))"
   ]
  },
  {
   "cell_type": "code",
   "execution_count": null,
   "metadata": {
    "collapsed": true
   },
   "outputs": [],
   "source": []
  }
 ],
 "metadata": {
  "kernelspec": {
   "display_name": "Python 2",
   "language": "python",
   "name": "python2"
  },
  "language_info": {
   "codemirror_mode": {
    "name": "ipython",
    "version": 2
   },
   "file_extension": ".py",
   "mimetype": "text/x-python",
   "name": "python",
   "nbconvert_exporter": "python",
   "pygments_lexer": "ipython2",
   "version": "2.7.6"
  }
 },
 "nbformat": 4,
 "nbformat_minor": 0
}
