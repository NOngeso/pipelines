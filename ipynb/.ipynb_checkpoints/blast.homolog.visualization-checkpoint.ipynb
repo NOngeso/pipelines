{
 "cells": [
  {
   "cell_type": "markdown",
   "metadata": {},
   "source": [
    "**homolog visualization for certain sigle gene as input**\n",
    "- need to have 'distance value' from input gene and matched gene with blast output. \n",
    "- the distance values should be comparable with other input gene. \n",
    "\n",
    "\n",
    "using \n",
    "\n",
    "```\n",
    "modified similarity measure = (similarity*2*alignment_length) / (query_length + subject_length)\n",
    "```"
   ]
  },
  {
   "cell_type": "code",
   "execution_count": 1,
   "metadata": {
    "collapsed": true
   },
   "outputs": [],
   "source": [
    "import pandas as pd"
   ]
  },
  {
   "cell_type": "code",
   "execution_count": 2,
   "metadata": {
    "collapsed": true
   },
   "outputs": [],
   "source": [
    "file_bo = '../../DroughtNet/blast/Athaliana_167.fa.pep.fa.bp.ev1e5.out7.rmsharp.txt'\n",
    "df_bo   = pd.read_csv(file_bo,sep='\\t',header=None)"
   ]
  },
  {
   "cell_type": "code",
   "execution_count": 3,
   "metadata": {
    "collapsed": false
   },
   "outputs": [
    {
     "data": {
      "text/html": [
       "<div>\n",
       "<table border=\"1\" class=\"dataframe\">\n",
       "  <thead>\n",
       "    <tr style=\"text-align: right;\">\n",
       "      <th></th>\n",
       "      <th>0</th>\n",
       "      <th>1</th>\n",
       "      <th>2</th>\n",
       "      <th>3</th>\n",
       "      <th>4</th>\n",
       "      <th>5</th>\n",
       "      <th>6</th>\n",
       "      <th>7</th>\n",
       "      <th>8</th>\n",
       "      <th>9</th>\n",
       "      <th>10</th>\n",
       "      <th>11</th>\n",
       "    </tr>\n",
       "  </thead>\n",
       "  <tbody>\n",
       "    <tr>\n",
       "      <th>0</th>\n",
       "      <td>AT4G04480.1</td>\n",
       "      <td>AT4G04480.1</td>\n",
       "      <td>100.00</td>\n",
       "      <td>399</td>\n",
       "      <td>0</td>\n",
       "      <td>0</td>\n",
       "      <td>1</td>\n",
       "      <td>399</td>\n",
       "      <td>1</td>\n",
       "      <td>399</td>\n",
       "      <td>0.000000e+00</td>\n",
       "      <td>805</td>\n",
       "    </tr>\n",
       "    <tr>\n",
       "      <th>1</th>\n",
       "      <td>AT4G04480.1</td>\n",
       "      <td>AT4G22030.1</td>\n",
       "      <td>72.57</td>\n",
       "      <td>412</td>\n",
       "      <td>94</td>\n",
       "      <td>8</td>\n",
       "      <td>1</td>\n",
       "      <td>394</td>\n",
       "      <td>1</td>\n",
       "      <td>411</td>\n",
       "      <td>0.000000e+00</td>\n",
       "      <td>578</td>\n",
       "    </tr>\n",
       "    <tr>\n",
       "      <th>2</th>\n",
       "      <td>AT1G31380.1</td>\n",
       "      <td>AT1G31380.1</td>\n",
       "      <td>100.00</td>\n",
       "      <td>176</td>\n",
       "      <td>0</td>\n",
       "      <td>0</td>\n",
       "      <td>1</td>\n",
       "      <td>176</td>\n",
       "      <td>1</td>\n",
       "      <td>176</td>\n",
       "      <td>5.000000e-125</td>\n",
       "      <td>353</td>\n",
       "    </tr>\n",
       "    <tr>\n",
       "      <th>3</th>\n",
       "      <td>AT1G31380.1</td>\n",
       "      <td>AT1G31400.1</td>\n",
       "      <td>68.39</td>\n",
       "      <td>155</td>\n",
       "      <td>46</td>\n",
       "      <td>1</td>\n",
       "      <td>1</td>\n",
       "      <td>155</td>\n",
       "      <td>109</td>\n",
       "      <td>260</td>\n",
       "      <td>3.000000e-67</td>\n",
       "      <td>209</td>\n",
       "    </tr>\n",
       "    <tr>\n",
       "      <th>4</th>\n",
       "      <td>AT1G31380.1</td>\n",
       "      <td>AT1G31370.1</td>\n",
       "      <td>80.15</td>\n",
       "      <td>131</td>\n",
       "      <td>24</td>\n",
       "      <td>1</td>\n",
       "      <td>1</td>\n",
       "      <td>129</td>\n",
       "      <td>63</td>\n",
       "      <td>193</td>\n",
       "      <td>5.000000e-64</td>\n",
       "      <td>198</td>\n",
       "    </tr>\n",
       "  </tbody>\n",
       "</table>\n",
       "</div>"
      ],
      "text/plain": [
       "            0            1       2    3   4   5   6    7    8    9   \\\n",
       "0  AT4G04480.1  AT4G04480.1  100.00  399   0   0   1  399    1  399   \n",
       "1  AT4G04480.1  AT4G22030.1   72.57  412  94   8   1  394    1  411   \n",
       "2  AT1G31380.1  AT1G31380.1  100.00  176   0   0   1  176    1  176   \n",
       "3  AT1G31380.1  AT1G31400.1   68.39  155  46   1   1  155  109  260   \n",
       "4  AT1G31380.1  AT1G31370.1   80.15  131  24   1   1  129   63  193   \n",
       "\n",
       "              10   11  \n",
       "0   0.000000e+00  805  \n",
       "1   0.000000e+00  578  \n",
       "2  5.000000e-125  353  \n",
       "3   3.000000e-67  209  \n",
       "4   5.000000e-64  198  "
      ]
     },
     "execution_count": 3,
     "metadata": {},
     "output_type": "execute_result"
    }
   ],
   "source": [
    "df_bo.head()"
   ]
  },
  {
   "cell_type": "code",
   "execution_count": 4,
   "metadata": {
    "collapsed": true
   },
   "outputs": [],
   "source": [
    "file_gff = '../../DroughtNet/PhytozomeV10_download/PhytozomeV10/Athaliana/annotation/Athaliana_167_TAIR10.gene.gff3'"
   ]
  },
  {
   "cell_type": "code",
   "execution_count": 6,
   "metadata": {
    "collapsed": false
   },
   "outputs": [
    {
     "data": {
      "text/html": [
       "<div>\n",
       "<table border=\"1\" class=\"dataframe\">\n",
       "  <thead>\n",
       "    <tr style=\"text-align: right;\">\n",
       "      <th></th>\n",
       "      <th>0</th>\n",
       "      <th>1</th>\n",
       "      <th>2</th>\n",
       "      <th>3</th>\n",
       "      <th>4</th>\n",
       "      <th>5</th>\n",
       "      <th>6</th>\n",
       "      <th>7</th>\n",
       "      <th>8</th>\n",
       "    </tr>\n",
       "  </thead>\n",
       "  <tbody>\n",
       "    <tr>\n",
       "      <th>0</th>\n",
       "      <td>Chr1</td>\n",
       "      <td>phytozomev10</td>\n",
       "      <td>gene</td>\n",
       "      <td>3631</td>\n",
       "      <td>5899</td>\n",
       "      <td>.</td>\n",
       "      <td>+</td>\n",
       "      <td>.</td>\n",
       "      <td>ID=AT1G01010.TAIR10;Name=AT1G01010</td>\n",
       "    </tr>\n",
       "    <tr>\n",
       "      <th>1</th>\n",
       "      <td>Chr1</td>\n",
       "      <td>phytozomev10</td>\n",
       "      <td>mRNA</td>\n",
       "      <td>3631</td>\n",
       "      <td>5899</td>\n",
       "      <td>.</td>\n",
       "      <td>+</td>\n",
       "      <td>.</td>\n",
       "      <td>ID=AT1G01010.1.TAIR10;Name=AT1G01010.1;pacid=1...</td>\n",
       "    </tr>\n",
       "    <tr>\n",
       "      <th>2</th>\n",
       "      <td>Chr1</td>\n",
       "      <td>phytozomev10</td>\n",
       "      <td>five_prime_UTR</td>\n",
       "      <td>3631</td>\n",
       "      <td>3759</td>\n",
       "      <td>.</td>\n",
       "      <td>+</td>\n",
       "      <td>.</td>\n",
       "      <td>ID=AT1G01010.1.TAIR10.five_prime_UTR.1;Parent=...</td>\n",
       "    </tr>\n",
       "    <tr>\n",
       "      <th>3</th>\n",
       "      <td>Chr1</td>\n",
       "      <td>phytozomev10</td>\n",
       "      <td>CDS</td>\n",
       "      <td>3760</td>\n",
       "      <td>3913</td>\n",
       "      <td>.</td>\n",
       "      <td>+</td>\n",
       "      <td>0</td>\n",
       "      <td>ID=AT1G01010.1.TAIR10.CDS.1;Parent=AT1G01010.1...</td>\n",
       "    </tr>\n",
       "    <tr>\n",
       "      <th>4</th>\n",
       "      <td>Chr1</td>\n",
       "      <td>phytozomev10</td>\n",
       "      <td>CDS</td>\n",
       "      <td>3996</td>\n",
       "      <td>4276</td>\n",
       "      <td>.</td>\n",
       "      <td>+</td>\n",
       "      <td>2</td>\n",
       "      <td>ID=AT1G01010.1.TAIR10.CDS.2;Parent=AT1G01010.1...</td>\n",
       "    </tr>\n",
       "  </tbody>\n",
       "</table>\n",
       "</div>"
      ],
      "text/plain": [
       "      0             1               2     3     4  5  6  7  \\\n",
       "0  Chr1  phytozomev10            gene  3631  5899  .  +  .   \n",
       "1  Chr1  phytozomev10            mRNA  3631  5899  .  +  .   \n",
       "2  Chr1  phytozomev10  five_prime_UTR  3631  3759  .  +  .   \n",
       "3  Chr1  phytozomev10             CDS  3760  3913  .  +  0   \n",
       "4  Chr1  phytozomev10             CDS  3996  4276  .  +  2   \n",
       "\n",
       "                                                   8  \n",
       "0                 ID=AT1G01010.TAIR10;Name=AT1G01010  \n",
       "1  ID=AT1G01010.1.TAIR10;Name=AT1G01010.1;pacid=1...  \n",
       "2  ID=AT1G01010.1.TAIR10.five_prime_UTR.1;Parent=...  \n",
       "3  ID=AT1G01010.1.TAIR10.CDS.1;Parent=AT1G01010.1...  \n",
       "4  ID=AT1G01010.1.TAIR10.CDS.2;Parent=AT1G01010.1...  "
      ]
     },
     "execution_count": 6,
     "metadata": {},
     "output_type": "execute_result"
    }
   ],
   "source": [
    "df_gff   = pd.read_csv(file_gff,sep='\\t',skiprows=2,header=None)\n",
    "df_gff.head()"
   ]
  },
  {
   "cell_type": "code",
   "execution_count": 8,
   "metadata": {
    "collapsed": false
   },
   "outputs": [
    {
     "data": {
      "text/plain": [
       "'ID=AT1G01010.1.TAIR10;Name=AT1G01010.1;pacid=19656964;longest=1;Parent=AT1G01010.TAIR10'"
      ]
     },
     "execution_count": 8,
     "metadata": {},
     "output_type": "execute_result"
    }
   ],
   "source": [
    "df_gff.loc[1][8]"
   ]
  },
  {
   "cell_type": "code",
   "execution_count": null,
   "metadata": {
    "collapsed": false
   },
   "outputs": [],
   "source": [
    "df_gff['genename'] = df_gff[8].apply(lambda x : x.split(';')[0].replace('ID=','').split('.')[0])\n",
    "df_gff['transcriptname'] = df_gff[8].apply(lambda x : '.'.join(x.split(';')[0].replace('ID=','').split('.')[0:2]))\n",
    "\n",
    "# grep longest transcript names\n",
    "mask        = (df_gff[2] == 'mRNA')\n",
    "df_gff_mRNA = df_gff[mask]\n",
    "df_gff_mRNA['longest'] = df_gff_mRNA[8].apply(lambda x : x.split(';')[3].replace('longest=',''))\n",
    "df_gff_mRNA_index =  df_gff_mRNA.set_index('transcriptname')\n",
    "\n",
    "def get_longest(x):\n",
    "    try:\n",
    "        return df_gff_mRNA_index.loc[x]['longest']\n",
    "    except KeyError:\n",
    "        return None\n",
    "df_gff['longest'] = df_gff['transcriptname'].apply(get_longest)\n",
    "\n"
   ]
  },
  {
   "cell_type": "code",
   "execution_count": 10,
   "metadata": {
    "collapsed": false
   },
   "outputs": [
    {
     "data": {
      "text/html": [
       "<div>\n",
       "<table border=\"1\" class=\"dataframe\">\n",
       "  <thead>\n",
       "    <tr style=\"text-align: right;\">\n",
       "      <th></th>\n",
       "      <th></th>\n",
       "      <th>0</th>\n",
       "      <th>1</th>\n",
       "      <th>2</th>\n",
       "      <th>3</th>\n",
       "      <th>4</th>\n",
       "      <th>5</th>\n",
       "      <th>6</th>\n",
       "      <th>7</th>\n",
       "      <th>8</th>\n",
       "      <th>transcriptname</th>\n",
       "    </tr>\n",
       "    <tr>\n",
       "      <th>genename</th>\n",
       "      <th>longest</th>\n",
       "      <th></th>\n",
       "      <th></th>\n",
       "      <th></th>\n",
       "      <th></th>\n",
       "      <th></th>\n",
       "      <th></th>\n",
       "      <th></th>\n",
       "      <th></th>\n",
       "      <th></th>\n",
       "      <th></th>\n",
       "    </tr>\n",
       "  </thead>\n",
       "  <tbody>\n",
       "    <tr>\n",
       "      <th rowspan=\"5\" valign=\"top\">A.T.1.G.0.1.0.1.0</th>\n",
       "      <th>NaN</th>\n",
       "      <td>Chr1</td>\n",
       "      <td>phytozomev10</td>\n",
       "      <td>gene</td>\n",
       "      <td>3631</td>\n",
       "      <td>5899</td>\n",
       "      <td>.</td>\n",
       "      <td>+</td>\n",
       "      <td>.</td>\n",
       "      <td>ID=AT1G01010.TAIR10;Name=AT1G01010</td>\n",
       "      <td>AT1G01010.TAIR10</td>\n",
       "    </tr>\n",
       "    <tr>\n",
       "      <th>1</th>\n",
       "      <td>Chr1</td>\n",
       "      <td>phytozomev10</td>\n",
       "      <td>mRNA</td>\n",
       "      <td>3631</td>\n",
       "      <td>5899</td>\n",
       "      <td>.</td>\n",
       "      <td>+</td>\n",
       "      <td>.</td>\n",
       "      <td>ID=AT1G01010.1.TAIR10;Name=AT1G01010.1;pacid=1...</td>\n",
       "      <td>AT1G01010.1</td>\n",
       "    </tr>\n",
       "    <tr>\n",
       "      <th>1</th>\n",
       "      <td>Chr1</td>\n",
       "      <td>phytozomev10</td>\n",
       "      <td>five_prime_UTR</td>\n",
       "      <td>3631</td>\n",
       "      <td>3759</td>\n",
       "      <td>.</td>\n",
       "      <td>+</td>\n",
       "      <td>.</td>\n",
       "      <td>ID=AT1G01010.1.TAIR10.five_prime_UTR.1;Parent=...</td>\n",
       "      <td>AT1G01010.1</td>\n",
       "    </tr>\n",
       "    <tr>\n",
       "      <th>1</th>\n",
       "      <td>Chr1</td>\n",
       "      <td>phytozomev10</td>\n",
       "      <td>CDS</td>\n",
       "      <td>3760</td>\n",
       "      <td>3913</td>\n",
       "      <td>.</td>\n",
       "      <td>+</td>\n",
       "      <td>0</td>\n",
       "      <td>ID=AT1G01010.1.TAIR10.CDS.1;Parent=AT1G01010.1...</td>\n",
       "      <td>AT1G01010.1</td>\n",
       "    </tr>\n",
       "    <tr>\n",
       "      <th>1</th>\n",
       "      <td>Chr1</td>\n",
       "      <td>phytozomev10</td>\n",
       "      <td>CDS</td>\n",
       "      <td>3996</td>\n",
       "      <td>4276</td>\n",
       "      <td>.</td>\n",
       "      <td>+</td>\n",
       "      <td>2</td>\n",
       "      <td>ID=AT1G01010.1.TAIR10.CDS.2;Parent=AT1G01010.1...</td>\n",
       "      <td>AT1G01010.1</td>\n",
       "    </tr>\n",
       "  </tbody>\n",
       "</table>\n",
       "</div>"
      ],
      "text/plain": [
       "                              0             1               2     3     4  5  \\\n",
       "genename          longest                                                      \n",
       "A.T.1.G.0.1.0.1.0 NaN      Chr1  phytozomev10            gene  3631  5899  .   \n",
       "                  1        Chr1  phytozomev10            mRNA  3631  5899  .   \n",
       "                  1        Chr1  phytozomev10  five_prime_UTR  3631  3759  .   \n",
       "                  1        Chr1  phytozomev10             CDS  3760  3913  .   \n",
       "                  1        Chr1  phytozomev10             CDS  3996  4276  .   \n",
       "\n",
       "                           6  7  \\\n",
       "genename          longest         \n",
       "A.T.1.G.0.1.0.1.0 NaN      +  .   \n",
       "                  1        +  .   \n",
       "                  1        +  .   \n",
       "                  1        +  0   \n",
       "                  1        +  2   \n",
       "\n",
       "                                                                           8  \\\n",
       "genename          longest                                                      \n",
       "A.T.1.G.0.1.0.1.0 NaN                     ID=AT1G01010.TAIR10;Name=AT1G01010   \n",
       "                  1        ID=AT1G01010.1.TAIR10;Name=AT1G01010.1;pacid=1...   \n",
       "                  1        ID=AT1G01010.1.TAIR10.five_prime_UTR.1;Parent=...   \n",
       "                  1        ID=AT1G01010.1.TAIR10.CDS.1;Parent=AT1G01010.1...   \n",
       "                  1        ID=AT1G01010.1.TAIR10.CDS.2;Parent=AT1G01010.1...   \n",
       "\n",
       "                             transcriptname  \n",
       "genename          longest                    \n",
       "A.T.1.G.0.1.0.1.0 NaN      AT1G01010.TAIR10  \n",
       "                  1             AT1G01010.1  \n",
       "                  1             AT1G01010.1  \n",
       "                  1             AT1G01010.1  \n",
       "                  1             AT1G01010.1  "
      ]
     },
     "execution_count": 10,
     "metadata": {},
     "output_type": "execute_result"
    }
   ],
   "source": [
    "df_gff_index = df_gff.set_index(['genename','longest'])"
   ]
  },
  {
   "cell_type": "code",
   "execution_count": null,
   "metadata": {
    "collapsed": true
   },
   "outputs": [],
   "source": []
  }
 ],
 "metadata": {
  "kernelspec": {
   "display_name": "Python 2",
   "language": "python",
   "name": "python2"
  },
  "language_info": {
   "codemirror_mode": {
    "name": "ipython",
    "version": 2
   },
   "file_extension": ".py",
   "mimetype": "text/x-python",
   "name": "python",
   "nbconvert_exporter": "python",
   "pygments_lexer": "ipython2",
   "version": "2.7.6"
  }
 },
 "nbformat": 4,
 "nbformat_minor": 0
}
