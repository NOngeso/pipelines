{
 "cells": [
  {
   "cell_type": "code",
   "execution_count": 33,
   "metadata": {
    "collapsed": true
   },
   "outputs": [],
   "source": [
    "import pandas as pd\n",
    "basedir = 'D:/analysis/Creinhardtii/'\n",
    "file_cds = basedir + 'primers.sts.cds.out'\n",
    "file_gene = basedir + 'primers.sts.gene.out'\n",
    "file_assem = basedir + 'primers.sts.cdhit.out'\n",
    "df = pd.DataFrame(columns=('genename','# match','CDS','Gene','RNAseq'))\n",
    "df_out = pd.DataFrame(columns=('genename','targets'))\n",
    "df_cds = pd.read_csv(file_cds,sep='\\t',skiprows=1,header=None)\n",
    "df_gene = pd.read_csv(file_gene,sep='\\t',skiprows=1,header=None)\n",
    "df_assem = pd.read_csv(file_assem,sep='\\t',skiprows=1,header=None)"
   ]
  },
  {
   "cell_type": "code",
   "execution_count": null,
   "metadata": {
    "collapsed": false
   },
   "outputs": [],
   "source": [
    "i = 0 \n",
    "i_out = 0\n",
    "dic = {}\n",
    "dic_out = {}\n",
    "for j in df_cds.index.values:\n",
    "    #print j\n",
    "    if df_cds.loc[j][0] == '#- Done' or df_cds.loc[j][0] == '#- sts':\n",
    "        continue\n",
    "    gn  = df_cds.loc[j][0]\n",
    "    tgn = '.'.join(df_cds.loc[j][1].split('.')[0:2])\n",
    "    left = df_cds.loc[j][3]\n",
    "    leng = df_cds.loc[j][7].split('/')[0]\n",
    "    if gn == tgn and left == '1':\n",
    "        try:\n",
    "            ix = dic[gn]\n",
    "            df.loc[(ix,'# match')] += 1\n",
    "            df.loc[ix][2].append(leng)\n",
    "        except KeyError:\n",
    "            df.loc[i] = [gn,1,[leng],[],[]]\n",
    "            dic[gn] = i\n",
    "            i += 1\n",
    "    elif gn != tgn:\n",
    "        try:\n",
    "            ix_out = dic_out[gn]\n",
    "            df_out.loc[(ix_out,'targets')].append(tgn)\n",
    "        except KeyError:\n",
    "            df_out.loc[i_out] = [gn,[tgn]]\n",
    "            dic_out[gn] = i_out\n",
    "            i_out += 1\n",
    "for j in df_gene.index.values:\n",
    "    #print j\n",
    "    if df_gene.loc[j][0] == '#- Done' or df_gene.loc[j][0] == '#- sts':\n",
    "        continue\n",
    "    gn  = df_gene.loc[j][0]\n",
    "    tgn = '.'.join(df_gene.loc[j][1].split('.')[0:2])\n",
    "    left = df_gene.loc[j][3]\n",
    "    leng = df_gene.loc[j][7].split('/')[0]\n",
    "    if gn == tgn:\n",
    "        try:\n",
    "            ix = dic[gn]\n",
    "            #df.loc[ix][1] += 1\n",
    "            df.loc[ix][3].append(leng)\n",
    "        except KeyError:\n",
    "            print '!'\n",
    "            exit()\n",
    "            #df.loc[i] = [gn,1,leng,0,0]\n",
    "            #dic[gn] = i\n",
    "            #i += 1\n",
    "for j in df_assem.index.values:\n",
    "    #print j\n",
    "    if df_assem.loc[j][0] == '#- Done' or df_assem.loc[j][0] == '#- sts':\n",
    "        continue\n",
    "    gn  = df_assem.loc[j][0]\n",
    "    tgn = '.'.join(df_assem.loc[j][1].split('.')[0:2])\n",
    "    left = df_assem.loc[j][3]\n",
    "    leng = df_assem.loc[j][7].split('/')[0]\n",
    "    if 1:\n",
    "        try:\n",
    "            ix = dic[gn]\n",
    "            #df.loc[ix][1] += 1\n",
    "            df.loc[ix][4].append(leng)\n",
    "        except KeyError:\n",
    "            print '!'\n",
    "            pass\n",
    "            #exit()\n",
    "            #df.loc[i] = [gn,1,leng,0,0]\n",
    "            #dic[gn] = i\n",
    "            #i += 1"
   ]
  },
  {
   "cell_type": "code",
   "execution_count": 32,
   "metadata": {
    "collapsed": false
   },
   "outputs": [
    {
     "ename": "NameError",
     "evalue": "name 'mask' is not defined",
     "output_type": "error",
     "traceback": [
      "\u001b[1;31m---------------------------------------------------------------------------\u001b[0m",
      "\u001b[1;31mNameError\u001b[0m                                 Traceback (most recent call last)",
      "\u001b[1;32m<ipython-input-32-cdbb63a01252>\u001b[0m in \u001b[0;36m<module>\u001b[1;34m()\u001b[0m\n\u001b[0;32m      1\u001b[0m \u001b[1;31m#mask = [True if len(x) != 0 else False for x in df['SRR2132418']]\u001b[0m\u001b[1;33m\u001b[0m\u001b[1;33m\u001b[0m\u001b[0m\n\u001b[1;32m----> 2\u001b[1;33m \u001b[0mlen\u001b[0m\u001b[1;33m(\u001b[0m\u001b[0mdf\u001b[0m\u001b[1;33m[\u001b[0m\u001b[0mmask\u001b[0m\u001b[1;33m]\u001b[0m\u001b[1;33m)\u001b[0m\u001b[1;33m\u001b[0m\u001b[0m\n\u001b[0m",
      "\u001b[1;31mNameError\u001b[0m: name 'mask' is not defined"
     ]
    }
   ],
   "source": [
    "mask = [True if len(x) != 0 else False for x in df['SRR2132418']]\n",
    "len(df[mask])"
   ]
  },
  {
   "cell_type": "code",
   "execution_count": 27,
   "metadata": {
    "collapsed": false
   },
   "outputs": [],
   "source": [
    "df_mayra = pd.read_csv(basedir+'mayra_pcr.txt',sep='\\t')"
   ]
  },
  {
   "cell_type": "code",
   "execution_count": 28,
   "metadata": {
    "collapsed": false
   },
   "outputs": [],
   "source": [
    "df_mayra_i = df_mayra.set_index('ChlreGene_ID55')"
   ]
  },
  {
   "cell_type": "code",
   "execution_count": 11,
   "metadata": {
    "collapsed": false
   },
   "outputs": [],
   "source": [
    "mask = (df['# other match'] > 1)"
   ]
  },
  {
   "cell_type": "code",
   "execution_count": 21,
   "metadata": {
    "collapsed": false
   },
   "outputs": [],
   "source": [
    "#df['right_size'] = df['genename'].apply(lambda x : df_mayra_i.loc[x]['right size'])\n",
    "column_in = []\n",
    "for gn in df['genename']:\n",
    "    try:\n",
    "        column_in.append(df_mayra_i.loc[gn]['platename'])\n",
    "    except KeyError:\n",
    "        column_in.append('NaN')\n",
    "df['platename'] = column_in\n",
    "\n",
    "column_in = []\n",
    "for gn in df['genename']:\n",
    "    try:\n",
    "        column_in.append(df_mayra_i.loc[gn]['Pos.Nr'])\n",
    "    except KeyError:\n",
    "        column_in.append('NaN')\n",
    "df['Pos.Nr'] = column_in\n",
    "\n",
    "column_in = []\n",
    "for gn in df['genename']:\n",
    "    try:\n",
    "        column_in.append(df_mayra_i.loc[gn]['Position'])\n",
    "    except KeyError:\n",
    "        column_in.append('NaN')\n",
    "df['Position'] = column_in\n",
    "\n",
    "column_in = []\n",
    "for gn in df['genename']:\n",
    "    try:\n",
    "        column_in.append(df_mayra_i.loc[gn]['right size'])\n",
    "    except KeyError:\n",
    "        column_in.append('NaN')\n",
    "df['right size'] = column_in\n",
    "\n",
    "column_in = []\n",
    "for gn in df['genename']:\n",
    "    try:\n",
    "        column_in.append(df_mayra_i.loc[gn]['no band'])\n",
    "    except KeyError:\n",
    "        column_in.append('NaN')\n",
    "df['no band'] = column_in\n",
    "\n",
    "column_in = []\n",
    "for gn in df['genename']:\n",
    "    try:\n",
    "        column_in.append(df_mayra_i.loc[gn]['other band - wrong size, too big'])\n",
    "    except KeyError:\n",
    "        column_in.append('NaN')\n",
    "df['too big'] = column_in\n",
    "\n",
    "column_in = []\n",
    "for gn in df['genename']:\n",
    "    try:\n",
    "        column_in.append(df_mayra_i.loc[gn]['other band - wrong size, too small'])\n",
    "    except KeyError:\n",
    "        column_in.append('NaN')\n",
    "df['too small'] = column_in\n",
    "\n",
    "column_in = []\n",
    "for gn in df['genename']:\n",
    "    try:\n",
    "        column_in.append(df_mayra_i.loc[gn]['schmier ??'])\n",
    "    except KeyError:\n",
    "        column_in.append('NaN')\n",
    "df['schmier'] = column_in"
   ]
  },
  {
   "cell_type": "code",
   "execution_count": 26,
   "metadata": {
    "collapsed": false
   },
   "outputs": [
    {
     "data": {
      "text/html": [
       "<div>\n",
       "<table border=\"1\" class=\"dataframe\">\n",
       "  <thead>\n",
       "    <tr style=\"text-align: right;\">\n",
       "      <th></th>\n",
       "      <th>Chlre4_ID</th>\n",
       "      <th>right size</th>\n",
       "      <th>band - wrong size</th>\n",
       "      <th>no band</th>\n",
       "      <th>platename</th>\n",
       "      <th>Pos.Nr</th>\n",
       "      <th>Position</th>\n",
       "      <th>ORF_Size5</th>\n",
       "      <th>right size.1</th>\n",
       "      <th>band - wrong size.1</th>\n",
       "      <th>no band.1</th>\n",
       "      <th>other band - wrong size, too big</th>\n",
       "      <th>other band - wrong size, too small</th>\n",
       "      <th>schmier ??</th>\n",
       "    </tr>\n",
       "    <tr>\n",
       "      <th>ChlreGene_ID55</th>\n",
       "      <th></th>\n",
       "      <th></th>\n",
       "      <th></th>\n",
       "      <th></th>\n",
       "      <th></th>\n",
       "      <th></th>\n",
       "      <th></th>\n",
       "      <th></th>\n",
       "      <th></th>\n",
       "      <th></th>\n",
       "      <th></th>\n",
       "      <th></th>\n",
       "      <th></th>\n",
       "      <th></th>\n",
       "    </tr>\n",
       "  </thead>\n",
       "  <tbody>\n",
       "    <tr>\n",
       "      <th>Cre01.g041583</th>\n",
       "      <td>--</td>\n",
       "      <td>0</td>\n",
       "      <td>NaN</td>\n",
       "      <td>1</td>\n",
       "      <td>P2kCre39</td>\n",
       "      <td>64</td>\n",
       "      <td>H8</td>\n",
       "      <td>1599</td>\n",
       "      <td>0</td>\n",
       "      <td>NaN</td>\n",
       "      <td>1</td>\n",
       "      <td>NaN</td>\n",
       "      <td>NaN</td>\n",
       "      <td>NaN</td>\n",
       "    </tr>\n",
       "    <tr>\n",
       "      <th>Cre01.g041583</th>\n",
       "      <td>jgi|Chlre4|146735</td>\n",
       "      <td>0</td>\n",
       "      <td>NaN</td>\n",
       "      <td>1</td>\n",
       "      <td>P2kCre39</td>\n",
       "      <td>65</td>\n",
       "      <td>A9</td>\n",
       "      <td>1599</td>\n",
       "      <td>0</td>\n",
       "      <td>NaN</td>\n",
       "      <td>1</td>\n",
       "      <td>NaN</td>\n",
       "      <td>NaN</td>\n",
       "      <td>NaN</td>\n",
       "    </tr>\n",
       "  </tbody>\n",
       "</table>\n",
       "</div>"
      ],
      "text/plain": [
       "                        Chlre4_ID  right size  band - wrong size  no band  \\\n",
       "ChlreGene_ID55                                                              \n",
       "Cre01.g041583                  --           0                NaN        1   \n",
       "Cre01.g041583   jgi|Chlre4|146735           0                NaN        1   \n",
       "\n",
       "               platename  Pos.Nr Position  ORF_Size5  right size.1  \\\n",
       "ChlreGene_ID55                                                       \n",
       "Cre01.g041583   P2kCre39      64       H8       1599             0   \n",
       "Cre01.g041583   P2kCre39      65       A9       1599             0   \n",
       "\n",
       "                band - wrong size.1  no band.1  \\\n",
       "ChlreGene_ID55                                   \n",
       "Cre01.g041583                   NaN          1   \n",
       "Cre01.g041583                   NaN          1   \n",
       "\n",
       "                other band - wrong size, too big  \\\n",
       "ChlreGene_ID55                                     \n",
       "Cre01.g041583                                NaN   \n",
       "Cre01.g041583                                NaN   \n",
       "\n",
       "                other band - wrong size, too small  schmier ??  \n",
       "ChlreGene_ID55                                                  \n",
       "Cre01.g041583                                  NaN         NaN  \n",
       "Cre01.g041583                                  NaN         NaN  "
      ]
     },
     "execution_count": 26,
     "metadata": {},
     "output_type": "execute_result"
    }
   ],
   "source": [
    "df_mayra_i.loc['Cre01.g041583']"
   ]
  },
  {
   "cell_type": "code",
   "execution_count": 58,
   "metadata": {
    "collapsed": false
   },
   "outputs": [],
   "source": [
    "mask = (df['big'].astype(str) == '1.0')\n"
   ]
  },
  {
   "cell_type": "code",
   "execution_count": 48,
   "metadata": {
    "collapsed": false
   },
   "outputs": [
    {
     "data": {
      "text/plain": [
       "1.0"
      ]
     },
     "execution_count": 48,
     "metadata": {},
     "output_type": "execute_result"
    }
   ],
   "source": [
    "df['big'][0]"
   ]
  },
  {
   "cell_type": "code",
   "execution_count": 23,
   "metadata": {
    "collapsed": false
   },
   "outputs": [],
   "source": [
    "df.to_csv('primer_ePCR.txt')"
   ]
  },
  {
   "cell_type": "code",
   "execution_count": 26,
   "metadata": {
    "collapsed": false
   },
   "outputs": [],
   "source": [
    "df_out.to_csv('primer_ePCR_offtartget.txt')"
   ]
  },
  {
   "cell_type": "code",
   "execution_count": null,
   "metadata": {
    "collapsed": true
   },
   "outputs": [],
   "source": []
  }
 ],
 "metadata": {
  "kernelspec": {
   "display_name": "Python 2",
   "language": "python",
   "name": "python2"
  },
  "language_info": {
   "codemirror_mode": {
    "name": "ipython",
    "version": 2
   },
   "file_extension": ".py",
   "mimetype": "text/x-python",
   "name": "python",
   "nbconvert_exporter": "python",
   "pygments_lexer": "ipython2",
   "version": "2.7.10"
  }
 },
 "nbformat": 4,
 "nbformat_minor": 0
}
