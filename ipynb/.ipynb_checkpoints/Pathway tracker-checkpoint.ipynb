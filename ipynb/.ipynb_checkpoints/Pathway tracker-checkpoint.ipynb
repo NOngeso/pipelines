{
 "cells": [
  {
   "cell_type": "code",
   "execution_count": 6,
   "metadata": {
    "collapsed": true
   },
   "outputs": [],
   "source": [
    "class signal:\n",
    "    def __init__(self,molecule):\n",
    "        self.name       = molecule\n",
    "        self.status     = ''\n",
    "        self.IP         = []\n",
    "        self.US         = []\n",
    "class gene:\n",
    "    def __init__(self):\n",
    "        self.name       = ''\n",
    "        self.ID         = ''\n",
    "        self.status     = ''\n",
    "        self.phosphorylation  = 0 # boolean; yes or no\n",
    "        self.phosphorylatedby = {} # key = kinase ID, value = class gene()\n",
    "        self.phosphorylatedby = {} # key = phospatase ID, value = class\n",
    "        self.recepts          = {} # signals, key = signalname, value = class signal()\n",
    "        self.interaction      = {} # PPI,     key = protein ID, value = class gene()\n",
    "    "
   ]
  },
  {
   "cell_type": "code",
   "execution_count": 7,
   "metadata": {
    "collapsed": true
   },
   "outputs": [],
   "source": [
    "pyl = gene()\n",
    "pyl.name   = 'pyl'\n",
    "pyl.ID     = 'AT3G10102'\n",
    "pyl.status = 'homodimer'\n",
    "pyl.IP.append('AT3G10101')\n",
    "pyl.signaled('ABA')"
   ]
  },
  {
   "cell_type": "code",
   "execution_count": 8,
   "metadata": {
    "collapsed": false
   },
   "outputs": [
    {
     "data": {
      "text/plain": [
       "'ABA'"
      ]
     },
     "execution_count": 8,
     "metadata": {},
     "output_type": "execute_result"
    }
   ],
   "source": [
    "pyl.US[0].name"
   ]
  },
  {
   "cell_type": "code",
   "execution_count": null,
   "metadata": {
    "collapsed": true
   },
   "outputs": [],
   "source": []
  }
 ],
 "metadata": {
  "kernelspec": {
   "display_name": "Python 2",
   "language": "python",
   "name": "python2"
  },
  "language_info": {
   "codemirror_mode": {
    "name": "ipython",
    "version": 2
   },
   "file_extension": ".py",
   "mimetype": "text/x-python",
   "name": "python",
   "nbconvert_exporter": "python",
   "pygments_lexer": "ipython2",
   "version": "2.7.6"
  }
 },
 "nbformat": 4,
 "nbformat_minor": 0
}
