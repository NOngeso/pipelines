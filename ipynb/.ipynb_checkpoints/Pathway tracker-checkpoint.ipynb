{
 "cells": [
  {
   "cell_type": "code",
   "execution_count": 6,
   "metadata": {
<<<<<<< HEAD
    "collapsed": true
=======
    "collapsed": false
>>>>>>> 5de7e68e7bd907a644531c91fe7b6e01f203d83a
   },
   "outputs": [],
   "source": [
    "class signal:\n",
    "    def __init__(self,molecule):\n",
    "        self.name       = molecule\n",
    "        self.status     = ''\n",
    "        self.IP         = []\n",
    "        self.US         = []\n",
    "class gene:\n",
    "    def __init__(self):\n",
    "        self.name       = ''\n",
    "        self.ID         = ''\n",
    "        self.status     = ''\n",
<<<<<<< HEAD
    "        self.phosphorylation  = 0 # boolean; yes or no\n",
    "        self.phosphorylatedby = {} # key = kinase ID, value = class gene()\n",
    "        self.phosphorylatedby = {} # key = phospatase ID, value = class\n",
    "        self.recepts          = {} # signals, key = signalname, value = class signal()\n",
    "        self.interaction      = {} # PPI,     key = protein ID, value = class gene()\n",
    "    "
=======
    "        self.IP         = [] # interaction partners\n",
    "        self.US         = [] # upstream signals \n",
    "    def signal_perception(self,molecule):\n",
    "        self.US.append(signal(molecule))"
>>>>>>> 5de7e68e7bd907a644531c91fe7b6e01f203d83a
   ]
  },
  {
   "cell_type": "code",
   "execution_count": 7,
   "metadata": {
<<<<<<< HEAD
    "collapsed": true
=======
    "collapsed": false
>>>>>>> 5de7e68e7bd907a644531c91fe7b6e01f203d83a
   },
   "outputs": [],
   "source": [
    "pyl = gene()\n",
    "pyl.name   = 'pyl'\n",
    "pyl.ID     = 'AT3G10102'\n",
    "pyl.status = 'homodimer'\n",
    "pyl.IP.append('AT3G10101')\n",
<<<<<<< HEAD
    "pyl.signaled('ABA')"
=======
    "pyl.signal_perception('ABA')"
>>>>>>> 5de7e68e7bd907a644531c91fe7b6e01f203d83a
   ]
  },
  {
   "cell_type": "code",
   "execution_count": 8,
   "metadata": {
    "collapsed": false
   },
   "outputs": [
    {
     "data": {
      "text/plain": [
<<<<<<< HEAD
       "'ABA'"
=======
       "<__main__.gene instance at 0x7f9b6441a950>"
>>>>>>> 5de7e68e7bd907a644531c91fe7b6e01f203d83a
      ]
     },
     "execution_count": 8,
     "metadata": {},
     "output_type": "execute_result"
    }
   ],
   "source": [
<<<<<<< HEAD
=======
    "pyl"
   ]
  },
  {
   "cell_type": "code",
   "execution_count": 13,
   "metadata": {
    "collapsed": false
   },
   "outputs": [
    {
     "data": {
      "text/plain": [
       "'ABA'"
      ]
     },
     "execution_count": 13,
     "metadata": {},
     "output_type": "execute_result"
    }
   ],
   "source": [
>>>>>>> 5de7e68e7bd907a644531c91fe7b6e01f203d83a
    "pyl.US[0].name"
   ]
  },
  {
   "cell_type": "code",
   "execution_count": null,
   "metadata": {
    "collapsed": true
   },
   "outputs": [],
   "source": []
  }
 ],
 "metadata": {
  "kernelspec": {
   "display_name": "Python 2",
   "language": "python",
   "name": "python2"
  },
  "language_info": {
   "codemirror_mode": {
    "name": "ipython",
    "version": 2
   },
   "file_extension": ".py",
   "mimetype": "text/x-python",
   "name": "python",
   "nbconvert_exporter": "python",
   "pygments_lexer": "ipython2",
   "version": "2.7.6"
  }
 },
 "nbformat": 4,
 "nbformat_minor": 0
}
