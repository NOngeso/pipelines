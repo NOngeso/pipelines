{
 "cells": [
  {
   "cell_type": "code",
   "execution_count": 3,
   "metadata": {
    "collapsed": true
   },
   "outputs": [],
   "source": [
    "import pandas as pd"
   ]
  },
  {
   "cell_type": "code",
   "execution_count": 5,
   "metadata": {
    "collapsed": true
   },
   "outputs": [],
   "source": [
    "basedir = 'D:/analysis/Creinhardtii/'\n",
    "file_gff = basedir + 'Cr2Vc.gff'"
   ]
  },
  {
   "cell_type": "code",
   "execution_count": 9,
   "metadata": {
    "collapsed": false
   },
   "outputs": [],
   "source": [
    "df_gff = pd.read_csv(file_gff,sep='\\t',header=None)"
   ]
  },
  {
   "cell_type": "code",
   "execution_count": 8,
   "metadata": {
    "collapsed": false
   },
   "outputs": [
    {
     "data": {
      "text/html": [
       "<div>\n",
       "<table border=\"1\" class=\"dataframe\">\n",
       "  <thead>\n",
       "    <tr style=\"text-align: right;\">\n",
       "      <th></th>\n",
       "      <th>0</th>\n",
       "      <th>1</th>\n",
       "      <th>2</th>\n",
       "      <th>3</th>\n",
       "    </tr>\n",
       "  </thead>\n",
       "  <tbody>\n",
       "    <tr>\n",
       "      <th>0</th>\n",
       "      <td>s1</td>\n",
       "      <td>Vocar20008197m</td>\n",
       "      <td>10007962</td>\n",
       "      <td>10008957</td>\n",
       "    </tr>\n",
       "    <tr>\n",
       "      <th>1</th>\n",
       "      <td>s1</td>\n",
       "      <td>Vocar20008198m</td>\n",
       "      <td>8405273</td>\n",
       "      <td>8410668</td>\n",
       "    </tr>\n",
       "    <tr>\n",
       "      <th>2</th>\n",
       "      <td>s1</td>\n",
       "      <td>Vocar20008199m</td>\n",
       "      <td>4738119</td>\n",
       "      <td>4740139</td>\n",
       "    </tr>\n",
       "    <tr>\n",
       "      <th>3</th>\n",
       "      <td>s1</td>\n",
       "      <td>Vocar20008200m</td>\n",
       "      <td>4973145</td>\n",
       "      <td>4978575</td>\n",
       "    </tr>\n",
       "    <tr>\n",
       "      <th>4</th>\n",
       "      <td>s1</td>\n",
       "      <td>Vocar20008201m</td>\n",
       "      <td>935923</td>\n",
       "      <td>939692</td>\n",
       "    </tr>\n",
       "  </tbody>\n",
       "</table>\n",
       "</div>"
      ],
      "text/plain": [
       "    0               1         2         3\n",
       "0  s1  Vocar20008197m  10007962  10008957\n",
       "1  s1  Vocar20008198m   8405273   8410668\n",
       "2  s1  Vocar20008199m   4738119   4740139\n",
       "3  s1  Vocar20008200m   4973145   4978575\n",
       "4  s1  Vocar20008201m    935923    939692"
      ]
     },
     "execution_count": 8,
     "metadata": {},
     "output_type": "execute_result"
    }
   ],
   "source": [
    "df.head()"
   ]
  },
  {
   "cell_type": "code",
   "execution_count": 101,
   "metadata": {
    "collapsed": false
   },
   "outputs": [],
   "source": [
    "df_tha = pd.read_csv(file_gff_tha,sep='\\t',header=None,skiprows=1)"
   ]
  },
  {
   "cell_type": "code",
   "execution_count": 102,
   "metadata": {
    "collapsed": false
   },
   "outputs": [
    {
     "data": {
      "text/html": [
       "<div style=\"max-height:1000px;max-width:1500px;overflow:auto;\">\n",
       "<table border=\"1\" class=\"dataframe\">\n",
       "  <thead>\n",
       "    <tr style=\"text-align: right;\">\n",
       "      <th></th>\n",
       "      <th>0</th>\n",
       "      <th>1</th>\n",
       "      <th>2</th>\n",
       "      <th>3</th>\n",
       "      <th>4</th>\n",
       "      <th>5</th>\n",
       "      <th>6</th>\n",
       "      <th>7</th>\n",
       "      <th>8</th>\n",
       "    </tr>\n",
       "  </thead>\n",
       "  <tbody>\n",
       "    <tr>\n",
       "      <th>0 </th>\n",
       "      <td> Chr1</td>\n",
       "      <td> phytozome8_0</td>\n",
       "      <td> gene</td>\n",
       "      <td>  3631</td>\n",
       "      <td>  5899</td>\n",
       "      <td> .</td>\n",
       "      <td> +</td>\n",
       "      <td> .</td>\n",
       "      <td> ID=AT1G01010;Name=AT1G01010</td>\n",
       "    </tr>\n",
       "    <tr>\n",
       "      <th>10</th>\n",
       "      <td> Chr1</td>\n",
       "      <td> phytozome8_0</td>\n",
       "      <td> gene</td>\n",
       "      <td>  5928</td>\n",
       "      <td>  8737</td>\n",
       "      <td> .</td>\n",
       "      <td> -</td>\n",
       "      <td> .</td>\n",
       "      <td> ID=AT1G01020;Name=AT1G01020</td>\n",
       "    </tr>\n",
       "    <tr>\n",
       "      <th>35</th>\n",
       "      <td> Chr1</td>\n",
       "      <td> phytozome8_0</td>\n",
       "      <td> gene</td>\n",
       "      <td> 11649</td>\n",
       "      <td> 13714</td>\n",
       "      <td> .</td>\n",
       "      <td> -</td>\n",
       "      <td> .</td>\n",
       "      <td> ID=AT1G01030;Name=AT1G01030</td>\n",
       "    </tr>\n",
       "    <tr>\n",
       "      <th>41</th>\n",
       "      <td> Chr1</td>\n",
       "      <td> phytozome8_0</td>\n",
       "      <td> gene</td>\n",
       "      <td> 23146</td>\n",
       "      <td> 31227</td>\n",
       "      <td> .</td>\n",
       "      <td> +</td>\n",
       "      <td> .</td>\n",
       "      <td> ID=AT1G01040;Name=AT1G01040</td>\n",
       "    </tr>\n",
       "    <tr>\n",
       "      <th>88</th>\n",
       "      <td> Chr1</td>\n",
       "      <td> phytozome8_0</td>\n",
       "      <td> gene</td>\n",
       "      <td> 31170</td>\n",
       "      <td> 33153</td>\n",
       "      <td> .</td>\n",
       "      <td> -</td>\n",
       "      <td> .</td>\n",
       "      <td> ID=AT1G01050;Name=AT1G01050</td>\n",
       "    </tr>\n",
       "  </tbody>\n",
       "</table>\n",
       "</div>"
      ],
      "text/plain": [
       "       0             1     2      3      4  5  6  7  \\\n",
       "0   Chr1  phytozome8_0  gene   3631   5899  .  +  .   \n",
       "10  Chr1  phytozome8_0  gene   5928   8737  .  -  .   \n",
       "35  Chr1  phytozome8_0  gene  11649  13714  .  -  .   \n",
       "41  Chr1  phytozome8_0  gene  23146  31227  .  +  .   \n",
       "88  Chr1  phytozome8_0  gene  31170  33153  .  -  .   \n",
       "\n",
       "                              8  \n",
       "0   ID=AT1G01010;Name=AT1G01010  \n",
       "10  ID=AT1G01020;Name=AT1G01020  \n",
       "35  ID=AT1G01030;Name=AT1G01030  \n",
       "41  ID=AT1G01040;Name=AT1G01040  \n",
       "88  ID=AT1G01050;Name=AT1G01050  "
      ]
     },
     "execution_count": 102,
     "metadata": {},
     "output_type": "execute_result"
    }
   ],
   "source": [
    "mask = (df_ath[2]=='gene')\n",
    "df_ath = df_ath[mask]\n",
    "df_ath.head()"
   ]
  },
  {
   "cell_type": "code",
   "execution_count": 103,
   "metadata": {
    "collapsed": false
   },
   "outputs": [
    {
     "data": {
      "text/plain": [
       "27416"
      ]
     },
     "execution_count": 103,
     "metadata": {},
     "output_type": "execute_result"
    }
   ],
   "source": [
    "len(df_ath)"
   ]
  },
  {
   "cell_type": "code",
   "execution_count": 49,
   "metadata": {
    "collapsed": false
   },
   "outputs": [
    {
     "data": {
      "text/html": [
       "<div style=\"max-height:1000px;max-width:1500px;overflow:auto;\">\n",
       "<table border=\"1\" class=\"dataframe\">\n",
       "  <thead>\n",
       "    <tr style=\"text-align: right;\">\n",
       "      <th></th>\n",
       "      <th>0</th>\n",
       "      <th>1</th>\n",
       "      <th>2</th>\n",
       "      <th>3</th>\n",
       "      <th>4</th>\n",
       "      <th>5</th>\n",
       "      <th>6</th>\n",
       "      <th>7</th>\n",
       "      <th>8</th>\n",
       "    </tr>\n",
       "  </thead>\n",
       "  <tbody>\n",
       "    <tr>\n",
       "      <th>1  </th>\n",
       "      <td> scaffold_1</td>\n",
       "      <td> phytozome9_0</td>\n",
       "      <td> mRNA</td>\n",
       "      <td> 10215584</td>\n",
       "      <td> 10239664</td>\n",
       "      <td> .</td>\n",
       "      <td> +</td>\n",
       "      <td> .</td>\n",
       "      <td> ID=PAC:20194900;Name=Thhalv10024176m;pacid=201...</td>\n",
       "    </tr>\n",
       "    <tr>\n",
       "      <th>66 </th>\n",
       "      <td> scaffold_1</td>\n",
       "      <td> phytozome9_0</td>\n",
       "      <td> mRNA</td>\n",
       "      <td> 10222202</td>\n",
       "      <td> 10239399</td>\n",
       "      <td> .</td>\n",
       "      <td> +</td>\n",
       "      <td> .</td>\n",
       "      <td> ID=PAC:20194901;Name=Thhalv10024178m;pacid=201...</td>\n",
       "    </tr>\n",
       "    <tr>\n",
       "      <th>112</th>\n",
       "      <td> scaffold_1</td>\n",
       "      <td> phytozome9_0</td>\n",
       "      <td> mRNA</td>\n",
       "      <td>  1677535</td>\n",
       "      <td>  1695178</td>\n",
       "      <td> .</td>\n",
       "      <td> +</td>\n",
       "      <td> .</td>\n",
       "      <td> ID=PAC:20192943;Name=Thhalv10024177m;pacid=201...</td>\n",
       "    </tr>\n",
       "    <tr>\n",
       "      <th>150</th>\n",
       "      <td> scaffold_1</td>\n",
       "      <td> phytozome9_0</td>\n",
       "      <td> mRNA</td>\n",
       "      <td>   488357</td>\n",
       "      <td>   503965</td>\n",
       "      <td> .</td>\n",
       "      <td> +</td>\n",
       "      <td> .</td>\n",
       "      <td> ID=PAC:20194524;Name=Thhalv10024179m;pacid=201...</td>\n",
       "    </tr>\n",
       "    <tr>\n",
       "      <th>178</th>\n",
       "      <td> scaffold_1</td>\n",
       "      <td> phytozome9_0</td>\n",
       "      <td> mRNA</td>\n",
       "      <td>  3576033</td>\n",
       "      <td>  3586074</td>\n",
       "      <td> .</td>\n",
       "      <td> -</td>\n",
       "      <td> .</td>\n",
       "      <td> ID=PAC:20194081;Name=Thhalv10024180m;pacid=201...</td>\n",
       "    </tr>\n",
       "  </tbody>\n",
       "</table>\n",
       "</div>"
      ],
      "text/plain": [
       "              0             1     2         3         4  5  6  7  \\\n",
       "1    scaffold_1  phytozome9_0  mRNA  10215584  10239664  .  +  .   \n",
       "66   scaffold_1  phytozome9_0  mRNA  10222202  10239399  .  +  .   \n",
       "112  scaffold_1  phytozome9_0  mRNA   1677535   1695178  .  +  .   \n",
       "150  scaffold_1  phytozome9_0  mRNA    488357    503965  .  +  .   \n",
       "178  scaffold_1  phytozome9_0  mRNA   3576033   3586074  .  -  .   \n",
       "\n",
       "                                                     8  \n",
       "1    ID=PAC:20194900;Name=Thhalv10024176m;pacid=201...  \n",
       "66   ID=PAC:20194901;Name=Thhalv10024178m;pacid=201...  \n",
       "112  ID=PAC:20192943;Name=Thhalv10024177m;pacid=201...  \n",
       "150  ID=PAC:20194524;Name=Thhalv10024179m;pacid=201...  \n",
       "178  ID=PAC:20194081;Name=Thhalv10024180m;pacid=201...  "
      ]
     },
     "execution_count": 49,
     "metadata": {},
     "output_type": "execute_result"
    }
   ],
   "source": [
    "mask = (df_tha[2]=='mRNA')\n",
    "df_tha = df_tha[mask]\n",
    "df_tha.head()"
   ]
  },
  {
   "cell_type": "code",
   "execution_count": 50,
   "metadata": {
    "collapsed": true
   },
   "outputs": [],
   "source": [
    "def get_genename(query):\n",
    "    dic = dict(zip([x.split('=')[0] for x in query.split(';')],[x.split('=')[1] for x in query.split(';')]))\n",
    "    return(dic['Name'])"
   ]
  },
  {
   "cell_type": "code",
   "execution_count": 20,
   "metadata": {
    "collapsed": false
   },
   "outputs": [],
   "source": [
    "ath_genename_list = [get_genename(x) for x in df_ath[8]]\n",
    "df_ath[\"genename\"] = ath_genename_list\n",
    "df_ath = df_ath.set_index('genename')\n",
    "tha_genename_list = [get_genename(x) for x in df_tha[8]]\n",
    "df_tha[\"genename\"] = tha_genename_list\n",
    "df_tha = df_tha.set_index('genename')\n",
    "#df_tha.head()"
   ]
  },
  {
   "cell_type": "code",
   "execution_count": 28,
   "metadata": {
    "collapsed": false
   },
   "outputs": [],
   "source": [
    "file_kaks = '/data2/k821209/pascal/droughtnet/At2Th.collinearity.kaks.clean'\n",
    "df_kaks = pd.read_csv(file_kaks,sep='\\t',header=None)"
   ]
  },
  {
   "cell_type": "code",
   "execution_count": 29,
   "metadata": {
    "collapsed": false
   },
   "outputs": [
    {
     "data": {
      "text/html": [
       "<div style=\"max-height:1000px;max-width:1500px;overflow:auto;\">\n",
       "<table border=\"1\" class=\"dataframe\">\n",
       "  <thead>\n",
       "    <tr style=\"text-align: right;\">\n",
       "      <th></th>\n",
       "      <th>0</th>\n",
       "      <th>1</th>\n",
       "      <th>2</th>\n",
       "      <th>3</th>\n",
       "      <th>4</th>\n",
       "      <th>5</th>\n",
       "    </tr>\n",
       "  </thead>\n",
       "  <tbody>\n",
       "    <tr>\n",
       "      <th>0</th>\n",
       "      <td>   0-  0:</td>\n",
       "      <td> AT1G30700.1</td>\n",
       "      <td> Thhalv10027426m</td>\n",
       "      <td> 1.000000e-151</td>\n",
       "      <td> 0.400901</td>\n",
       "      <td> 2.134071</td>\n",
       "    </tr>\n",
       "    <tr>\n",
       "      <th>1</th>\n",
       "      <td>   0-  1:</td>\n",
       "      <td> AT1G30810.1</td>\n",
       "      <td> Thhalv10024338m</td>\n",
       "      <td>  0.000000e+00</td>\n",
       "      <td> 0.345269</td>\n",
       "      <td> 1.755505</td>\n",
       "    </tr>\n",
       "    <tr>\n",
       "      <th>2</th>\n",
       "      <td>   0-  2:</td>\n",
       "      <td> AT1G30820.1</td>\n",
       "      <td> Thhalv10024728m</td>\n",
       "      <td>  0.000000e+00</td>\n",
       "      <td> 0.161765</td>\n",
       "      <td> 1.715730</td>\n",
       "    </tr>\n",
       "    <tr>\n",
       "      <th>3</th>\n",
       "      <td>   0-  3:</td>\n",
       "      <td> AT1G30850.1</td>\n",
       "      <td> Thhalv10027261m</td>\n",
       "      <td>  4.000000e-26</td>\n",
       "      <td> 0.800911</td>\n",
       "      <td> 1.723686</td>\n",
       "    </tr>\n",
       "    <tr>\n",
       "      <th>4</th>\n",
       "      <td>   0-  4:</td>\n",
       "      <td> AT1G30860.1</td>\n",
       "      <td> Thhalv10024247m</td>\n",
       "      <td>  1.000000e-30</td>\n",
       "      <td> 0.750071</td>\n",
       "      <td> 0.984989</td>\n",
       "    </tr>\n",
       "  </tbody>\n",
       "</table>\n",
       "</div>"
      ],
      "text/plain": [
       "          0            1                2              3         4         5\n",
       "0    0-  0:  AT1G30700.1  Thhalv10027426m  1.000000e-151  0.400901  2.134071\n",
       "1    0-  1:  AT1G30810.1  Thhalv10024338m   0.000000e+00  0.345269  1.755505\n",
       "2    0-  2:  AT1G30820.1  Thhalv10024728m   0.000000e+00  0.161765  1.715730\n",
       "3    0-  3:  AT1G30850.1  Thhalv10027261m   4.000000e-26  0.800911  1.723686\n",
       "4    0-  4:  AT1G30860.1  Thhalv10024247m   1.000000e-30  0.750071  0.984989"
      ]
     },
     "execution_count": 29,
     "metadata": {},
     "output_type": "execute_result"
    }
   ],
   "source": [
    "df_kaks.head()"
   ]
  },
  {
   "cell_type": "code",
   "execution_count": 36,
   "metadata": {
    "collapsed": false
   },
   "outputs": [],
   "source": [
    "ath_chromosomes = [df_ath.loc[x.split('.')[0]][0] for x in df_kaks[1]]\n",
    "ath_location = [df_ath.loc[x.split('.')[0]][3] for x in df_kaks[1]]"
   ]
  },
  {
   "cell_type": "code",
   "execution_count": 59,
   "metadata": {
    "collapsed": false
   },
   "outputs": [],
   "source": [
    "tha_chr = [df_tha.loc[x][0] for x in df_kaks[2]]"
   ]
  },
  {
   "cell_type": "code",
   "execution_count": 60,
   "metadata": {
    "collapsed": true
   },
   "outputs": [],
   "source": [
    "df_kaks['ath_chr'] = ath_chromosomes\n",
    "df_kaks['ath_loc'] = ath_location\n",
    "df_kaks['tha_chr'] = tha_chr"
   ]
  },
  {
   "cell_type": "code",
   "execution_count": 69,
   "metadata": {
    "collapsed": false
   },
   "outputs": [],
   "source": [
    "df_kaks.head()\n",
    "mask = (df_kaks['ath_chr'] != 'ChrC') & (df_kaks['ath_chr'] != 'ChrM')\n",
    "df_kaks_masked = df_kaks[mask]"
   ]
  },
  {
   "cell_type": "code",
   "execution_count": 70,
   "metadata": {
    "collapsed": false
   },
   "outputs": [],
   "source": [
    "df_kaks_masked.to_csv('test.csv',sep='\\t', index=None)"
   ]
  },
  {
   "cell_type": "code",
   "execution_count": 73,
   "metadata": {
    "collapsed": false
   },
   "outputs": [
    {
     "name": "stdout",
     "output_type": "stream",
     "text": [
      "25570 19183\n"
     ]
    }
   ],
   "source": [
    "print len(df_kaks_masked[1]),len(set(df_kaks_masked[1]))"
   ]
  },
  {
   "cell_type": "code",
   "execution_count": 79,
   "metadata": {
    "collapsed": false
   },
   "outputs": [
    {
     "data": {
      "text/plain": [
       "AT1G69460.1    5\n",
       "AT4G38860.1    5\n",
       "AT1G04160.1    4\n",
       "AT4G36260.1    4\n",
       "AT1G01440.1    4\n",
       "AT2G35960.1    4\n",
       "AT1G62320.1    4\n",
       "AT1G26690.1    4\n",
       "AT1G01620.1    4\n",
       "AT1G75250.2    4\n",
       "AT1G14010.1    4\n",
       "AT4G38740.1    4\n",
       "AT2G35860.1    4\n",
       "AT5G58930.1    4\n",
       "AT1G26450.1    4\n",
       "...\n",
       "AT5G56460.1    1\n",
       "AT4G38600.1    1\n",
       "AT4G33940.1    1\n",
       "AT2G28660.1    1\n",
       "AT5G61620.1    1\n",
       "AT4G21740.1    1\n",
       "AT4G16060.1    1\n",
       "AT1G80380.4    1\n",
       "AT1G06060.1    1\n",
       "AT2G32090.1    1\n",
       "AT1G15590.2    1\n",
       "AT5G20560.1    1\n",
       "AT3G54630.1    1\n",
       "AT4G17000.1    1\n",
       "AT3G17470.1    1\n",
       "Length: 19183, dtype: int64"
      ]
     },
     "execution_count": 79,
     "metadata": {},
     "output_type": "execute_result"
    }
   ],
   "source": [
    "df_kaks_masked[1].value_counts()"
   ]
  },
  {
   "cell_type": "code",
   "execution_count": 80,
   "metadata": {
    "collapsed": false
   },
   "outputs": [
    {
     "data": {
      "text/html": [
       "<div style=\"max-height:1000px;max-width:1500px;overflow:auto;\">\n",
       "<table border=\"1\" class=\"dataframe\">\n",
       "  <thead>\n",
       "    <tr style=\"text-align: right;\">\n",
       "      <th></th>\n",
       "      <th>0</th>\n",
       "      <th>1</th>\n",
       "      <th>2</th>\n",
       "      <th>3</th>\n",
       "      <th>4</th>\n",
       "      <th>5</th>\n",
       "      <th>ath_chr</th>\n",
       "      <th>ath_loc</th>\n",
       "      <th>tha_chr</th>\n",
       "    </tr>\n",
       "  </thead>\n",
       "  <tbody>\n",
       "    <tr>\n",
       "      <th>0</th>\n",
       "      <td>   0-  0:</td>\n",
       "      <td> AT1G30700.1</td>\n",
       "      <td> Thhalv10027426m</td>\n",
       "      <td> 1.000000e-151</td>\n",
       "      <td> 0.400901</td>\n",
       "      <td> 2.134071</td>\n",
       "      <td> Chr1</td>\n",
       "      <td> 10892570</td>\n",
       "      <td> scaffold_1</td>\n",
       "    </tr>\n",
       "    <tr>\n",
       "      <th>1</th>\n",
       "      <td>   0-  1:</td>\n",
       "      <td> AT1G30810.1</td>\n",
       "      <td> Thhalv10024338m</td>\n",
       "      <td>  0.000000e+00</td>\n",
       "      <td> 0.345269</td>\n",
       "      <td> 1.755505</td>\n",
       "      <td> Chr1</td>\n",
       "      <td> 10936765</td>\n",
       "      <td> scaffold_1</td>\n",
       "    </tr>\n",
       "    <tr>\n",
       "      <th>2</th>\n",
       "      <td>   0-  2:</td>\n",
       "      <td> AT1G30820.1</td>\n",
       "      <td> Thhalv10024728m</td>\n",
       "      <td>  0.000000e+00</td>\n",
       "      <td> 0.161765</td>\n",
       "      <td> 1.715730</td>\n",
       "      <td> Chr1</td>\n",
       "      <td> 10944913</td>\n",
       "      <td> scaffold_1</td>\n",
       "    </tr>\n",
       "    <tr>\n",
       "      <th>3</th>\n",
       "      <td>   0-  3:</td>\n",
       "      <td> AT1G30850.1</td>\n",
       "      <td> Thhalv10027261m</td>\n",
       "      <td>  4.000000e-26</td>\n",
       "      <td> 0.800911</td>\n",
       "      <td> 1.723686</td>\n",
       "      <td> Chr1</td>\n",
       "      <td> 10985078</td>\n",
       "      <td> scaffold_1</td>\n",
       "    </tr>\n",
       "    <tr>\n",
       "      <th>4</th>\n",
       "      <td>   0-  4:</td>\n",
       "      <td> AT1G30860.1</td>\n",
       "      <td> Thhalv10024247m</td>\n",
       "      <td>  1.000000e-30</td>\n",
       "      <td> 0.750071</td>\n",
       "      <td> 0.984989</td>\n",
       "      <td> Chr1</td>\n",
       "      <td> 10986523</td>\n",
       "      <td> scaffold_1</td>\n",
       "    </tr>\n",
       "  </tbody>\n",
       "</table>\n",
       "</div>"
      ],
      "text/plain": [
       "          0            1                2              3         4         5  \\\n",
       "0    0-  0:  AT1G30700.1  Thhalv10027426m  1.000000e-151  0.400901  2.134071   \n",
       "1    0-  1:  AT1G30810.1  Thhalv10024338m   0.000000e+00  0.345269  1.755505   \n",
       "2    0-  2:  AT1G30820.1  Thhalv10024728m   0.000000e+00  0.161765  1.715730   \n",
       "3    0-  3:  AT1G30850.1  Thhalv10027261m   4.000000e-26  0.800911  1.723686   \n",
       "4    0-  4:  AT1G30860.1  Thhalv10024247m   1.000000e-30  0.750071  0.984989   \n",
       "\n",
       "  ath_chr   ath_loc     tha_chr  \n",
       "0    Chr1  10892570  scaffold_1  \n",
       "1    Chr1  10936765  scaffold_1  \n",
       "2    Chr1  10944913  scaffold_1  \n",
       "3    Chr1  10985078  scaffold_1  \n",
       "4    Chr1  10986523  scaffold_1  "
      ]
     },
     "execution_count": 80,
     "metadata": {},
     "output_type": "execute_result"
    }
   ],
   "source": [
    "df_kaks_masked.head()"
   ]
  },
  {
   "cell_type": "code",
   "execution_count": 82,
   "metadata": {
    "collapsed": false
   },
   "outputs": [
    {
     "data": {
      "text/html": [
       "<div style=\"max-height:1000px;max-width:1500px;overflow:auto;\">\n",
       "<table border=\"1\" class=\"dataframe\">\n",
       "  <thead>\n",
       "    <tr style=\"text-align: right;\">\n",
       "      <th></th>\n",
       "      <th>0</th>\n",
       "      <th>1</th>\n",
       "      <th>2</th>\n",
       "      <th>3</th>\n",
       "      <th>4</th>\n",
       "      <th>5</th>\n",
       "      <th>ath_chr</th>\n",
       "      <th>ath_loc</th>\n",
       "      <th>tha_chr</th>\n",
       "    </tr>\n",
       "  </thead>\n",
       "  <tbody>\n",
       "    <tr>\n",
       "      <th>1192</th>\n",
       "      <td>  51- 36:</td>\n",
       "      <td> AT1G69460.1</td>\n",
       "      <td> Thhalv10008758m</td>\n",
       "      <td>  1.000000e-93</td>\n",
       "      <td> 0.137558</td>\n",
       "      <td> 1.056825</td>\n",
       "      <td> Chr1</td>\n",
       "      <td> 26111809</td>\n",
       "      <td> scaffold_5</td>\n",
       "    </tr>\n",
       "    <tr>\n",
       "      <th>3873</th>\n",
       "      <td>  72-  6:</td>\n",
       "      <td> AT1G69460.1</td>\n",
       "      <td> Thhalv10008684m</td>\n",
       "      <td>  2.000000e-78</td>\n",
       "      <td> 0.271316</td>\n",
       "      <td> 2.709354</td>\n",
       "      <td> Chr1</td>\n",
       "      <td> 26111809</td>\n",
       "      <td> scaffold_5</td>\n",
       "    </tr>\n",
       "    <tr>\n",
       "      <th>3979</th>\n",
       "      <td>  78-  5:</td>\n",
       "      <td> AT1G69460.1</td>\n",
       "      <td> Thhalv10005484m</td>\n",
       "      <td>  3.000000e-72</td>\n",
       "      <td>-2.000000</td>\n",
       "      <td>-2.000000</td>\n",
       "      <td> Chr1</td>\n",
       "      <td> 26111809</td>\n",
       "      <td> scaffold_6</td>\n",
       "    </tr>\n",
       "    <tr>\n",
       "      <th>3987</th>\n",
       "      <td>  79-  5:</td>\n",
       "      <td> AT1G69460.1</td>\n",
       "      <td> Thhalv10004879m</td>\n",
       "      <td>  2.000000e-65</td>\n",
       "      <td>-2.000000</td>\n",
       "      <td>-2.000000</td>\n",
       "      <td> Chr1</td>\n",
       "      <td> 26111809</td>\n",
       "      <td> scaffold_6</td>\n",
       "    </tr>\n",
       "    <tr>\n",
       "      <th>5807</th>\n",
       "      <td> 106-191:</td>\n",
       "      <td> AT1G69460.1</td>\n",
       "      <td> Thhalv10019128m</td>\n",
       "      <td> 9.000000e-114</td>\n",
       "      <td> 0.051136</td>\n",
       "      <td> 0.628776</td>\n",
       "      <td> Chr1</td>\n",
       "      <td> 26111809</td>\n",
       "      <td> scaffold_9</td>\n",
       "    </tr>\n",
       "  </tbody>\n",
       "</table>\n",
       "</div>"
      ],
      "text/plain": [
       "             0            1                2              3         4  \\\n",
       "1192   51- 36:  AT1G69460.1  Thhalv10008758m   1.000000e-93  0.137558   \n",
       "3873   72-  6:  AT1G69460.1  Thhalv10008684m   2.000000e-78  0.271316   \n",
       "3979   78-  5:  AT1G69460.1  Thhalv10005484m   3.000000e-72 -2.000000   \n",
       "3987   79-  5:  AT1G69460.1  Thhalv10004879m   2.000000e-65 -2.000000   \n",
       "5807  106-191:  AT1G69460.1  Thhalv10019128m  9.000000e-114  0.051136   \n",
       "\n",
       "             5 ath_chr   ath_loc     tha_chr  \n",
       "1192  1.056825    Chr1  26111809  scaffold_5  \n",
       "3873  2.709354    Chr1  26111809  scaffold_5  \n",
       "3979 -2.000000    Chr1  26111809  scaffold_6  \n",
       "3987 -2.000000    Chr1  26111809  scaffold_6  \n",
       "5807  0.628776    Chr1  26111809  scaffold_9  "
      ]
     },
     "execution_count": 82,
     "metadata": {},
     "output_type": "execute_result"
    }
   ],
   "source": [
    "df_kaks_masked[(df_kaks_masked[1]=='AT1G69460.1')]"
   ]
  },
  {
   "cell_type": "code",
   "execution_count": 96,
   "metadata": {
    "collapsed": false
   },
   "outputs": [],
   "source": [
    "df_syn1 = df_kaks_masked[[True if '51-' == x.strip()[0:3] else False for x in df_kaks_masked[0]]]"
   ]
  },
  {
   "cell_type": "code",
   "execution_count": 87,
   "metadata": {
    "collapsed": false
   },
   "outputs": [
    {
     "data": {
      "text/plain": [
       "'  0-  0:'"
      ]
     },
     "execution_count": 87,
     "metadata": {},
     "output_type": "execute_result"
    }
   ],
   "source": [
    "df_kaks_masked[0][0]"
   ]
  },
  {
   "cell_type": "code",
   "execution_count": 97,
   "metadata": {
    "collapsed": true
   },
   "outputs": [],
   "source": [
    "ath_synteny_genes = df_syn1[1]\n",
    "eas_synteny_genes = df_syn1[2]"
   ]
  },
  {
   "cell_type": "code",
   "execution_count": null,
   "metadata": {
    "collapsed": true
   },
   "outputs": [],
   "source": []
  }
 ],
 "metadata": {
  "kernelspec": {
   "display_name": "Python 2",
   "language": "python",
   "name": "python2"
  },
  "language_info": {
   "codemirror_mode": {
    "name": "ipython",
    "version": 2
   },
   "file_extension": ".py",
   "mimetype": "text/x-python",
   "name": "python",
   "nbconvert_exporter": "python",
   "pygments_lexer": "ipython2",
   "version": "2.7.10"
  }
 },
 "nbformat": 4,
 "nbformat_minor": 0
}
