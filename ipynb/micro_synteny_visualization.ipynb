{
 "cells": [
  {
   "cell_type": "code",
   "execution_count": 36,
   "metadata": {
    "collapsed": true
   },
   "outputs": [],
   "source": [
    "import pandas as pd\n",
    "import numpy as np\n",
    "from __future__ import print_function"
   ]
  },
  {
   "cell_type": "markdown",
   "metadata": {},
   "source": [
    "**gff 파일 입력**"
   ]
  },
  {
   "cell_type": "code",
   "execution_count": 2,
   "metadata": {
    "collapsed": true
   },
   "outputs": [],
   "source": [
    "basedir = '/data2/k821209/pascal/droughtnet/'\n",
    "file_gff_ath = basedir + 'Athaliana_167_gene.gff3'\n",
    "file_gff_esa = basedir + 'Thalophila_173_gene.gff3'"
   ]
  },
  {
   "cell_type": "code",
   "execution_count": 3,
   "metadata": {
    "collapsed": false
   },
   "outputs": [],
   "source": [
    "df_ath = pd.read_csv(file_gff_ath,sep='\\t',header=None,skiprows=1)\n",
    "df_esa = pd.read_csv(file_gff_esa,sep='\\t',header=None,skiprows=1)"
   ]
  },
  {
   "cell_type": "code",
   "execution_count": 4,
   "metadata": {
    "collapsed": false
   },
   "outputs": [],
   "source": [
    "mask = (df_ath[2]=='mRNA')\n",
    "df_ath = df_ath[mask]\n",
    "#df_ath.head()"
   ]
  },
  {
   "cell_type": "code",
   "execution_count": 5,
   "metadata": {
    "collapsed": false
   },
   "outputs": [],
   "source": [
    "mask = (df_esa[2]=='mRNA')\n",
    "df_esa = df_esa[mask]\n",
    "#df_tha.head()"
   ]
  },
  {
   "cell_type": "code",
   "execution_count": 6,
   "metadata": {
    "collapsed": true
   },
   "outputs": [],
   "source": [
    "def get_genename(query):\n",
    "    dic = dict(zip([x.split('=')[0] for x in query.split(';')],[x.split('=')[1] for x in query.split(';')]))\n",
    "    return(dic['Name'])"
   ]
  },
  {
   "cell_type": "code",
   "execution_count": 7,
   "metadata": {
    "collapsed": false
   },
   "outputs": [],
   "source": [
    "ath_genename_list = [get_genename(x) for x in df_ath[8]]\n",
    "df_ath[\"genename\"] = ath_genename_list\n",
    "df_ath = df_ath.set_index('genename')\n",
    "esa_genename_list = [get_genename(x) for x in df_esa[8]]\n",
    "df_esa[\"genename\"] = esa_genename_list\n",
    "df_esa = df_esa.set_index('genename')"
   ]
  },
  {
   "cell_type": "code",
   "execution_count": 216,
   "metadata": {
    "collapsed": false
   },
   "outputs": [
    {
     "data": {
      "text/html": [
       "<div style=\"max-height:1000px;max-width:1500px;overflow:auto;\">\n",
       "<table border=\"1\" class=\"dataframe\">\n",
       "  <thead>\n",
       "    <tr style=\"text-align: right;\">\n",
       "      <th></th>\n",
       "      <th>0</th>\n",
       "      <th>1</th>\n",
       "      <th>2</th>\n",
       "      <th>3</th>\n",
       "      <th>4</th>\n",
       "      <th>5</th>\n",
       "      <th>6</th>\n",
       "      <th>7</th>\n",
       "      <th>8</th>\n",
       "    </tr>\n",
       "    <tr>\n",
       "      <th>genename</th>\n",
       "      <th></th>\n",
       "      <th></th>\n",
       "      <th></th>\n",
       "      <th></th>\n",
       "      <th></th>\n",
       "      <th></th>\n",
       "      <th></th>\n",
       "      <th></th>\n",
       "      <th></th>\n",
       "    </tr>\n",
       "  </thead>\n",
       "  <tbody>\n",
       "    <tr>\n",
       "      <th>Thhalv10024176m</th>\n",
       "      <td> scaffold_1</td>\n",
       "      <td> phytozome9_0</td>\n",
       "      <td> mRNA</td>\n",
       "      <td> 10215584</td>\n",
       "      <td> 10239664</td>\n",
       "      <td> .</td>\n",
       "      <td> +</td>\n",
       "      <td> .</td>\n",
       "      <td> ID=PAC:20194900;Name=Thhalv10024176m;pacid=201...</td>\n",
       "    </tr>\n",
       "    <tr>\n",
       "      <th>Thhalv10024178m</th>\n",
       "      <td> scaffold_1</td>\n",
       "      <td> phytozome9_0</td>\n",
       "      <td> mRNA</td>\n",
       "      <td> 10222202</td>\n",
       "      <td> 10239399</td>\n",
       "      <td> .</td>\n",
       "      <td> +</td>\n",
       "      <td> .</td>\n",
       "      <td> ID=PAC:20194901;Name=Thhalv10024178m;pacid=201...</td>\n",
       "    </tr>\n",
       "    <tr>\n",
       "      <th>Thhalv10024177m</th>\n",
       "      <td> scaffold_1</td>\n",
       "      <td> phytozome9_0</td>\n",
       "      <td> mRNA</td>\n",
       "      <td>  1677535</td>\n",
       "      <td>  1695178</td>\n",
       "      <td> .</td>\n",
       "      <td> +</td>\n",
       "      <td> .</td>\n",
       "      <td> ID=PAC:20192943;Name=Thhalv10024177m;pacid=201...</td>\n",
       "    </tr>\n",
       "    <tr>\n",
       "      <th>Thhalv10024179m</th>\n",
       "      <td> scaffold_1</td>\n",
       "      <td> phytozome9_0</td>\n",
       "      <td> mRNA</td>\n",
       "      <td>   488357</td>\n",
       "      <td>   503965</td>\n",
       "      <td> .</td>\n",
       "      <td> +</td>\n",
       "      <td> .</td>\n",
       "      <td> ID=PAC:20194524;Name=Thhalv10024179m;pacid=201...</td>\n",
       "    </tr>\n",
       "    <tr>\n",
       "      <th>Thhalv10024180m</th>\n",
       "      <td> scaffold_1</td>\n",
       "      <td> phytozome9_0</td>\n",
       "      <td> mRNA</td>\n",
       "      <td>  3576033</td>\n",
       "      <td>  3586074</td>\n",
       "      <td> .</td>\n",
       "      <td> -</td>\n",
       "      <td> .</td>\n",
       "      <td> ID=PAC:20194081;Name=Thhalv10024180m;pacid=201...</td>\n",
       "    </tr>\n",
       "  </tbody>\n",
       "</table>\n",
       "</div>"
      ],
      "text/plain": [
       "                          0             1     2         3         4  5  6  7  \\\n",
       "genename                                                                       \n",
       "Thhalv10024176m  scaffold_1  phytozome9_0  mRNA  10215584  10239664  .  +  .   \n",
       "Thhalv10024178m  scaffold_1  phytozome9_0  mRNA  10222202  10239399  .  +  .   \n",
       "Thhalv10024177m  scaffold_1  phytozome9_0  mRNA   1677535   1695178  .  +  .   \n",
       "Thhalv10024179m  scaffold_1  phytozome9_0  mRNA    488357    503965  .  +  .   \n",
       "Thhalv10024180m  scaffold_1  phytozome9_0  mRNA   3576033   3586074  .  -  .   \n",
       "\n",
       "                                                                 8  \n",
       "genename                                                            \n",
       "Thhalv10024176m  ID=PAC:20194900;Name=Thhalv10024176m;pacid=201...  \n",
       "Thhalv10024178m  ID=PAC:20194901;Name=Thhalv10024178m;pacid=201...  \n",
       "Thhalv10024177m  ID=PAC:20192943;Name=Thhalv10024177m;pacid=201...  \n",
       "Thhalv10024179m  ID=PAC:20194524;Name=Thhalv10024179m;pacid=201...  \n",
       "Thhalv10024180m  ID=PAC:20194081;Name=Thhalv10024180m;pacid=201...  "
      ]
     },
     "execution_count": 216,
     "metadata": {},
     "output_type": "execute_result"
    }
   ],
   "source": [
    "df_ath.head()\n",
    "df_esa.head()"
   ]
  },
  {
   "cell_type": "markdown",
   "metadata": {},
   "source": [
    "**mcscan output 입력**"
   ]
  },
  {
   "cell_type": "code",
   "execution_count": 213,
   "metadata": {
    "collapsed": true
   },
   "outputs": [],
   "source": [
    "file_kaks = '/data2/k821209/pascal/droughtnet/At2Th.collinearity.kaks.clean'\n",
    "df_kaks = pd.read_csv(file_kaks,sep='\\t',header=None)"
   ]
  },
  {
   "cell_type": "code",
   "execution_count": 214,
   "metadata": {
    "collapsed": true
   },
   "outputs": [],
   "source": [
    "df_kaks['synteny_ID'] = df_kaks[0].apply(lambda x:x.strip().split('-')[0]) "
   ]
  },
  {
   "cell_type": "markdown",
   "metadata": {},
   "source": [
    "**첫 synteny ID**"
   ]
  },
  {
   "cell_type": "code",
   "execution_count": 287,
   "metadata": {
    "collapsed": false
   },
   "outputs": [
    {
     "name": "stdout",
     "output_type": "stream",
     "text": [
      "1669\n",
      "1429\n"
     ]
    }
   ],
   "source": [
    "synteny_ID = '106'\n",
    "\n",
    "mask = (df_kaks['synteny_ID'] == synteny_ID)\n",
    "ath_genelist_synteny, esa_genelist_synteny = df_kaks[mask][1].values, df_kaks[mask][2].values\n",
    "\n",
    "ath_chr = df_ath.loc[ath_genelist_synteny[0]][0]\n",
    "esa_chr = df_esa.loc[esa_genelist_synteny[0]][0]\n",
    "ath_pos = [df_ath.loc[x][3] for x in ath_genelist_synteny]\n",
    "esa_pos = [df_esa.loc[x][3] for x in esa_genelist_synteny]\n",
    "esa_pos.sort()\n",
    "mask = (df_ath[0] == ath_chr) & (int(ath_pos[0]) <= df_ath[3].astype(np.int))&( df_ath[3].astype(np.int)<= int(ath_pos[-1]))#<= ath_pos[-1]) \n",
    "ath_genelist_synteny_all = df_ath[mask].index\n",
    "print(len(ath_genelist_synteny_all))\n",
    "\n",
    "mask = (df_esa[0] == esa_chr) & (int(esa_pos[0]) <= df_esa[3].astype(np.int))&( df_esa[3].astype(np.int)<= int(esa_pos[-1]))#<= ath_pos[-1]) \n",
    "esa_genelist_synteny_all = df_esa[mask].index\n",
    "print(len(esa_genelist_synteny_all))\n",
    "#len(esa_genelist_synteny_all)\n",
    "#print( esa_genelist_synteny_all[0:10])\n",
    "#esa_genelist_synteny_all = esa_genelist_synteny_all[::-1]\n",
    "#print(esa_genelist_synteny_all[0:10])\n",
    "\n",
    "diameter = 5 # of the circle representing a gene\n",
    "spacing = 3 # fixed distance between genes \n",
    "ath_line_length = (diameter*2 + spacing) * len(ath_genelist_synteny_all)\n",
    "esa_line_length = (diameter*2 + spacing) * len(esa_genelist_synteny_all)\n",
    "\n",
    "Outfile = open('synteny_ID_%s.svg'%synteny_ID,'w')\n",
    "width = ath_line_length + 200\n",
    "height = 1000\n",
    "gap = 300 # gap between species lines\n",
    "print('''<html>\n",
    "<body>\n",
    "\n",
    "<h1>My first SVG</h1>\n",
    "<svg height=\"%d\" width=\"%d\">'''%(height,width),file=Outfile)\n",
    "\n",
    "#line = '<line x1=\"%d\" y1=\"%d\" x2=\"%d\" y2=\"%d\" style=\"stroke:rgb(255,0,0);stroke-width:1\" />' \n",
    "line = '<line x1=\"%d\" y1=\"%d\" x2=\"%d\" y2=\"%d\" stroke=\"%s\" stroke-width=\"1\" />' \n",
    "# left dot to right dot\n",
    "circle = '<circle cx=\"%d\" cy=\"%d\" r=\"%d\" stroke=\"black\" stroke-width=\"1\" fill=\"%s\" fill-opacity=\"0.4\"/>'\n",
    "# x, y, diameter\n",
    "text =  '<text x=\"%d\" y=\"%d\" fill=\"black\">%s</text>'\n",
    "# x, y, text\n",
    "\n",
    "# Line! \n",
    "Alx = (width/2)-(ath_line_length/2)\n",
    "Aly = 20\n",
    "Arx = (width/2)+(ath_line_length/2)\n",
    "Ary = 20\n",
    "print(line%(Alx,Aly,Arx,Ary,'grey'),file=Outfile)\n",
    "print(text%(Alx,Aly-10,ath_chr),file=Outfile)\n",
    "\n",
    "# Line! \n",
    "Blx = (width/2)-(esa_line_length/2)\n",
    "Bly = Aly + gap\n",
    "Brx = (width/2)+(esa_line_length/2)\n",
    "Bry = Ary + gap\n",
    "print(line%(Blx,Bly,Brx,Bry,'grey'),file=Outfile)\n",
    "print(text%(Blx,Bly-10,esa_chr),file=Outfile)\n",
    "\n",
    "dicG2P_ath = {} # genename to position\n",
    "for i,j  in enumerate(ath_genelist_synteny_all):\n",
    "    print(circle%(i*(spacing+diameter*2)+Alx,Aly,diameter,'white'),file=Outfile)\n",
    "    dicG2P_ath[j] = [i*(spacing+diameter*2)+Alx,Aly]\n",
    "\n",
    "dicG2P_esa = {}\n",
    "for i,j  in enumerate(esa_genelist_synteny_all):\n",
    "    print(circle%(i*(spacing+diameter*2)+Blx,Bly,diameter,'white'),file=Outfile)\n",
    "    dicG2P_esa[j] = [i*(spacing+diameter*2)+Blx,Bly]\n",
    "\n",
    "for i,j in enumerate(ath_genelist_synteny):\n",
    "    gnA = j\n",
    "    gnB = esa_genelist_synteny[i]\n",
    "    lx, ly = dicG2P_ath[gnA]\n",
    "    rx, ry = dicG2P_esa[gnB]\n",
    "    print(line%(lx,ly,rx,ry,'grey'),file=Outfile)\n",
    "    print(circle%(lx,ly,diameter,'red'),file=Outfile)\n",
    "    print(circle%(rx,ry,diameter,'red'),file=Outfile)"
   ]
  },
  {
   "cell_type": "markdown",
   "metadata": {},
   "source": [
    "**두번째 부터는 다음 펑션으로**"
   ]
  },
  {
   "cell_type": "code",
   "execution_count": 288,
   "metadata": {
    "collapsed": true
   },
   "outputs": [],
   "source": [
    "def add_synteny(ID,layer,start):\n",
    "    synteny_ID = ID\n",
    "\n",
    "    mask = (df_kaks['synteny_ID'] == synteny_ID)\n",
    "    ath_genelist_synteny, esa_genelist_synteny = df_kaks[mask][1].values, df_kaks[mask][2].values\n",
    "\n",
    "    ath_chr = df_ath.loc[ath_genelist_synteny[0]][0]\n",
    "    esa_chr = df_esa.loc[esa_genelist_synteny[0]][0]\n",
    "    ath_pos = [df_ath.loc[x][3] for x in ath_genelist_synteny]\n",
    "    esa_pos = [df_esa.loc[x][3] for x in esa_genelist_synteny]\n",
    "    esa_pos.sort()\n",
    "    mask = (df_ath[0] == ath_chr) & (int(ath_pos[0]) <= df_ath[3].astype(np.int))&( df_ath[3].astype(np.int)<= int(ath_pos[-1]))#<= ath_pos[-1]) \n",
    "    ath_genelist_synteny_all = df_ath[mask].index\n",
    "    print(len(ath_genelist_synteny_all))\n",
    "\n",
    "    mask = (df_esa[0] == esa_chr) & (int(esa_pos[0]) <= df_esa[3].astype(np.int))&( df_esa[3].astype(np.int)<= int(esa_pos[-1]))#<= ath_pos[-1]) \n",
    "    esa_genelist_synteny_all = df_esa[mask].index\n",
    "    print(len(esa_genelist_synteny_all))\n",
    "    #len(esa_genelist_synteny_all)\n",
    "    #print( esa_genelist_synteny_all[0:10])\n",
    "    #esa_genelist_synteny_all = esa_genelist_synteny_all[::-1]\n",
    "    #print(esa_genelist_synteny_all[0:10])\n",
    "\n",
    "    #diameter = 5 # of the circle representing a gene\n",
    "    #spacing = 3 # fixed distance between genes \n",
    "    ath_line_length = (diameter*2 + spacing) * len(ath_genelist_synteny_all)\n",
    "    esa_line_length = (diameter*2 + spacing) * len(esa_genelist_synteny_all)\n",
    "\n",
    "\n",
    "    #height = 500\n",
    "    gap = 300 # gap between species lines\n",
    "    # Line! \n",
    "    Blx = start\n",
    "    Bly = Aly + gap * layer\n",
    "    Brx = start+esa_line_length\n",
    "    Bry = Ary + gap * layer\n",
    "    print(line%(Blx,Bly,Brx,Bry,'grey'),file=Outfile)\n",
    "    print(text%(Blx,Bly-10,esa_chr+':'+str(esa_pos[0])+'..'+str(esa_pos[-1])),file=Outfile)\n",
    "\n",
    "    dicG2P_ath = {} # genename to position\n",
    "    for i,j  in enumerate(ath_genelist_synteny_all):\n",
    "        print(circle%(i*(spacing+diameter*2)+Alx,Aly,diameter,'white'),file=Outfile)\n",
    "        dicG2P_ath[j] = [i*(spacing+diameter*2)+Alx,Aly]\n",
    "    \n",
    "    dicG2P_esa = {}\n",
    "    for i,j  in enumerate(esa_genelist_synteny_all):\n",
    "        print(circle%(i*(spacing+diameter*2)+Blx,Bly,diameter,'white'),file=Outfile)\n",
    "        dicG2P_esa[j] = [i*(spacing+diameter*2)+Blx,Bly]\n",
    "\n",
    "    for i,j in enumerate(ath_genelist_synteny):\n",
    "        gnA = j\n",
    "        gnB = esa_genelist_synteny[i]\n",
    "        lx, ly = dicG2P_ath[gnA]\n",
    "        rx, ry = dicG2P_esa[gnB]\n",
    "        print(line%(lx,ly,rx,ry,'grey'),file=Outfile)\n",
    "        print(circle%(lx,ly,diameter,'red'),file=Outfile)\n",
    "        print(circle%(rx,ry,diameter,'red'),file=Outfile)"
   ]
  },
  {
   "cell_type": "code",
   "execution_count": 289,
   "metadata": {
    "collapsed": false
   },
   "outputs": [
    {
     "name": "stdout",
     "output_type": "stream",
     "text": [
      "557\n",
      "358\n",
      "30\n",
      "33\n",
      "70\n",
      "63\n",
      "70\n",
      "73\n"
     ]
    }
   ],
   "source": [
    "add_synteny('51',2,width/4)\n",
    "add_synteny('72',2,width/4-500)\n",
    "add_synteny('78',3,width/5)\n",
    "add_synteny('79',3,width/5+1000)\n"
   ]
  },
  {
   "cell_type": "code",
   "execution_count": 290,
   "metadata": {
    "collapsed": false
   },
   "outputs": [],
   "source": [
    "print('''</svg>\n",
    "\n",
    "</body>\n",
    "</html>\n",
    "''',file=Outfile)\n",
    "\n",
    "Outfile.close()"
   ]
  },
  {
   "cell_type": "code",
   "execution_count": null,
   "metadata": {
    "collapsed": true
   },
   "outputs": [],
   "source": []
  }
 ],
 "metadata": {
  "kernelspec": {
   "display_name": "Python 2",
   "language": "python",
   "name": "python2"
  },
  "language_info": {
   "codemirror_mode": {
    "name": "ipython",
    "version": 2
   },
   "file_extension": ".py",
   "mimetype": "text/x-python",
   "name": "python",
   "nbconvert_exporter": "python",
   "pygments_lexer": "ipython2",
   "version": "2.7.3"
  }
 },
 "nbformat": 4,
 "nbformat_minor": 0
}
