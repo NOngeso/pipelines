{
 "cells": [
  {
   "cell_type": "code",
   "execution_count": 54,
   "metadata": {
    "collapsed": true
   },
   "outputs": [],
   "source": [
    "import pickle as pk \n",
    "import pandas as pd"
   ]
  },
  {
   "cell_type": "code",
   "execution_count": 56,
   "metadata": {
    "collapsed": false
   },
   "outputs": [],
   "source": [
    "file_p = '../../../../Cre/DroughtNet/tophat/0.singleend_cov.dicHD2array.p'\n",
    "dicHD2array = pk.load( open( file_p, \"rb\" ) )"
   ]
  },
  {
   "cell_type": "code",
   "execution_count": 57,
   "metadata": {
    "collapsed": false
   },
   "outputs": [],
   "source": [
    "file_gff = '../../../../Cre/DroughtNet/PhytozomeV10_download/References/Esalsugineum/annotation/Esalsugineum_173_v1.0.gene.gff3'\n",
    "df_gff   = pd.read_csv(file_gff,sep='\\t',skiprows=2,header=None)"
   ]
  },
  {
   "cell_type": "code",
   "execution_count": 58,
   "metadata": {
    "collapsed": false
   },
   "outputs": [],
   "source": [
    "mask        = (df_gff[2] == 'gene')\n",
    "df_gff_gene = df_gff[mask]"
   ]
  },
  {
   "cell_type": "code",
   "execution_count": 59,
   "metadata": {
    "collapsed": false
   },
   "outputs": [
    {
     "name": "stderr",
     "output_type": "stream",
     "text": [
      "/usr/local/lib/python2.7/dist-packages/ipykernel/__main__.py:1: SettingWithCopyWarning: \n",
      "A value is trying to be set on a copy of a slice from a DataFrame.\n",
      "Try using .loc[row_indexer,col_indexer] = value instead\n",
      "\n",
      "See the caveats in the documentation: http://pandas.pydata.org/pandas-docs/stable/indexing.html#indexing-view-versus-copy\n",
      "  if __name__ == '__main__':\n"
     ]
    }
   ],
   "source": [
    "df_gff_gene['genename'] = df_gff_gene[8].apply(lambda x : x.split(';')[0].replace('ID=','').split('.')[0])"
   ]
  },
  {
   "cell_type": "code",
   "execution_count": 60,
   "metadata": {
    "collapsed": false
   },
   "outputs": [
    {
     "data": {
      "text/plain": [
       "array([0, 0, 0, 0, 0, 0, 0, 0, 0, 0, 0, 0, 0, 0, 0, 0, 0, 0, 0, 0, 0, 0, 0,\n",
       "       0, 0, 0, 0, 0, 0, 0, 0, 0, 0, 0, 0, 0, 0, 0, 0, 0, 0, 0, 0, 0, 0, 1,\n",
       "       1, 1, 1, 1, 1, 1, 1, 1, 1, 1, 1, 1, 1, 1, 1, 1, 1, 1, 1, 1, 1, 1, 1,\n",
       "       1, 1, 1, 1, 1, 1, 1, 1, 1, 1, 1, 1, 1, 1, 1, 1, 1, 1, 1, 1, 1], dtype=uint64)"
      ]
     },
     "execution_count": 60,
     "metadata": {},
     "output_type": "execute_result"
    }
   ],
   "source": [
    "dicHD2array['scaffold_1'][10:100]"
   ]
  },
  {
   "cell_type": "code",
   "execution_count": 112,
   "metadata": {
    "collapsed": false
   },
   "outputs": [
    {
     "name": "stderr",
     "output_type": "stream",
     "text": [
      "/usr/local/lib/python2.7/dist-packages/ipykernel/__main__.py:10: SettingWithCopyWarning: \n",
      "A value is trying to be set on a copy of a slice from a DataFrame.\n",
      "Try using .loc[row_indexer,col_indexer] = value instead\n",
      "\n",
      "See the caveats in the documentation: http://pandas.pydata.org/pandas-docs/stable/indexing.html#indexing-view-versus-copy\n"
     ]
    }
   ],
   "source": [
    "def get_cov(df):\n",
    "    scaffold   = df[0] \n",
    "    #print df\n",
    "    #print scaffold\n",
    "    left = df[3]\n",
    "    right = df[4]\n",
    "    #print left,right\n",
    "    array = dicHD2array[scaffold][int(left)-1:int(right)]\n",
    "    return float(len(array[(array > 0)]))/float(right-left+1)\n",
    "df_gff_gene['coverage'] = df_gff_gene.apply(get_cov,axis=1)"
   ]
  },
  {
   "cell_type": "code",
   "execution_count": 117,
   "metadata": {
    "collapsed": false
   },
   "outputs": [
    {
     "name": "stderr",
     "output_type": "stream",
     "text": [
      "/usr/local/lib/python2.7/dist-packages/ipykernel/__main__.py:10: SettingWithCopyWarning: \n",
      "A value is trying to be set on a copy of a slice from a DataFrame.\n",
      "Try using .loc[row_indexer,col_indexer] = value instead\n",
      "\n",
      "See the caveats in the documentation: http://pandas.pydata.org/pandas-docs/stable/indexing.html#indexing-view-versus-copy\n"
     ]
    }
   ],
   "source": [
    "def get_dep(df):\n",
    "    scaffold   = df[0] \n",
    "    #print df\n",
    "    #print scaffold\n",
    "    left = df[3]\n",
    "    right = df[4]\n",
    "    #print left,right\n",
    "    array = dicHD2array[scaffold][int(left)-1:int(right)]\n",
    "    return sum(array)/float(right-left+1)\n",
    "df_gff_gene['depth'] = df_gff_gene.apply(get_dep,axis=1)"
   ]
  },
  {
   "cell_type": "code",
   "execution_count": 118,
   "metadata": {
    "collapsed": true
   },
   "outputs": [],
   "source": [
    "df_gff_gene_ix = df_gff_gene.set_index('genename')"
   ]
  },
  {
   "cell_type": "code",
   "execution_count": 119,
   "metadata": {
    "collapsed": false
   },
   "outputs": [
    {
     "data": {
      "text/html": [
       "<div>\n",
       "<table border=\"1\" class=\"dataframe\">\n",
       "  <thead>\n",
       "    <tr style=\"text-align: right;\">\n",
       "      <th></th>\n",
       "      <th>0</th>\n",
       "      <th>1</th>\n",
       "      <th>2</th>\n",
       "      <th>3</th>\n",
       "      <th>4</th>\n",
       "      <th>5</th>\n",
       "      <th>6</th>\n",
       "      <th>7</th>\n",
       "      <th>8</th>\n",
       "      <th>coverage</th>\n",
       "      <th>depth</th>\n",
       "    </tr>\n",
       "    <tr>\n",
       "      <th>genename</th>\n",
       "      <th></th>\n",
       "      <th></th>\n",
       "      <th></th>\n",
       "      <th></th>\n",
       "      <th></th>\n",
       "      <th></th>\n",
       "      <th></th>\n",
       "      <th></th>\n",
       "      <th></th>\n",
       "      <th></th>\n",
       "      <th></th>\n",
       "    </tr>\n",
       "  </thead>\n",
       "  <tbody>\n",
       "    <tr>\n",
       "      <th>Thhalv10024176m</th>\n",
       "      <td>scaffold_1</td>\n",
       "      <td>phytozomev10</td>\n",
       "      <td>gene</td>\n",
       "      <td>10215584</td>\n",
       "      <td>10239664</td>\n",
       "      <td>.</td>\n",
       "      <td>+</td>\n",
       "      <td>.</td>\n",
       "      <td>ID=Thhalv10024176m.g.v1.0;Name=Thhalv10024176m.g</td>\n",
       "      <td>1</td>\n",
       "      <td>267.635148</td>\n",
       "    </tr>\n",
       "    <tr>\n",
       "      <th>Thhalv10024177m</th>\n",
       "      <td>scaffold_1</td>\n",
       "      <td>phytozomev10</td>\n",
       "      <td>gene</td>\n",
       "      <td>1677535</td>\n",
       "      <td>1695178</td>\n",
       "      <td>.</td>\n",
       "      <td>+</td>\n",
       "      <td>.</td>\n",
       "      <td>ID=Thhalv10024177m.g.v1.0;Name=Thhalv10024177m.g</td>\n",
       "      <td>1</td>\n",
       "      <td>138.790864</td>\n",
       "    </tr>\n",
       "    <tr>\n",
       "      <th>Thhalv10024179m</th>\n",
       "      <td>scaffold_1</td>\n",
       "      <td>phytozomev10</td>\n",
       "      <td>gene</td>\n",
       "      <td>488357</td>\n",
       "      <td>503965</td>\n",
       "      <td>.</td>\n",
       "      <td>+</td>\n",
       "      <td>.</td>\n",
       "      <td>ID=Thhalv10024179m.g.v1.0;Name=Thhalv10024179m.g</td>\n",
       "      <td>1</td>\n",
       "      <td>228.589980</td>\n",
       "    </tr>\n",
       "    <tr>\n",
       "      <th>Thhalv10024180m</th>\n",
       "      <td>scaffold_1</td>\n",
       "      <td>phytozomev10</td>\n",
       "      <td>gene</td>\n",
       "      <td>3576033</td>\n",
       "      <td>3586074</td>\n",
       "      <td>.</td>\n",
       "      <td>-</td>\n",
       "      <td>.</td>\n",
       "      <td>ID=Thhalv10024180m.g.v1.0;Name=Thhalv10024180m.g</td>\n",
       "      <td>1</td>\n",
       "      <td>204.641605</td>\n",
       "    </tr>\n",
       "    <tr>\n",
       "      <th>Thhalv10024181m</th>\n",
       "      <td>scaffold_1</td>\n",
       "      <td>phytozomev10</td>\n",
       "      <td>gene</td>\n",
       "      <td>15769002</td>\n",
       "      <td>15781579</td>\n",
       "      <td>.</td>\n",
       "      <td>-</td>\n",
       "      <td>.</td>\n",
       "      <td>ID=Thhalv10024181m.g.v1.0;Name=Thhalv10024181m.g</td>\n",
       "      <td>1</td>\n",
       "      <td>49.504452</td>\n",
       "    </tr>\n",
       "  </tbody>\n",
       "</table>\n",
       "</div>"
      ],
      "text/plain": [
       "                          0             1     2         3         4  5  6  7  \\\n",
       "genename                                                                       \n",
       "Thhalv10024176m  scaffold_1  phytozomev10  gene  10215584  10239664  .  +  .   \n",
       "Thhalv10024177m  scaffold_1  phytozomev10  gene   1677535   1695178  .  +  .   \n",
       "Thhalv10024179m  scaffold_1  phytozomev10  gene    488357    503965  .  +  .   \n",
       "Thhalv10024180m  scaffold_1  phytozomev10  gene   3576033   3586074  .  -  .   \n",
       "Thhalv10024181m  scaffold_1  phytozomev10  gene  15769002  15781579  .  -  .   \n",
       "\n",
       "                                                                8  coverage  \\\n",
       "genename                                                                      \n",
       "Thhalv10024176m  ID=Thhalv10024176m.g.v1.0;Name=Thhalv10024176m.g         1   \n",
       "Thhalv10024177m  ID=Thhalv10024177m.g.v1.0;Name=Thhalv10024177m.g         1   \n",
       "Thhalv10024179m  ID=Thhalv10024179m.g.v1.0;Name=Thhalv10024179m.g         1   \n",
       "Thhalv10024180m  ID=Thhalv10024180m.g.v1.0;Name=Thhalv10024180m.g         1   \n",
       "Thhalv10024181m  ID=Thhalv10024181m.g.v1.0;Name=Thhalv10024181m.g         1   \n",
       "\n",
       "                      depth  \n",
       "genename                     \n",
       "Thhalv10024176m  267.635148  \n",
       "Thhalv10024177m  138.790864  \n",
       "Thhalv10024179m  228.589980  \n",
       "Thhalv10024180m  204.641605  \n",
       "Thhalv10024181m   49.504452  "
      ]
     },
     "execution_count": 119,
     "metadata": {},
     "output_type": "execute_result"
    }
   ],
   "source": [
    "df_gff_gene_ix[df_gff_gene_ix['coverage']>0].head()"
   ]
  },
  {
   "cell_type": "code",
   "execution_count": 120,
   "metadata": {
    "collapsed": true
   },
   "outputs": [],
   "source": [
    "from StringIO import StringIO\n",
    "\n",
    "test = StringIO('''Thhalv10018014m,2 bands (400bp and 600 bp)\n",
    "Thhalv10019947m,No                        \n",
    "Thhalv10018181m,1 band (1500 bp)\n",
    "Thhalv10024568m,No                        \n",
    "Thhalv10007339m,No                    \n",
    "Thhalv10002002m,2 bands (400bp and 600 bp)\n",
    "Thhalv10025531m,Yes  (expected size)\n",
    "Thhalv10010790m,No                         \n",
    "Thhalv10013526m,Yes (expected size)\n",
    "Thhalv10006290m,Yes (expected size)\n",
    "Thhalv10014963m,Yes (expected size)''')"
   ]
  },
  {
   "cell_type": "code",
   "execution_count": 121,
   "metadata": {
    "collapsed": false
   },
   "outputs": [],
   "source": [
    "df = pd.DataFrame.from_csv(test,sep=',',header=None)"
   ]
  },
  {
   "cell_type": "code",
   "execution_count": 122,
   "metadata": {
    "collapsed": false
   },
   "outputs": [],
   "source": [
    "df = df.reset_index()"
   ]
  },
  {
   "cell_type": "code",
   "execution_count": 125,
   "metadata": {
    "collapsed": false
   },
   "outputs": [],
   "source": [
    "\n",
    "df['cov'] = df[0].apply(lambda x : df_gff_gene_ix.loc[x]['coverage'])\n",
    "df['dep'] = df[0].apply(lambda x : df_gff_gene_ix.loc[x]['depth'])"
   ]
  },
  {
   "cell_type": "code",
   "execution_count": 126,
   "metadata": {
    "collapsed": false
   },
   "outputs": [
    {
     "data": {
      "text/html": [
       "<div>\n",
       "<table border=\"1\" class=\"dataframe\">\n",
       "  <thead>\n",
       "    <tr style=\"text-align: right;\">\n",
       "      <th></th>\n",
       "      <th>0</th>\n",
       "      <th>1</th>\n",
       "      <th>cov</th>\n",
       "      <th>dep</th>\n",
       "    </tr>\n",
       "  </thead>\n",
       "  <tbody>\n",
       "    <tr>\n",
       "      <th>0</th>\n",
       "      <td>Thhalv10018014m</td>\n",
       "      <td>2 bands (400bp and 600 bp)</td>\n",
       "      <td>1</td>\n",
       "      <td>176.115945</td>\n",
       "    </tr>\n",
       "    <tr>\n",
       "      <th>1</th>\n",
       "      <td>Thhalv10019947m</td>\n",
       "      <td>No</td>\n",
       "      <td>1</td>\n",
       "      <td>202.985005</td>\n",
       "    </tr>\n",
       "    <tr>\n",
       "      <th>2</th>\n",
       "      <td>Thhalv10018181m</td>\n",
       "      <td>1 band (1500 bp)</td>\n",
       "      <td>1</td>\n",
       "      <td>71.664586</td>\n",
       "    </tr>\n",
       "    <tr>\n",
       "      <th>3</th>\n",
       "      <td>Thhalv10024568m</td>\n",
       "      <td>No</td>\n",
       "      <td>1</td>\n",
       "      <td>538.662128</td>\n",
       "    </tr>\n",
       "    <tr>\n",
       "      <th>4</th>\n",
       "      <td>Thhalv10007339m</td>\n",
       "      <td>No</td>\n",
       "      <td>1</td>\n",
       "      <td>54.006396</td>\n",
       "    </tr>\n",
       "  </tbody>\n",
       "</table>\n",
       "</div>"
      ],
      "text/plain": [
       "                 0                           1  cov         dep\n",
       "0  Thhalv10018014m  2 bands (400bp and 600 bp)    1  176.115945\n",
       "1  Thhalv10019947m  No                            1  202.985005\n",
       "2  Thhalv10018181m            1 band (1500 bp)    1   71.664586\n",
       "3  Thhalv10024568m  No                            1  538.662128\n",
       "4  Thhalv10007339m      No                        1   54.006396"
      ]
     },
     "execution_count": 126,
     "metadata": {},
     "output_type": "execute_result"
    }
   ],
   "source": [
    "df.head()"
   ]
  },
  {
   "cell_type": "code",
   "execution_count": 104,
   "metadata": {
    "collapsed": false
   },
   "outputs": [
    {
     "data": {
      "text/plain": [
       "1.0"
      ]
     },
     "execution_count": 104,
     "metadata": {},
     "output_type": "execute_result"
    }
   ],
   "source": [
    "df_gff_gene_ix.loc['Thhalv10018014m']['coverage']"
   ]
  },
  {
   "cell_type": "code",
   "execution_count": 139,
   "metadata": {
    "collapsed": false
   },
   "outputs": [
    {
     "data": {
      "text/plain": [
       "0                                                 scaffold_9\n",
       "1                                               phytozomev10\n",
       "2                                                       gene\n",
       "3                                                    4701572\n",
       "4                                                    4710213\n",
       "5                                                          .\n",
       "6                                                          -\n",
       "7                                                          .\n",
       "8           ID=Thhalv10018014m.g.v1.0;Name=Thhalv10018014m.g\n",
       "coverage                                                   1\n",
       "depth                                                176.116\n",
       "Name: Thhalv10018014m, dtype: object"
      ]
     },
     "execution_count": 139,
     "metadata": {},
     "output_type": "execute_result"
    }
   ],
   "source": [
    "gene  = 'Thhalv10018014m'\n",
    "df_gff_gene_ix.loc[gene]"
   ]
  },
  {
   "cell_type": "code",
   "execution_count": 143,
   "metadata": {
    "collapsed": false
   },
   "outputs": [
    {
     "data": {
      "text/plain": [
       "176.11594538301318"
      ]
     },
     "execution_count": 143,
     "metadata": {},
     "output_type": "execute_result"
    }
   ],
   "source": [
    "sum(dicHD2array['scaffold_9'][int(df_gff_gene_ix.loc[gene][3])-1:int(df_gff_gene_ix.loc[gene][4])])/float(int(df_gff_gene_ix.loc[gene][4])-int(df_gff_gene_ix.loc[gene][3])+1)"
   ]
  },
  {
   "cell_type": "code",
   "execution_count": null,
   "metadata": {
    "collapsed": true
   },
   "outputs": [],
   "source": []
  }
 ],
 "metadata": {
  "kernelspec": {
   "display_name": "Python 2",
   "language": "python",
   "name": "python2"
  },
  "language_info": {
   "codemirror_mode": {
    "name": "ipython",
    "version": 2
   },
   "file_extension": ".py",
   "mimetype": "text/x-python",
   "name": "python",
   "nbconvert_exporter": "python",
   "pygments_lexer": "ipython2",
   "version": "2.7.6"
  }
 },
 "nbformat": 4,
 "nbformat_minor": 0
}
