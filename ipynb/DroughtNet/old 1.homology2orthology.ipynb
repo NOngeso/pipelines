{
 "cells": [
  {
   "cell_type": "code",
   "execution_count": null,
   "metadata": {
    "collapsed": false
   },
   "outputs": [],
   "source": [
    "import igraph as ig\n",
    "import kang\n",
    "import pandas as pd\n",
    "file_fa       = './blast/Athaliana_167.fa.cds.fa'\n",
    "dicH2seq_ath = kang.Fasta2dic(file_fa)\n",
    "genelist_ath = list(dicH2seq_ath.keys())\n",
    "genenumber_ath = len(genelist_ath)"
   ]
  },
  {
   "cell_type": "code",
   "execution_count": null,
   "metadata": {
    "collapsed": true
   },
   "outputs": [],
   "source": [
    "g_ath = ig.Graph()"
   ]
  },
  {
   "cell_type": "code",
   "execution_count": null,
   "metadata": {
    "collapsed": false
   },
   "outputs": [],
   "source": [
    "g_ath.add_vertices(genenumber_ath) "
   ]
  },
  {
   "cell_type": "code",
   "execution_count": null,
   "metadata": {
    "collapsed": false
   },
   "outputs": [],
   "source": [
    "genelist_total = genelist_ath\n",
    "dicN2G_ath = dict(zip([x[0] for x in enumerate(genelist_total)],[x[1] for x in enumerate(genelist_total)]))\n",
    "dicG2N_ath = dict(zip([x[1] for x in enumerate(genelist_total)],[x[0] for x in enumerate(genelist_total)]))"
   ]
  },
  {
   "cell_type": "code",
   "execution_count": null,
   "metadata": {
    "collapsed": false
   },
   "outputs": [],
   "source": [
    "df_ath = pd.read_csv('./blast/Athaliana_167.fa.pep.fa.bp.ev1e5.out7.rmsharp.txt',sep='\\t',header=None)"
   ]
  },
  {
   "cell_type": "code",
   "execution_count": null,
   "metadata": {
    "collapsed": false
   },
   "outputs": [],
   "source": [
    "df_in = df_ath\n",
    "dicG2N = dicG2N_ath\n",
    "for each in df_in.index: # 데이터 프레임엔 유전자 1:1의 상관관계가 들어감\n",
    "    gn1 = df_in.loc[each][0] # 유전자 1 \n",
    "    gn2 = df_in.loc[each][1] # 유전자 1에 연결되는 유전자 2\n",
    "    n_gn1 = dicG2N[gn1]\n",
    "    n_gn2 = dicG2N[gn2]\n",
    "    g_ath.add_edges([(n_gn1,n_gn2)])  # 앞에서 정해진 번호를 통해 vertex끼리의 link를 만든다.\n",
    "    edge_idx = g_ath.get_eid(n_gn1,n_gn2) # 방금 추가한 edge의 id가 뭘로 들어갔는지 확인\n",
    "    g_ath.es[edge_idx]['feature'] = 'homolog' # 해당 edge의 feature를 'homolog'로 라벨"
   ]
  },
  {
   "cell_type": "code",
   "execution_count": null,
   "metadata": {
    "collapsed": true
   },
   "outputs": [],
   "source": []
  }
 ],
 "metadata": {
  "kernelspec": {
   "display_name": "Python 2",
   "language": "python",
   "name": "python2"
  },
  "language_info": {
   "codemirror_mode": {
    "name": "ipython",
    "version": 2
   },
   "file_extension": ".py",
   "mimetype": "text/x-python",
   "name": "python",
   "nbconvert_exporter": "python",
   "pygments_lexer": "ipython2",
   "version": "2.7.6"
  }
 },
 "nbformat": 4,
 "nbformat_minor": 0
}
