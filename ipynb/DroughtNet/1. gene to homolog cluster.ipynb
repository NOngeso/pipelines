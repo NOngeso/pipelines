{
 "cells": [
  {
   "cell_type": "code",
   "execution_count": 1,
   "metadata": {
    "collapsed": true
   },
   "outputs": [],
   "source": [
    "from __future__ import print_function\n",
    "import pandas as pd\n",
    "from intermine.webservice import Service\n",
    "service = Service(\"http://phytozome.jgi.doe.gov/phytomine/service\")"
   ]
  },
  {
   "cell_type": "code",
   "execution_count": 2,
   "metadata": {
    "collapsed": true
   },
   "outputs": [],
   "source": [
    "file_gff = '/data2/k821209/Reference/Athaliana_167_gene.gff3'\n",
    "\n",
    "df_gff = pd.read_csv(file_gff,sep='\\t',skiprows=1,header=None)\n",
    "mask = (df_gff[2] == 'mRNA')\n",
    "primary_transcript_list = [x.split(';')[1].replace('Name=','') for x in df_gff[mask][8] if x.split(';')[3] == 'longest=1']\n",
    "genename_list = [x.split('.')[0] for x in primary_transcript_list]\n",
    "\n",
    "dicGN2PT = dict(zip(genename_list,primary_transcript_list))"
   ]
  },
  {
   "cell_type": "code",
   "execution_count": 55,
   "metadata": {
    "collapsed": false
   },
   "outputs": [
    {
     "data": {
      "text/plain": [
       "' response to salt stress, response to karrikin'"
      ]
     },
     "execution_count": 55,
     "metadata": {},
     "output_type": "execute_result"
    }
   ],
   "source": [
    "file_genelist = 'stress.response.genes.txt'\n",
    "df_genelist = pd.read_csv(file_genelist,sep='\\t',header=None)\n",
    "df_genelist = df_genelist.set_index(0)\n",
    "df_genelist.loc['AT5G05600'][3]"
   ]
  },
  {
   "cell_type": "code",
   "execution_count": 48,
   "metadata": {
    "collapsed": false
   },
   "outputs": [],
   "source": [
    "genelist = [dicGN2PT[x] for x in df_genelist.index]"
   ]
  },
  {
   "cell_type": "code",
   "execution_count": 18,
   "metadata": {
    "collapsed": true
   },
   "outputs": [],
   "source": [
    "def get_cds(name): # name should be transcript name\n",
    "    template = service.get_template('Transcript_CDS_sequence')\n",
    "    rows = template.rows(\n",
    "        A = {\"op\": \"=\", \"value\": name}\n",
    "        )\n",
    "    for row in rows:\n",
    "        return row[\"CDSs.sequence.residues\"]"
   ]
  },
  {
   "cell_type": "code",
   "execution_count": 19,
   "metadata": {
    "collapsed": true
   },
   "outputs": [],
   "source": [
    "def get_desc(name): # genename \n",
    "    template = service.get_template('Gene_info')\n",
    "    rows = template.rows(\n",
    "            A = {\"op\": \"=\", \"value\": name}\n",
    "            )\n",
    "    for row in rows:\n",
    "        return row[\"briefDescription\"]"
   ]
  },
  {
   "cell_type": "code",
   "execution_count": 21,
   "metadata": {
    "collapsed": true
   },
   "outputs": [],
   "source": [
    "file_cluster_ath = '/data2/k821209/tandem_duplication/ver2/Ath_167/Athaliana_167.fa.pep.fa.bp.ev1e5.out7.tandemNnontandem.ver2.gl100.out'\n",
    "file_cluster_aly = '/data2/k821209/tandem_duplication/ver2/Aly_107/Alyrata_107.fa.pep.fa.bp.ev1e5.out7.tandemNnontandem.ver2.gl100.out'\n",
    "file_cluster_esa = '/data2/k821209/tandem_duplication/ver2/Tha_173/Thalophila_173.fa.pep.fa.bp.ev1e5.out7.tandemNnontandem.ver2.gl100.out'"
   ]
  },
  {
   "cell_type": "code",
   "execution_count": 22,
   "metadata": {
    "collapsed": false
   },
   "outputs": [],
   "source": [
    "df_cluster_ath = pd.read_csv(file_cluster_ath,sep='\\t',header=None,skiprows=1)\n",
    "df_cluster_aly = pd.read_csv(file_cluster_aly,sep='\\t',header=None,skiprows=1)\n",
    "df_cluster_esa = pd.read_csv(file_cluster_esa,sep='\\t',header=None,skiprows=1)\n"
   ]
  },
  {
   "cell_type": "code",
   "execution_count": 23,
   "metadata": {
    "collapsed": false
   },
   "outputs": [],
   "source": [
    "mask = (df_cluster_ath[1] == 'whole homologs')\n",
    "df_cluster_ath = df_cluster_ath[mask]\n",
    "mask = (df_cluster_aly[1] == 'whole homologs')\n",
    "df_cluster_aly = df_cluster_aly[mask]\n",
    "mask = (df_cluster_esa[1] == 'whole homologs')\n",
    "df_cluster_esa = df_cluster_esa[mask]"
   ]
  },
  {
   "cell_type": "code",
   "execution_count": 24,
   "metadata": {
    "collapsed": false
   },
   "outputs": [
    {
     "data": {
      "text/html": [
       "<div style=\"max-height:1000px;max-width:1500px;overflow:auto;\">\n",
       "<table border=\"1\" class=\"dataframe\">\n",
       "  <thead>\n",
       "    <tr style=\"text-align: right;\">\n",
       "      <th></th>\n",
       "      <th>0</th>\n",
       "      <th>1</th>\n",
       "      <th>2</th>\n",
       "      <th>3</th>\n",
       "      <th>4</th>\n",
       "      <th>5</th>\n",
       "    </tr>\n",
       "  </thead>\n",
       "  <tbody>\n",
       "    <tr>\n",
       "      <th>0 </th>\n",
       "      <td> Homology cluster 0</td>\n",
       "      <td> whole homologs</td>\n",
       "      <td> AT5G36320.1</td>\n",
       "      <td>                                       AT5G36320.1</td>\n",
       "      <td> 33</td>\n",
       "      <td> AT5G36320.1,AT5G36370.1,AT5G36661.1,AT5G36738....</td>\n",
       "    </tr>\n",
       "    <tr>\n",
       "      <th>4 </th>\n",
       "      <td> Homology cluster 1</td>\n",
       "      <td> whole homologs</td>\n",
       "      <td> AT4G20540.1</td>\n",
       "      <td> TKL_IRAK_DUF26-lc.12 - DUF26 kinases have homo...</td>\n",
       "      <td> 15</td>\n",
       "      <td> AT4G20540.1,AT4G20630.1,AT4G20530.1,AT4G20650....</td>\n",
       "    </tr>\n",
       "    <tr>\n",
       "      <th>7 </th>\n",
       "      <td> Homology cluster 2</td>\n",
       "      <td> whole homologs</td>\n",
       "      <td> AT3G30385.1</td>\n",
       "      <td>                                           PF05617</td>\n",
       "      <td> 12</td>\n",
       "      <td> AT3G30385.1,AT3G30387.1,AT3G30383.1,AT5G34887....</td>\n",
       "    </tr>\n",
       "    <tr>\n",
       "      <th>12</th>\n",
       "      <td> Homology cluster 3</td>\n",
       "      <td> whole homologs</td>\n",
       "      <td> AT1G19890.1</td>\n",
       "      <td>                   histone H3, putative, expressed</td>\n",
       "      <td> 12</td>\n",
       "      <td> AT1G19890.1,AT5G10980.1,AT4G40040.1,AT4G40030....</td>\n",
       "    </tr>\n",
       "    <tr>\n",
       "      <th>17</th>\n",
       "      <td> Homology cluster 4</td>\n",
       "      <td> whole homologs</td>\n",
       "      <td> AT2G35635.1</td>\n",
       "      <td>     ubiquitin family protein, putative, expressed</td>\n",
       "      <td> 11</td>\n",
       "      <td> AT2G35635.1,AT1G31340.1,AT5G03240.1,AT5G20620....</td>\n",
       "    </tr>\n",
       "  </tbody>\n",
       "</table>\n",
       "</div>"
      ],
      "text/plain": [
       "                     0               1            2  \\\n",
       "0   Homology cluster 0  whole homologs  AT5G36320.1   \n",
       "4   Homology cluster 1  whole homologs  AT4G20540.1   \n",
       "7   Homology cluster 2  whole homologs  AT3G30385.1   \n",
       "12  Homology cluster 3  whole homologs  AT1G19890.1   \n",
       "17  Homology cluster 4  whole homologs  AT2G35635.1   \n",
       "\n",
       "                                                    3   4  \\\n",
       "0                                         AT5G36320.1  33   \n",
       "4   TKL_IRAK_DUF26-lc.12 - DUF26 kinases have homo...  15   \n",
       "7                                             PF05617  12   \n",
       "12                    histone H3, putative, expressed  12   \n",
       "17      ubiquitin family protein, putative, expressed  11   \n",
       "\n",
       "                                                    5  \n",
       "0   AT5G36320.1,AT5G36370.1,AT5G36661.1,AT5G36738....  \n",
       "4   AT4G20540.1,AT4G20630.1,AT4G20530.1,AT4G20650....  \n",
       "7   AT3G30385.1,AT3G30387.1,AT3G30383.1,AT5G34887....  \n",
       "12  AT1G19890.1,AT5G10980.1,AT4G40040.1,AT4G40030....  \n",
       "17  AT2G35635.1,AT1G31340.1,AT5G03240.1,AT5G20620....  "
      ]
     },
     "execution_count": 24,
     "metadata": {},
     "output_type": "execute_result"
    }
   ],
   "source": [
    "df_cluster_ath.head()"
   ]
  },
  {
   "cell_type": "code",
   "execution_count": 26,
   "metadata": {
    "collapsed": false
   },
   "outputs": [],
   "source": [
    "\n",
    "def get_gene2id(df_cluster):\n",
    "    dicGene2ID = {}\n",
    "    for i in df_cluster.index:\n",
    "        homologlist = df_cluster.loc[i][5].split(',')\n",
    "        for gene in homologlist:\n",
    "            try:\n",
    "                if dicGene2ID[gene]:\n",
    "                    print (1)\n",
    "            except :\n",
    "                dicGene2ID[gene] = df_cluster.loc[i][0]\n",
    "    return dicGene2ID"
   ]
  },
  {
   "cell_type": "code",
   "execution_count": 27,
   "metadata": {
    "collapsed": false
   },
   "outputs": [],
   "source": [
    "dicGene2ID_ath = get_gene2id(df_cluster_ath)\n",
    "dicGene2ID_aly = get_gene2id(df_cluster_aly)\n",
    "dicGene2ID_esa = get_gene2id(df_cluster_esa)"
   ]
  },
  {
   "cell_type": "code",
   "execution_count": 39,
   "metadata": {
    "collapsed": false
   },
   "outputs": [],
   "source": [
    "file_mcscan_ath2aly = './droughtnet/synteny/At2Al.collinearity.kaks' \n",
    "file_mcscan_ath2esa = './droughtnet/synteny/At2Es.collinearity.kaks'"
   ]
  },
  {
   "cell_type": "code",
   "execution_count": 40,
   "metadata": {
    "collapsed": false
   },
   "outputs": [],
   "source": [
    "def get_ortholog(file_mcscan):\n",
    "    dic = {}\n",
    "    for line in open(file_mcscan):\n",
    "        if line[0] == '#':\n",
    "            continue\n",
    "        cell      = line.strip().split('\\t')\n",
    "        syntenyID = cell[0]\n",
    "        if cell[1].split('|')[0] == 'ATH':\n",
    "            geneA     = cell[1].split('|')[1]\n",
    "            geneB     = cell[2].split('|')[1]\n",
    "        elif cell[2].split('|')[0] == 'ATH':\n",
    "            geneA     = cell[2].split('|')[1]\n",
    "            geneB     = cell[1].split('|')[1]\n",
    "        ka = cell[4]\n",
    "        ks = cell[5]\n",
    "        try:\n",
    "            dic[geneA].append([geneB,ka,ks])\n",
    "        except KeyError:    \n",
    "            dic[geneA] = [[geneB,ka,ks]]\n",
    "    return dic\n",
    "\n"
   ]
  },
  {
   "cell_type": "code",
   "execution_count": 41,
   "metadata": {
    "collapsed": false
   },
   "outputs": [],
   "source": [
    "dicOrth_ath2aly = get_ortholog(file_mcscan_ath2aly)\n",
    "dicOrth_ath2esa = get_ortholog(file_mcscan_ath2esa)"
   ]
  },
  {
   "cell_type": "code",
   "execution_count": 56,
   "metadata": {
    "collapsed": false
   },
   "outputs": [],
   "source": [
    "#geneATH            = 'AT5G10980.1' \n",
    "#geneATH            = 'AT2G35635.1'\n",
    "def get_orthologs_span(geneATH):\n",
    "    try:\n",
    "        geneALY            = dicOrth_ath2aly[geneATH]\n",
    "        geneALY.sort(key=lambda x:float(x[2]))\n",
    "        #print geneALY\n",
    "        geneALY            = geneALY[0][0]\n",
    "\n",
    "        geneESA            = dicOrth_ath2esa[geneATH]\n",
    "        geneESA.sort(key=lambda x:float(x[2]))\n",
    "        #print geneESA\n",
    "        geneESA            = geneESA[0][0]\n",
    "    except KeyError:\n",
    "        return (geneATH,'no orthology')\n",
    "    else:\n",
    "        try:\n",
    "            ID_geneATH         = dicGene2ID_ath[geneATH]\n",
    "            homologsOfgeneATH  = df_cluster_ath[(df_cluster_ath[0] == ID_geneATH)][5].values[0]\n",
    "            description        = df_cluster_ath[(df_cluster_ath[0] == ID_geneATH)][3].values[0]\n",
    "        except KeyError:\n",
    "            homologsOfgeneATH = 'None'\n",
    "            description       = 'None'\n",
    "        try:\n",
    "            ID_geneALY         = dicGene2ID_aly[geneALY]\n",
    "            homologsOfgeneALY  = df_cluster_aly[(df_cluster_aly[0] == ID_geneALY)][5].values[0]\n",
    "        except KeyError:\n",
    "            homologsOfgeneALY = 'None'\n",
    "        try:\n",
    "            ID_geneESA         = dicGene2ID_esa[geneESA]\n",
    "            homologsOfgeneESA  = df_cluster_esa[(df_cluster_esa[0] == ID_geneESA)][5].values[0]\n",
    "        except KeyError:\n",
    "            homologsOfgeneESA = 'None'\n",
    "        #print '-',geneATH, geneALY, geneESA, description\n",
    "        #print '---ATH_homologs:',homologsOfgeneATH\n",
    "        #print '---ALY_homologs:',homologsOfgeneALY\n",
    "        #print '---ESA_homologs:',homologsOfgeneESA\n",
    "        return (geneATH, geneALY, geneESA, get_desc(geneATH.split('.')[0]),df_genelist.loc[geneATH.split('.')[0]][3],homologsOfgeneATH,homologsOfgeneALY,homologsOfgeneESA)\n",
    "        \n",
    "        "
   ]
  },
  {
   "cell_type": "code",
   "execution_count": 58,
   "metadata": {
    "collapsed": false
   },
   "outputs": [],
   "source": [
    "Outfile = open('1.GeneToHomologCluster.out.txt','w')\n",
    "for gene in genelist:\n",
    "    result = get_orthologs_span(gene)\n",
    "    if len(result) > 2:\n",
    "        print ('\\t'.join(map(str,result)),file=Outfile)"
   ]
  },
  {
   "cell_type": "code",
   "execution_count": 59,
   "metadata": {
    "collapsed": true
   },
   "outputs": [],
   "source": [
    "Outfile.close()"
   ]
  },
  {
   "cell_type": "code",
   "execution_count": null,
   "metadata": {
    "collapsed": true
   },
   "outputs": [],
   "source": []
  }
 ],
 "metadata": {
  "kernelspec": {
   "display_name": "Python 2",
   "language": "python",
   "name": "python2"
  },
  "language_info": {
   "codemirror_mode": {
    "name": "ipython",
    "version": 2
   },
   "file_extension": ".py",
   "mimetype": "text/x-python",
   "name": "python",
   "nbconvert_exporter": "python",
   "pygments_lexer": "ipython2",
   "version": "2.7.3"
  }
 },
 "nbformat": 4,
 "nbformat_minor": 0
}
