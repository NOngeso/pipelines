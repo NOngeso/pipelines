{
 "cells": [
  {
   "cell_type": "code",
   "execution_count": 1,
   "metadata": {
    "collapsed": false
   },
   "outputs": [
    {
     "data": {
      "text/plain": [
       "<intermine.query.Query at 0x7f7e70cc95d0>"
      ]
     },
     "execution_count": 1,
     "metadata": {},
     "output_type": "execute_result"
    }
   ],
   "source": [
    "from __future__ import unicode_literals\n",
    "from intermine.webservice import Service\n",
    "from __future__ import print_function\n",
    "import pandas as pd\n",
    "service = Service(\"https://apps.araport.org:443/thalemine/service\")\n",
    "query = service.new_query(\"Gene\")\n",
    "query.add_view(\n",
    "    \"name\", \"computationalDescription\", \"briefDescription\", \"primaryIdentifier\",\"curatorSummary\"\n",
    ")"
   ]
  },
  {
   "cell_type": "code",
   "execution_count": 44,
   "metadata": {
    "collapsed": false
   },
   "outputs": [],
   "source": [
    "keywords = ['Aquaporin','Prolin','dehydrin','late embryogenesis abundant','ABA']\n",
    "genes = [[] for x in range(len(keywords))]"
   ]
  },
  {
   "cell_type": "code",
   "execution_count": 45,
   "metadata": {
    "collapsed": false
   },
   "outputs": [],
   "source": [
    "for row in query.rows():\n",
    "    PI = row['primaryIdentifier']\n",
    "    BD = str(row['briefDescription'])\n",
    "    CD = str(row['computationalDescription'])\n",
    "    if row['curatorSummary'] == None:\n",
    "        CS = 'None'\n",
    "    else: CS = row['curatorSummary'].encode('ascii', 'ignore')\n",
    "    for i,keyword in enumerate(keywords):\n",
    "        if keyword.upper() in BD.upper() or keyword.upper() in CS.upper() or keyword.upper() in CD.upper():\n",
    "            genes[i].append([PI.encode('utf-8'),BD.encode('utf-8'),CS.encode('utf-8'),CD.encode('utf-8')])"
   ]
  },
  {
   "cell_type": "code",
   "execution_count": 46,
   "metadata": {
    "collapsed": true
   },
   "outputs": [],
   "source": [
    "service = Service(\"http://phytozome.jgi.doe.gov/phytomine/service\")\n",
    "def get_cds(name): # name should be transcript name\n",
    "    template = service.get_template('Transcript_CDS_sequence')\n",
    "    rows = template.rows(\n",
    "        A = {\"op\": \"=\", \"value\": name}\n",
    "        )\n",
    "    for row in rows:\n",
    "        return row[\"CDSs.sequence.residues\"]"
   ]
  },
  {
   "cell_type": "code",
   "execution_count": 18,
   "metadata": {
    "collapsed": true
   },
   "outputs": [],
   "source": [
    "file_gff = './pascal/droughtnet/Athaliana_167_gene.gff3'\n",
    "\n",
    "df_gff = pd.read_csv(file_gff,sep='\\t',skiprows=1,header=None)\n",
    "mask = (df_gff[2] == 'mRNA')\n",
    "primary_transcript_list = [x.split(';')[1].replace('Name=','') for x in df_gff[mask][8] if x.split(';')[3] == 'longest=1']\n",
    "genename_list = [x.split('.')[0] for x in primary_transcript_list]\n",
    "\n",
    "dicGN2PT = dict(zip(genename_list,primary_transcript_list))"
   ]
  },
  {
   "cell_type": "code",
   "execution_count": 50,
   "metadata": {
    "collapsed": false
   },
   "outputs": [],
   "source": [
    "Outfile = open('keyword2info.txt','w')\n",
    "def no_weird(words):\n",
    "    a = words.replace('\\u2018',' ').replace('\\u2013',' ')\n",
    "    return a\n",
    "for i,keyword in enumerate(keywords):\n",
    "    for gene in genes[i]:\n",
    "        PI = gene[0]\n",
    "        \n",
    "        try:\n",
    "            tgene = dicGN2PT[PI]\n",
    "            print(keyword,';'.join(map(no_weird,gene)),tgene , get_cds(tgene),sep='\\t',file=Outfile)\n",
    "        except KeyError:\n",
    "            pass\n",
    "Outfile.close()"
   ]
  },
  {
   "cell_type": "code",
   "execution_count": 48,
   "metadata": {
    "collapsed": true
   },
   "outputs": [],
   "source": []
  },
  {
   "cell_type": "code",
   "execution_count": 33,
   "metadata": {
    "collapsed": false
   },
   "outputs": [
    {
     "name": "stdout",
     "output_type": "stream",
     "text": [
      "Chr1\tphytozome8_0\tgene\t15582423\t15585143\t.\t-\t.\tID=AT1G41820;Name=AT1G41820\r\n",
      "Chr1\tphytozome8_0\tmRNA\t15582423\t15585143\t.\t-\t.\tID=PAC:19651278;Name=AT1G41820.1;pacid=19651278;longest=1;Parent=AT1G41820\r\n",
      "Chr1\tphytozome8_0\tgene\t15603617\t15607966\t.\t-\t.\tID=AT1G41830;Name=AT1G41830\r\n",
      "Chr1\tphytozome8_0\tmRNA\t15603617\t15607966\t.\t-\t.\tID=PAC:19652521;Name=AT1G41830.1;pacid=19652521;longest=1;Parent=AT1G41830\r\n",
      "Chr1\tphytozome8_0\tgene\t15650172\t15650405\t.\t+\t.\tID=AT1G41875;Name=AT1G41875\r\n",
      "Chr1\tphytozome8_0\tmRNA\t15650172\t15650405\t.\t+\t.\tID=PAC:19653868;Name=AT1G41875.1;pacid=19653868;longest=1;Parent=AT1G41875\r\n",
      "Chr1\tphytozome8_0\tgene\t15651027\t15652542\t.\t-\t.\tID=AT1G41880;Name=AT1G41880\r\n",
      "Chr1\tphytozome8_0\tmRNA\t15651027\t15652542\t.\t-\t.\tID=PAC:19654231;Name=AT1G41880.1;pacid=19654231;longest=1;Parent=AT1G41880\r\n"
     ]
    }
   ],
   "source": [
    "%cat ./pascal/droughtnet/Athaliana_167_gene.gff3 | grep 'AT1G418'"
   ]
  },
  {
   "cell_type": "code",
   "execution_count": 49,
   "metadata": {
    "collapsed": false
   },
   "outputs": [
    {
     "data": {
      "text/plain": [
       "u'ATGGCCCTCGAAGCGATGAACACTCCAACTTCTTCTTTCACCAGAATCGAAACGAAAGAAGATTTGATGAACGACGCCGTTTTCATTGAGCCGTGGCTTAAACGCAAACGCTCCAAACGTCAGCGTTCTCACAGCCCTTCTTCGTCTTCTTCCTCACCGCCTCGATCTCGACCCAAATCCCAGAATCAAGATCTTACGGAAGAAGAGTATCTCGCTCTTTGTCTCCTCATGCTCGCTAAAGATCAACCGTCGCAAACGCGATTTCATCAACAGTCGCAATCGTTAACGCCGCCGCCAGAATCAAAGAACCTTCCGTACAAGTGTAACGTCTGTGAAAAAGCGTTTCCTTCCTATCAGGCTTTAGGCGGTCACAAAGCAAGTCACCGAATCAAACCACCAACCGTAATCTCAACAACCGCCGATGATTCAACAGCTCCGACCATCTCCATCGTCGCCGGAGAAAAACATCCGATTGCTGCCTCCGGAAAGATCCACGAGTGTTCAATCTGTCATAAAGTGTTTCCGACGGGTCAAGCTTTAGGCGGTCACAAACGTTGTCACTACGAAGGCAACCTCGGCGGCGGAGGAGGAGGAGGAAGCAAATCAATCAGTCACAGTGGAAGCGTGTCGAGCACGGTATCGGAAGAAAGGAGCCACCGTGGATTCATCGATCTAAACCTACCGGCGTTACCTGAACTCAGCCTTCATCACAATCCAATCGTCGACGAAGAGATCTTGAGTCCGTTGACCGGTAAAAAACCGCTTTTGTTGACCGATCACGACCAAGTCATCAAGAAAGAAGATTTATCTTTAAAAATCTAA'"
      ]
     },
     "execution_count": 49,
     "metadata": {},
     "output_type": "execute_result"
    }
   ],
   "source": [
    "get_cds('AT3G19580.1')"
   ]
  },
  {
   "cell_type": "code",
   "execution_count": null,
   "metadata": {
    "collapsed": true
   },
   "outputs": [],
   "source": []
  }
 ],
 "metadata": {
  "kernelspec": {
   "display_name": "Python 2",
   "language": "python",
   "name": "python2"
  },
  "language_info": {
   "codemirror_mode": {
    "name": "ipython",
    "version": 2
   },
   "file_extension": ".py",
   "mimetype": "text/x-python",
   "name": "python",
   "nbconvert_exporter": "python",
   "pygments_lexer": "ipython2",
   "version": "2.7.6"
  }
 },
 "nbformat": 4,
 "nbformat_minor": 0
}
