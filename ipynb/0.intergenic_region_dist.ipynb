{
 "cells": [
  {
   "cell_type": "code",
   "execution_count": 17,
   "metadata": {
    "collapsed": false
   },
   "outputs": [],
   "source": [
    "%matplotlib inline\n",
    "import numpy as np\n",
    "import pandas as pd\n",
    "import matplotlib.pyplot as plt\n",
    "import matplotlib\n",
    "import pickle as pk\n",
    "from matplotlib.backends.backend_pdf import PdfPages\n",
    "\n",
    "matplotlib.style.use('ggplot') "
   ]
  },
  {
   "cell_type": "code",
   "execution_count": 3,
   "metadata": {
    "collapsed": false
   },
   "outputs": [],
   "source": [
    "df_gff_gene_index = pd.read_pickle('../../df.cre.gff.gene.index.pickle')\n",
    "df_gff_gene       = df_gff_gene_index.reset_index()"
   ]
  },
  {
   "cell_type": "code",
   "execution_count": 4,
   "metadata": {
    "collapsed": false
   },
   "outputs": [],
   "source": [
    "df_gff_ath = pd.read_csv('../../References/Athaliana/annotation/Athaliana_167_TAIR10.gene.gff3',sep='\\t',skiprows=2,header=None)\n",
    "df_gff_vca = pd.read_csv('../../References/Vcateri/annotation/Vcarteri_199_v2.0.gene.gff3',sep='\\t',skiprows=2,header=None)"
   ]
  },
  {
   "cell_type": "code",
   "execution_count": 5,
   "metadata": {
    "collapsed": false
   },
   "outputs": [],
   "source": [
    "mask = (df_gff_ath[2] == 'gene')\n",
    "df_gff_gene_ath = df_gff_ath[mask]"
   ]
  },
  {
   "cell_type": "code",
   "execution_count": 6,
   "metadata": {
    "collapsed": true
   },
   "outputs": [],
   "source": [
    "mask = (df_gff_vca[2] == 'gene')\n",
    "df_gff_gene_vca = df_gff_vca[mask]"
   ]
  },
  {
   "cell_type": "code",
   "execution_count": 7,
   "metadata": {
    "collapsed": false
   },
   "outputs": [],
   "source": [
    "df_gff_gene_ath = df_gff_gene_ath.reset_index()"
   ]
  },
  {
   "cell_type": "code",
   "execution_count": 8,
   "metadata": {
    "collapsed": false
   },
   "outputs": [
    {
     "name": "stderr",
     "output_type": "stream",
     "text": [
      "/usr/local/lib/python2.7/dist-packages/ipykernel/__main__.py:1: FutureWarning: sort(columns=....) is deprecated, use sort_values(by=.....)\n",
      "  if __name__ == '__main__':\n"
     ]
    }
   ],
   "source": [
    "df_gff_gene_vca = df_gff_gene_vca.sort([0,3])\n",
    "df_gff_gene_vca = df_gff_gene_vca.reset_index()"
   ]
  },
  {
   "cell_type": "code",
   "execution_count": 9,
   "metadata": {
    "collapsed": false
   },
   "outputs": [
    {
     "data": {
      "text/html": [
       "<div>\n",
       "<table border=\"1\" class=\"dataframe\">\n",
       "  <thead>\n",
       "    <tr style=\"text-align: right;\">\n",
       "      <th></th>\n",
       "      <th>index</th>\n",
       "      <th>0</th>\n",
       "      <th>1</th>\n",
       "      <th>2</th>\n",
       "      <th>3</th>\n",
       "      <th>4</th>\n",
       "      <th>5</th>\n",
       "      <th>6</th>\n",
       "      <th>7</th>\n",
       "      <th>8</th>\n",
       "    </tr>\n",
       "  </thead>\n",
       "  <tbody>\n",
       "    <tr>\n",
       "      <th>0</th>\n",
       "      <td>0</td>\n",
       "      <td>Chr1</td>\n",
       "      <td>phytozomev10</td>\n",
       "      <td>gene</td>\n",
       "      <td>3631</td>\n",
       "      <td>5899</td>\n",
       "      <td>.</td>\n",
       "      <td>+</td>\n",
       "      <td>.</td>\n",
       "      <td>ID=AT1G01010.TAIR10;Name=AT1G01010</td>\n",
       "    </tr>\n",
       "    <tr>\n",
       "      <th>1</th>\n",
       "      <td>10</td>\n",
       "      <td>Chr1</td>\n",
       "      <td>phytozomev10</td>\n",
       "      <td>gene</td>\n",
       "      <td>5928</td>\n",
       "      <td>8737</td>\n",
       "      <td>.</td>\n",
       "      <td>-</td>\n",
       "      <td>.</td>\n",
       "      <td>ID=AT1G01020.TAIR10;Name=AT1G01020</td>\n",
       "    </tr>\n",
       "    <tr>\n",
       "      <th>2</th>\n",
       "      <td>35</td>\n",
       "      <td>Chr1</td>\n",
       "      <td>phytozomev10</td>\n",
       "      <td>gene</td>\n",
       "      <td>11649</td>\n",
       "      <td>13714</td>\n",
       "      <td>.</td>\n",
       "      <td>-</td>\n",
       "      <td>.</td>\n",
       "      <td>ID=AT1G01030.TAIR10;Name=AT1G01030</td>\n",
       "    </tr>\n",
       "    <tr>\n",
       "      <th>3</th>\n",
       "      <td>41</td>\n",
       "      <td>Chr1</td>\n",
       "      <td>phytozomev10</td>\n",
       "      <td>gene</td>\n",
       "      <td>23146</td>\n",
       "      <td>31227</td>\n",
       "      <td>.</td>\n",
       "      <td>+</td>\n",
       "      <td>.</td>\n",
       "      <td>ID=AT1G01040.TAIR10;Name=AT1G01040</td>\n",
       "    </tr>\n",
       "    <tr>\n",
       "      <th>4</th>\n",
       "      <td>88</td>\n",
       "      <td>Chr1</td>\n",
       "      <td>phytozomev10</td>\n",
       "      <td>gene</td>\n",
       "      <td>31170</td>\n",
       "      <td>33153</td>\n",
       "      <td>.</td>\n",
       "      <td>-</td>\n",
       "      <td>.</td>\n",
       "      <td>ID=AT1G01050.TAIR10;Name=AT1G01050</td>\n",
       "    </tr>\n",
       "  </tbody>\n",
       "</table>\n",
       "</div>"
      ],
      "text/plain": [
       "   index     0             1     2      3      4  5  6  7  \\\n",
       "0      0  Chr1  phytozomev10  gene   3631   5899  .  +  .   \n",
       "1     10  Chr1  phytozomev10  gene   5928   8737  .  -  .   \n",
       "2     35  Chr1  phytozomev10  gene  11649  13714  .  -  .   \n",
       "3     41  Chr1  phytozomev10  gene  23146  31227  .  +  .   \n",
       "4     88  Chr1  phytozomev10  gene  31170  33153  .  -  .   \n",
       "\n",
       "                                    8  \n",
       "0  ID=AT1G01010.TAIR10;Name=AT1G01010  \n",
       "1  ID=AT1G01020.TAIR10;Name=AT1G01020  \n",
       "2  ID=AT1G01030.TAIR10;Name=AT1G01030  \n",
       "3  ID=AT1G01040.TAIR10;Name=AT1G01040  \n",
       "4  ID=AT1G01050.TAIR10;Name=AT1G01050  "
      ]
     },
     "execution_count": 9,
     "metadata": {},
     "output_type": "execute_result"
    }
   ],
   "source": [
    "df_gff_gene_ath.head()"
   ]
  },
  {
   "cell_type": "code",
   "execution_count": 10,
   "metadata": {
    "collapsed": false
   },
   "outputs": [
    {
     "data": {
      "text/html": [
       "<div>\n",
       "<table border=\"1\" class=\"dataframe\">\n",
       "  <thead>\n",
       "    <tr style=\"text-align: right;\">\n",
       "      <th></th>\n",
       "      <th>index</th>\n",
       "      <th>0</th>\n",
       "      <th>1</th>\n",
       "      <th>2</th>\n",
       "      <th>3</th>\n",
       "      <th>4</th>\n",
       "      <th>5</th>\n",
       "      <th>6</th>\n",
       "      <th>7</th>\n",
       "      <th>8</th>\n",
       "    </tr>\n",
       "  </thead>\n",
       "  <tbody>\n",
       "    <tr>\n",
       "      <th>0</th>\n",
       "      <td>13639</td>\n",
       "      <td>scaffold_1</td>\n",
       "      <td>phytozomev10</td>\n",
       "      <td>gene</td>\n",
       "      <td>25078</td>\n",
       "      <td>28152</td>\n",
       "      <td>.</td>\n",
       "      <td>-</td>\n",
       "      <td>.</td>\n",
       "      <td>ID=Vocar20009522m.g.2.0;Name=Vocar20009522m.g</td>\n",
       "    </tr>\n",
       "    <tr>\n",
       "      <th>1</th>\n",
       "      <td>17988</td>\n",
       "      <td>scaffold_1</td>\n",
       "      <td>phytozomev10</td>\n",
       "      <td>gene</td>\n",
       "      <td>31758</td>\n",
       "      <td>33408</td>\n",
       "      <td>.</td>\n",
       "      <td>+</td>\n",
       "      <td>.</td>\n",
       "      <td>ID=Vocar20009939m.g.2.0;Name=Vocar20009939m.g</td>\n",
       "    </tr>\n",
       "    <tr>\n",
       "      <th>2</th>\n",
       "      <td>13910</td>\n",
       "      <td>scaffold_1</td>\n",
       "      <td>phytozomev10</td>\n",
       "      <td>gene</td>\n",
       "      <td>34249</td>\n",
       "      <td>40340</td>\n",
       "      <td>.</td>\n",
       "      <td>-</td>\n",
       "      <td>.</td>\n",
       "      <td>ID=Vocar20009552m.g.2.0;Name=Vocar20009552m.g</td>\n",
       "    </tr>\n",
       "    <tr>\n",
       "      <th>3</th>\n",
       "      <td>1048</td>\n",
       "      <td>scaffold_1</td>\n",
       "      <td>phytozomev10</td>\n",
       "      <td>gene</td>\n",
       "      <td>41020</td>\n",
       "      <td>47800</td>\n",
       "      <td>.</td>\n",
       "      <td>+</td>\n",
       "      <td>.</td>\n",
       "      <td>ID=Vocar20008304m.g.2.0;Name=Vocar20008304m.g</td>\n",
       "    </tr>\n",
       "    <tr>\n",
       "      <th>4</th>\n",
       "      <td>9925</td>\n",
       "      <td>scaffold_1</td>\n",
       "      <td>phytozomev10</td>\n",
       "      <td>gene</td>\n",
       "      <td>54378</td>\n",
       "      <td>61966</td>\n",
       "      <td>.</td>\n",
       "      <td>+</td>\n",
       "      <td>.</td>\n",
       "      <td>ID=Vocar20009156m.g.2.0;Name=Vocar20009156m.g</td>\n",
       "    </tr>\n",
       "  </tbody>\n",
       "</table>\n",
       "</div>"
      ],
      "text/plain": [
       "   index           0             1     2      3      4  5  6  7  \\\n",
       "0  13639  scaffold_1  phytozomev10  gene  25078  28152  .  -  .   \n",
       "1  17988  scaffold_1  phytozomev10  gene  31758  33408  .  +  .   \n",
       "2  13910  scaffold_1  phytozomev10  gene  34249  40340  .  -  .   \n",
       "3   1048  scaffold_1  phytozomev10  gene  41020  47800  .  +  .   \n",
       "4   9925  scaffold_1  phytozomev10  gene  54378  61966  .  +  .   \n",
       "\n",
       "                                               8  \n",
       "0  ID=Vocar20009522m.g.2.0;Name=Vocar20009522m.g  \n",
       "1  ID=Vocar20009939m.g.2.0;Name=Vocar20009939m.g  \n",
       "2  ID=Vocar20009552m.g.2.0;Name=Vocar20009552m.g  \n",
       "3  ID=Vocar20008304m.g.2.0;Name=Vocar20008304m.g  \n",
       "4  ID=Vocar20009156m.g.2.0;Name=Vocar20009156m.g  "
      ]
     },
     "execution_count": 10,
     "metadata": {},
     "output_type": "execute_result"
    }
   ],
   "source": [
    "df_gff_gene_vca.head()"
   ]
  },
  {
   "cell_type": "code",
   "execution_count": 11,
   "metadata": {
    "collapsed": false
   },
   "outputs": [
    {
     "data": {
      "text/html": [
       "<div>\n",
       "<table border=\"1\" class=\"dataframe\">\n",
       "  <thead>\n",
       "    <tr style=\"text-align: right;\">\n",
       "      <th></th>\n",
       "      <th>genename</th>\n",
       "      <th>0</th>\n",
       "      <th>1</th>\n",
       "      <th>2</th>\n",
       "      <th>3</th>\n",
       "      <th>4</th>\n",
       "      <th>5</th>\n",
       "      <th>6</th>\n",
       "      <th>7</th>\n",
       "      <th>8</th>\n",
       "      <th>ID</th>\n",
       "      <th>length</th>\n",
       "    </tr>\n",
       "  </thead>\n",
       "  <tbody>\n",
       "    <tr>\n",
       "      <th>0</th>\n",
       "      <td>Cre01.g000017</td>\n",
       "      <td>chromosome_1</td>\n",
       "      <td>phytozomev10</td>\n",
       "      <td>gene</td>\n",
       "      <td>18766</td>\n",
       "      <td>20237</td>\n",
       "      <td>.</td>\n",
       "      <td>+</td>\n",
       "      <td>.</td>\n",
       "      <td>ID=Cre01.g000017.v5.5;Name=Cre01.g000017</td>\n",
       "      <td>Cre01.g000017.v5.5</td>\n",
       "      <td>1472</td>\n",
       "    </tr>\n",
       "    <tr>\n",
       "      <th>1</th>\n",
       "      <td>Cre01.g000033</td>\n",
       "      <td>chromosome_1</td>\n",
       "      <td>phytozomev10</td>\n",
       "      <td>gene</td>\n",
       "      <td>20356</td>\n",
       "      <td>23957</td>\n",
       "      <td>.</td>\n",
       "      <td>+</td>\n",
       "      <td>.</td>\n",
       "      <td>ID=Cre01.g000033.v5.5;Name=Cre01.g000033</td>\n",
       "      <td>Cre01.g000033.v5.5</td>\n",
       "      <td>3602</td>\n",
       "    </tr>\n",
       "    <tr>\n",
       "      <th>2</th>\n",
       "      <td>Cre01.g000050</td>\n",
       "      <td>chromosome_1</td>\n",
       "      <td>phytozomev10</td>\n",
       "      <td>gene</td>\n",
       "      <td>24026</td>\n",
       "      <td>30617</td>\n",
       "      <td>.</td>\n",
       "      <td>+</td>\n",
       "      <td>.</td>\n",
       "      <td>ID=Cre01.g000050.v5.5;Name=Cre01.g000050</td>\n",
       "      <td>Cre01.g000050.v5.5</td>\n",
       "      <td>6592</td>\n",
       "    </tr>\n",
       "    <tr>\n",
       "      <th>3</th>\n",
       "      <td>Cre01.g000100</td>\n",
       "      <td>chromosome_1</td>\n",
       "      <td>phytozomev10</td>\n",
       "      <td>gene</td>\n",
       "      <td>30776</td>\n",
       "      <td>41037</td>\n",
       "      <td>.</td>\n",
       "      <td>+</td>\n",
       "      <td>.</td>\n",
       "      <td>ID=Cre01.g000100.v5.5;Name=Cre01.g000100</td>\n",
       "      <td>Cre01.g000100.v5.5</td>\n",
       "      <td>10262</td>\n",
       "    </tr>\n",
       "    <tr>\n",
       "      <th>4</th>\n",
       "      <td>Cre01.g000150</td>\n",
       "      <td>chromosome_1</td>\n",
       "      <td>phytozomev10</td>\n",
       "      <td>gene</td>\n",
       "      <td>41896</td>\n",
       "      <td>46547</td>\n",
       "      <td>.</td>\n",
       "      <td>+</td>\n",
       "      <td>.</td>\n",
       "      <td>ID=Cre01.g000150.v5.5;Name=Cre01.g000150</td>\n",
       "      <td>Cre01.g000150.v5.5</td>\n",
       "      <td>4652</td>\n",
       "    </tr>\n",
       "  </tbody>\n",
       "</table>\n",
       "</div>"
      ],
      "text/plain": [
       "        genename             0             1     2      3      4  5  6  7  \\\n",
       "0  Cre01.g000017  chromosome_1  phytozomev10  gene  18766  20237  .  +  .   \n",
       "1  Cre01.g000033  chromosome_1  phytozomev10  gene  20356  23957  .  +  .   \n",
       "2  Cre01.g000050  chromosome_1  phytozomev10  gene  24026  30617  .  +  .   \n",
       "3  Cre01.g000100  chromosome_1  phytozomev10  gene  30776  41037  .  +  .   \n",
       "4  Cre01.g000150  chromosome_1  phytozomev10  gene  41896  46547  .  +  .   \n",
       "\n",
       "                                          8                  ID  length  \n",
       "0  ID=Cre01.g000017.v5.5;Name=Cre01.g000017  Cre01.g000017.v5.5    1472  \n",
       "1  ID=Cre01.g000033.v5.5;Name=Cre01.g000033  Cre01.g000033.v5.5    3602  \n",
       "2  ID=Cre01.g000050.v5.5;Name=Cre01.g000050  Cre01.g000050.v5.5    6592  \n",
       "3  ID=Cre01.g000100.v5.5;Name=Cre01.g000100  Cre01.g000100.v5.5   10262  \n",
       "4  ID=Cre01.g000150.v5.5;Name=Cre01.g000150  Cre01.g000150.v5.5    4652  "
      ]
     },
     "execution_count": 11,
     "metadata": {},
     "output_type": "execute_result"
    }
   ],
   "source": [
    "df_gff_gene.head()"
   ]
  },
  {
   "cell_type": "code",
   "execution_count": 12,
   "metadata": {
    "collapsed": false
   },
   "outputs": [],
   "source": [
    "def get_intergenic_list(df):\n",
    "    list_intergenic = []\n",
    "    for i in df.index:\n",
    "        try:\n",
    "            chr_left  = df.loc[i][0] \n",
    "            chr_right = df.loc[i+1][0] \n",
    "            if chr_left != chr_right:\n",
    "                continue\n",
    "            end   = df.loc[i][4]\n",
    "            start = df.loc[i+1][3]\n",
    "            list_intergenic.append(start - end)\n",
    "        except KeyError:\n",
    "            pass\n",
    "    return list_intergenic"
   ]
  },
  {
   "cell_type": "code",
   "execution_count": 13,
   "metadata": {
    "collapsed": true
   },
   "outputs": [],
   "source": [
    "list_intergenic_cre = get_intergenic_list(df_gff_gene)\n",
    "list_intergenic_ath = get_intergenic_list(df_gff_gene_ath)\n",
    "list_intergenic_vca = get_intergenic_list(df_gff_gene_vca)"
   ]
  },
  {
   "cell_type": "code",
   "execution_count": 15,
   "metadata": {
    "collapsed": true
   },
   "outputs": [],
   "source": [
    "def get_hist(ax1,array1,xlim,lab):\n",
    "    a1,b1,c1 = ax1.hist(array1,bins=np.arange(0,max(array1),5),histtype='step',alpha=1,label=lab)\n",
    "    ax1.set_xlim(0,xlim)\n",
    "    ax1.set_title('Intergenic region comparison')\n",
    "    ax1.set_xlabel('Length (bp)')\n",
    "    ax1.set_ylabel('Count')\n",
    "    "
   ]
  },
  {
   "cell_type": "code",
   "execution_count": 18,
   "metadata": {
    "collapsed": false
   },
   "outputs": [
    {
     "data": {
      "image/png": "[encoded data removed]",
      "text/plain": [
       "<matplotlib.figure.Figure at 0x7f9cde77bad0>"
      ]
     },
     "metadata": {},
     "output_type": "display_data"
    }
   ],
   "source": [
    "fig, ax1 = plt.subplots(1,figsize=(10,10))\n",
    "get_hist(ax1,list_intergenic_ath,3000,'Ath')\n",
    "get_hist(ax1,list_intergenic_cre,3000,'Cre')\n",
    "get_hist(ax1,list_intergenic_vca,3000,'Vca')\n",
    "#plt.xlim(0,1000)\n",
    "plt.legend()\n",
    "pp = PdfPages('cre.lengthcomp.intergenic.pdf')\n",
    "plt.savefig(pp, format='pdf')\n",
    "pp.close()"
   ]
  },
  {
   "cell_type": "code",
   "execution_count": 53,
   "metadata": {
    "collapsed": false
   },
   "outputs": [
    {
     "data": {
      "text/plain": [
       "(17741, 27416, 14971)"
      ]
     },
     "execution_count": 53,
     "metadata": {},
     "output_type": "execute_result"
    }
   ],
   "source": [
    "len(df_gff_gene),len(df_gff_gene_ath),len(df_gff_gene_vca)"
   ]
  },
  {
   "cell_type": "code",
   "execution_count": 54,
   "metadata": {
    "collapsed": false
   },
   "outputs": [
    {
     "data": {
      "text/plain": [
       "(17689, 27409, 14755)"
      ]
     },
     "execution_count": 54,
     "metadata": {},
     "output_type": "execute_result"
    }
   ],
   "source": [
    "len(list_intergenic_cre),len(list_intergenic_ath),len(list_intergenic_vca)"
   ]
  },
  {
   "cell_type": "code",
   "execution_count": 56,
   "metadata": {
    "collapsed": false
   },
   "outputs": [
    {
     "data": {
      "text/plain": [
       "15019"
      ]
     },
     "execution_count": 56,
     "metadata": {},
     "output_type": "execute_result"
    }
   ],
   "source": [
    "# overlapped genes showes minus values for intergenic region\n",
    "def positive_len(x):\n",
    "    x = np.array(x)\n",
    "    mask = (x>0)\n",
    "    return len(x[mask])\n",
    "positive_len(list_intergenic_cre)"
   ]
  },
  {
   "cell_type": "code",
   "execution_count": 57,
   "metadata": {
    "collapsed": false
   },
   "outputs": [
    {
     "data": {
      "text/plain": [
       "25590"
      ]
     },
     "execution_count": 57,
     "metadata": {},
     "output_type": "execute_result"
    }
   ],
   "source": [
    "positive_len(list_intergenic_ath)"
   ]
  },
  {
   "cell_type": "code",
   "execution_count": 58,
   "metadata": {
    "collapsed": false
   },
   "outputs": [
    {
     "data": {
      "text/plain": [
       "14179"
      ]
     },
     "execution_count": 58,
     "metadata": {},
     "output_type": "execute_result"
    }
   ],
   "source": [
    "positive_len(list_intergenic_vca)"
   ]
  },
  {
   "cell_type": "code",
   "execution_count": null,
   "metadata": {
    "collapsed": true
   },
   "outputs": [],
   "source": []
  }
 ],
 "metadata": {
  "kernelspec": {
   "display_name": "Python 2",
   "language": "python",
   "name": "python2"
  },
  "language_info": {
   "codemirror_mode": {
    "name": "ipython",
    "version": 2
   },
   "file_extension": ".py",
   "mimetype": "text/x-python",
   "name": "python",
   "nbconvert_exporter": "python",
   "pygments_lexer": "ipython2",
   "version": "2.7.6"
  }
 },
 "nbformat": 4,
 "nbformat_minor": 0
}
