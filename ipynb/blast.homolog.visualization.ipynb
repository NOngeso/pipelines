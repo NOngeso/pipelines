{
 "cells": [
  {
   "cell_type": "markdown",
   "metadata": {},
   "source": [
    "**homolog visualization for certain sigle gene as input**\n",
    "\n",
    "- need to have 'distance value' from input gene and matched gene with blast output. \n",
    "- the distance values should be comparable with other input gene. \n",
    "\n",
    "\n",
    "using \n",
    "\n",
    "```\n",
    "modified similarity measure(ms) = (similarity*2*alignment_length) / (query_length + subject_length)\n",
    "```\n",
    "\n",
    "the position of query gene and subject gene would be determined as follow\n",
    "\n",
    "```\n",
    "md(max.distance) = 100\n",
    "l                = (1-ms) * md\n",
    "theta            = (1-ms) * 360\n",
    "x                = l * cos(theta)\n",
    "y                = l * sin(theta)\n",
    "```"
   ]
  },
  {
   "cell_type": "code",
   "execution_count": 130,
   "metadata": {
    "collapsed": true
   },
   "outputs": [],
   "source": [
    "from __future__ import print_function\n",
    "import pandas as pd\n",
    "import numpy as np\n",
    "import sys\n",
    "sys.path.append('../../pipelines/')\n",
    "import kang\n",
    "from IPython.display import SVG, display"
   ]
  },
  {
   "cell_type": "code",
   "execution_count": 94,
   "metadata": {
    "collapsed": true
   },
   "outputs": [],
   "source": [
    "file_bo = '../../DroughtNet/blast/Athaliana_167.fa.pep.fa.bp.ev1e5.out7.rmsharp.txt'\n",
    "df_bo   = pd.read_csv(file_bo,sep='\\t',header=None)\n",
    "file_pep = '../../DroughtNet/blast/Athaliana_167.fa.pep.fa'\n",
    "dic_pep = kang.Fasta2dic(file_pep)"
   ]
  },
  {
   "cell_type": "code",
   "execution_count": 4,
   "metadata": {
    "collapsed": true
   },
   "outputs": [],
   "source": [
    "file_gff = '../../DroughtNet/PhytozomeV10_download/PhytozomeV10/Athaliana/annotation/Athaliana_167_TAIR10.gene.gff3'"
   ]
  },
  {
   "cell_type": "code",
   "execution_count": 195,
   "metadata": {
    "collapsed": false
   },
   "outputs": [],
   "source": [
    "df_gff   = pd.read_csv(file_gff,sep='\\t',skiprows=2,header=None)"
   ]
  },
  {
   "cell_type": "code",
   "execution_count": 12,
   "metadata": {
    "collapsed": false
   },
   "outputs": [
    {
     "name": "stderr",
     "output_type": "stream",
     "text": [
      "/usr/local/lib/python2.7/dist-packages/ipykernel/__main__.py:7: SettingWithCopyWarning: \n",
      "A value is trying to be set on a copy of a slice from a DataFrame.\n",
      "Try using .loc[row_indexer,col_indexer] = value instead\n",
      "\n",
      "See the caveats in the documentation: http://pandas.pydata.org/pandas-docs/stable/indexing.html#indexing-view-versus-copy\n"
     ]
    }
   ],
   "source": [
    "df_gff['genename'] = df_gff[8].apply(lambda x : x.split(';')[0].replace('ID=','').split('.')[0])\n",
    "df_gff['transcriptname'] = df_gff[8].apply(lambda x : '.'.join(x.split(';')[0].replace('ID=','').split('.')[0:2]))\n",
    "# grep longest transcript names\n",
    "mask        = (df_gff[2] == 'mRNA')\n",
    "df_gff_mRNA = df_gff[mask]\n",
    "df_gff_mRNA['longest'] = df_gff_mRNA[8].apply(lambda x : x.split(';')[3].replace('longest=',''))\n",
    "df_gff_mRNA_index =  df_gff_mRNA.set_index('transcriptname')\n",
    "\n",
    "def get_longest(x):\n",
    "    try:\n",
    "        return df_gff_mRNA_index.loc[x]['longest']\n",
    "    except KeyError:\n",
    "        return None\n",
    "df_gff['longest'] = df_gff['transcriptname'].apply(get_longest)\n",
    "\n"
   ]
  },
  {
   "cell_type": "code",
   "execution_count": 18,
   "metadata": {
    "collapsed": false
   },
   "outputs": [],
   "source": [
    "df_gff_index = df_gff.set_index(['transcriptname',2])"
   ]
  },
  {
   "cell_type": "code",
   "execution_count": 84,
   "metadata": {
    "collapsed": false
   },
   "outputs": [],
   "source": [
    "df_gff_mRNA_index = df_gff_mRNA.set_index('transcriptname')"
   ]
  },
  {
   "cell_type": "code",
   "execution_count": 86,
   "metadata": {
    "collapsed": false
   },
   "outputs": [
    {
     "name": "stdout",
     "output_type": "stream",
     "text": [
      "1964030 315218\n"
     ]
    }
   ],
   "source": [
    "mask      = (df_bo[10] < 1*np.exp(-5)) & (df_bo[2] > 40 )\n",
    "df_bo_cut = df_bo[mask]\n",
    "print len(df_bo),len(df_bo_cut)"
   ]
  },
  {
   "cell_type": "code",
   "execution_count": 106,
   "metadata": {
    "collapsed": false,
    "scrolled": true
   },
   "outputs": [
    {
     "name": "stdout",
     "output_type": "stream",
     "text": [
      "CPU times: user 111 ms, sys: 4 ms, total: 115 ms\n",
      "Wall time: 115 ms\n"
     ]
    }
   ],
   "source": [
    "%time df_bo_cut['ql'] = df_bo_cut[0].apply(lambda x : len(dic_pep[x]))\n",
    "df_bo_cut['sl'] = df_bo_cut[1].apply(lambda x : len(dic_pep[x]))"
   ]
  },
  {
   "cell_type": "code",
   "execution_count": 107,
   "metadata": {
    "collapsed": false,
    "scrolled": true
   },
   "outputs": [],
   "source": [
    "df_bo_cut['msim'] = ((df_bo_cut[2]/100)*2*df_bo_cut[3])/(df_bo_cut['ql'] + df_bo_cut['sl'])"
   ]
  },
  {
   "cell_type": "code",
   "execution_count": 187,
   "metadata": {
    "collapsed": false
   },
   "outputs": [],
   "source": [
    "md               = 100\n",
    "xaxis            = 150 # xaxis location in svg space \n",
    "yaxis            = 150\n",
    "query_rad        = 10\n",
    "\n",
    "def get_xy(ms):\n",
    "\n",
    "    l                = (1-ms)**2 * md + query_rad + 5 # square amplify signal\n",
    "    theta            = (1-ms) * np.pi*2\n",
    "    x                = l * np.cos(theta)\n",
    "    y                = l * np.sin(theta)\n",
    "    #print(ms,l,theta)\n",
    "    return l,theta,xaxis+x,yaxis-y\n",
    "get_xy_vec = np.vectorize(get_xy)"
   ]
  },
  {
   "cell_type": "code",
   "execution_count": 189,
   "metadata": {
    "collapsed": false
   },
   "outputs": [],
   "source": [
    "l,theta,x, y = get_xy_vec(df_bo_cut['msim'])\n",
    "df_bo_cut['x'] = x\n",
    "df_bo_cut['y'] = y\n",
    "df_bo_cut['l'] = l\n",
    "df_bo_cut['theta'] = theta\n",
    "df_bo_cut_index = df_bo_cut.set_index(0)"
   ]
  },
  {
   "cell_type": "code",
   "execution_count": 194,
   "metadata": {
    "collapsed": false
   },
   "outputs": [
    {
     "data": {
      "image/svg+xml": [
       "<svg height=\"300\" width=\"300\">\n",
       "<line stroke=\"blue\" stroke-width=\"1\" x1=\"150\" x2=\"165\" y1=\"150\" y2=\"150\"/>\n",
       "<circle cx=\"165\" cy=\"150\" r=\"5\" style=\"fill:green;stroke:black;stroke-width:1;fill-opacity:1.000000;stroke-opacity:0.9\"/>\n",
       "<line stroke=\"blue\" stroke-width=\"1\" x1=\"150\" x2=\"114\" y1=\"150\" y2=\"141\"/>\n",
       "<circle cx=\"114\" cy=\"141\" r=\"5\" style=\"fill:green;stroke:black;stroke-width:1;fill-opacity:0.539353;stroke-opacity:0.9\"/>\n",
       "<line stroke=\"blue\" stroke-width=\"1\" x1=\"150\" x2=\"109\" y1=\"150\" y2=\"183\"/>\n",
       "<circle cx=\"109\" cy=\"183\" r=\"5\" style=\"fill:green;stroke:black;stroke-width:1;fill-opacity:0.388776;stroke-opacity:0.9\"/>\n",
       "<line stroke=\"blue\" stroke-width=\"1\" x1=\"150\" x2=\"117\" y1=\"150\" y2=\"138\"/>\n",
       "<circle cx=\"117\" cy=\"138\" r=\"5\" style=\"fill:green;stroke:black;stroke-width:1;fill-opacity:0.556090;stroke-opacity:0.9\"/>\n",
       "<line stroke=\"blue\" stroke-width=\"1\" x1=\"150\" x2=\"122\" y1=\"150\" y2=\"133\"/>\n",
       "<circle cx=\"122\" cy=\"133\" r=\"5\" style=\"fill:green;stroke:black;stroke-width:1;fill-opacity:0.585360;stroke-opacity:0.9\"/>\n",
       "<line stroke=\"blue\" stroke-width=\"1\" x1=\"150\" x2=\"113\" y1=\"150\" y2=\"142\"/>\n",
       "<circle cx=\"113\" cy=\"142\" r=\"5\" style=\"fill:green;stroke:black;stroke-width:1;fill-opacity:0.531518;stroke-opacity:0.9\"/>\n",
       "<line stroke=\"blue\" stroke-width=\"1\" x1=\"150\" x2=\"112\" y1=\"150\" y2=\"144\"/>\n",
       "<circle cx=\"112\" cy=\"144\" r=\"5\" style=\"fill:green;stroke:black;stroke-width:1;fill-opacity:0.522960;stroke-opacity:0.9\"/>\n",
       "<line stroke=\"blue\" stroke-width=\"1\" x1=\"150\" x2=\"109\" y1=\"150\" y2=\"150\"/>\n",
       "<circle cx=\"109\" cy=\"150\" r=\"5\" style=\"fill:green;stroke:black;stroke-width:1;fill-opacity:0.497623;stroke-opacity:0.9\"/>\n",
       "<line stroke=\"blue\" stroke-width=\"1\" x1=\"150\" x2=\"112\" y1=\"150\" y2=\"145\"/>\n",
       "<circle cx=\"112\" cy=\"145\" r=\"5\" style=\"fill:green;stroke:black;stroke-width:1;fill-opacity:0.519987;stroke-opacity:0.9\"/>\n",
       "<line stroke=\"blue\" stroke-width=\"1\" x1=\"150\" x2=\"122\" y1=\"150\" y2=\"133\"/>\n",
       "<circle cx=\"122\" cy=\"133\" r=\"5\" style=\"fill:green;stroke:black;stroke-width:1;fill-opacity:0.586068;stroke-opacity:0.9\"/>\n",
       "<line stroke=\"blue\" stroke-width=\"1\" x1=\"150\" x2=\"110\" y1=\"150\" y2=\"150\"/>\n",
       "<circle cx=\"110\" cy=\"150\" r=\"5\" style=\"fill:green;stroke:black;stroke-width:1;fill-opacity:0.500000;stroke-opacity:0.9\"/>\n",
       "<line stroke=\"blue\" stroke-width=\"1\" x1=\"150\" x2=\"107\" y1=\"150\" y2=\"159\"/>\n",
       "<circle cx=\"107\" cy=\"159\" r=\"5\" style=\"fill:green;stroke:black;stroke-width:1;fill-opacity:0.463640;stroke-opacity:0.9\"/>\n",
       "<line stroke=\"blue\" stroke-width=\"1\" x1=\"150\" x2=\"107\" y1=\"150\" y2=\"160\"/>\n",
       "<circle cx=\"107\" cy=\"160\" r=\"5\" style=\"fill:green;stroke:black;stroke-width:1;fill-opacity:0.462233;stroke-opacity:0.9\"/>\n",
       "<line stroke=\"blue\" stroke-width=\"1\" x1=\"150\" x2=\"107\" y1=\"150\" y2=\"172\"/>\n",
       "<circle cx=\"107\" cy=\"172\" r=\"5\" style=\"fill:green;stroke:black;stroke-width:1;fill-opacity:0.423690;stroke-opacity:0.9\"/>\n",
       "<line stroke=\"blue\" stroke-width=\"1\" x1=\"150\" x2=\"107\" y1=\"150\" y2=\"162\"/>\n",
       "<circle cx=\"107\" cy=\"162\" r=\"5\" style=\"fill:green;stroke:black;stroke-width:1;fill-opacity:0.455696;stroke-opacity:0.9\"/>\n",
       "<line stroke=\"blue\" stroke-width=\"1\" x1=\"150\" x2=\"112\" y1=\"150\" y2=\"189\"/>\n",
       "<circle cx=\"112\" cy=\"189\" r=\"5\" style=\"fill:green;stroke:black;stroke-width:1;fill-opacity:0.371319;stroke-opacity:0.9\"/>\n",
       "<line stroke=\"blue\" stroke-width=\"1\" x1=\"150\" x2=\"232\" y1=\"150\" y2=\"202\"/>\n",
       "<circle cx=\"232\" cy=\"202\" r=\"5\" style=\"fill:green;stroke:black;stroke-width:1;fill-opacity:0.090648;stroke-opacity:0.9\"/>\n",
       "<line stroke=\"blue\" stroke-width=\"1\" x1=\"150\" x2=\"107\" y1=\"150\" y2=\"163\"/>\n",
       "<circle cx=\"107\" cy=\"163\" r=\"5\" style=\"fill:green;stroke:black;stroke-width:1;fill-opacity:0.452944;stroke-opacity:0.9\"/>\n",
       "<line stroke=\"blue\" stroke-width=\"1\" x1=\"150\" x2=\"225\" y1=\"150\" y2=\"208\"/>\n",
       "<circle cx=\"225\" cy=\"208\" r=\"5\" style=\"fill:green;stroke:black;stroke-width:1;fill-opacity:0.104524;stroke-opacity:0.9\"/>\n",
       "<line stroke=\"blue\" stroke-width=\"1\" x1=\"150\" x2=\"106\" y1=\"150\" y2=\"163\"/>\n",
       "<circle cx=\"106\" cy=\"163\" r=\"5\" style=\"fill:green;stroke:black;stroke-width:1;fill-opacity:0.451205;stroke-opacity:0.9\"/>\n",
       "<line stroke=\"blue\" stroke-width=\"1\" x1=\"150\" x2=\"107\" y1=\"150\" y2=\"170\"/>\n",
       "<circle cx=\"107\" cy=\"170\" r=\"5\" style=\"fill:green;stroke:black;stroke-width:1;fill-opacity:0.430209;stroke-opacity:0.9\"/>\n",
       "<line stroke=\"blue\" stroke-width=\"1\" x1=\"150\" x2=\"106\" y1=\"150\" y2=\"169\"/>\n",
       "<circle cx=\"106\" cy=\"169\" r=\"5\" style=\"fill:green;stroke:black;stroke-width:1;fill-opacity:0.433805;stroke-opacity:0.9\"/>\n",
       "<line stroke=\"blue\" stroke-width=\"1\" x1=\"150\" x2=\"106\" y1=\"150\" y2=\"167\"/>\n",
       "<circle cx=\"106\" cy=\"167\" r=\"5\" style=\"fill:green;stroke:black;stroke-width:1;fill-opacity:0.439897;stroke-opacity:0.9\"/>\n",
       "<line stroke=\"blue\" stroke-width=\"1\" x1=\"150\" x2=\"106\" y1=\"150\" y2=\"165\"/>\n",
       "<circle cx=\"106\" cy=\"165\" r=\"5\" style=\"fill:green;stroke:black;stroke-width:1;fill-opacity:0.444026;stroke-opacity:0.9\"/>\n",
       "<line stroke=\"blue\" stroke-width=\"1\" x1=\"150\" x2=\"125\" y1=\"150\" y2=\"207\"/>\n",
       "<circle cx=\"125\" cy=\"207\" r=\"5\" style=\"fill:green;stroke:black;stroke-width:1;fill-opacity:0.313568;stroke-opacity:0.9\"/>\n",
       "<line stroke=\"blue\" stroke-width=\"1\" x1=\"150\" x2=\"111\" y1=\"150\" y2=\"186\"/>\n",
       "<circle cx=\"111\" cy=\"186\" r=\"5\" style=\"fill:green;stroke:black;stroke-width:1;fill-opacity:0.379253;stroke-opacity:0.9\"/>\n",
       "<line stroke=\"blue\" stroke-width=\"1\" x1=\"150\" x2=\"248\" y1=\"150\" y2=\"184\"/>\n",
       "<circle cx=\"248\" cy=\"184\" r=\"5\" style=\"fill:green;stroke:black;stroke-width:1;fill-opacity:0.053922;stroke-opacity:0.9\"/>\n",
       "<line stroke=\"blue\" stroke-width=\"1\" x1=\"150\" x2=\"108\" y1=\"150\" y2=\"178\"/>\n",
       "<circle cx=\"108\" cy=\"178\" r=\"5\" style=\"fill:green;stroke:black;stroke-width:1;fill-opacity:0.403887;stroke-opacity:0.9\"/>\n",
       "<line stroke=\"blue\" stroke-width=\"1\" x1=\"150\" x2=\"133\" y1=\"150\" y2=\"213\"/>\n",
       "<circle cx=\"133\" cy=\"213\" r=\"5\" style=\"fill:green;stroke:black;stroke-width:1;fill-opacity:0.290100;stroke-opacity:0.9\"/>\n",
       "<line stroke=\"blue\" stroke-width=\"1\" x1=\"150\" x2=\"186\" y1=\"150\" y2=\"224\"/>\n",
       "<circle cx=\"186\" cy=\"224\" r=\"5\" style=\"fill:green;stroke:black;stroke-width:1;fill-opacity:0.177150;stroke-opacity:0.9\"/>\n",
       "<line stroke=\"blue\" stroke-width=\"1\" x1=\"150\" x2=\"191\" y1=\"150\" y2=\"223\"/>\n",
       "<circle cx=\"191\" cy=\"223\" r=\"5\" style=\"fill:green;stroke:black;stroke-width:1;fill-opacity:0.168291;stroke-opacity:0.9\"/>\n",
       "<line stroke=\"blue\" stroke-width=\"1\" x1=\"150\" x2=\"140\" y1=\"150\" y2=\"217\"/>\n",
       "<circle cx=\"140\" cy=\"217\" r=\"5\" style=\"fill:green;stroke:black;stroke-width:1;fill-opacity:0.272714;stroke-opacity:0.9\"/>\n",
       "<line stroke=\"blue\" stroke-width=\"1\" x1=\"150\" x2=\"132\" y1=\"150\" y2=\"212\"/>\n",
       "<circle cx=\"132\" cy=\"212\" r=\"5\" style=\"fill:green;stroke:black;stroke-width:1;fill-opacity:0.292864;stroke-opacity:0.9\"/>\n",
       "<line stroke=\"blue\" stroke-width=\"1\" x1=\"150\" x2=\"171\" y1=\"150\" y2=\"225\"/>\n",
       "<circle cx=\"171\" cy=\"225\" r=\"5\" style=\"fill:green;stroke:black;stroke-width:1;fill-opacity:0.205150;stroke-opacity:0.9\"/>\n",
       "<line stroke=\"blue\" stroke-width=\"1\" x1=\"150\" x2=\"161\" y1=\"150\" y2=\"224\"/>\n",
       "<circle cx=\"161\" cy=\"224\" r=\"5\" style=\"fill:green;stroke:black;stroke-width:1;fill-opacity:0.225479;stroke-opacity:0.9\"/>\n",
       "<line stroke=\"blue\" stroke-width=\"1\" x1=\"150\" x2=\"240\" y1=\"150\" y2=\"194\"/>\n",
       "<circle cx=\"240\" cy=\"194\" r=\"5\" style=\"fill:green;stroke:black;stroke-width:1;fill-opacity:0.073564;stroke-opacity:0.9\"/>\n",
       "<circle cx=\"150\" cy=\"150\" r=\"10\" style=\"fill:red;stroke:black;stroke-width:1;fill-opacity:1.000000;stroke-opacity:0.9\"/>\n",
       "</svg>"
      ],
      "text/plain": [
       "<IPython.core.display.SVG object>"
      ]
     },
     "metadata": {},
     "output_type": "display_data"
    }
   ],
   "source": [
    "canvas_height = 300\n",
    "canvas_width  = 300\n",
    "genename      = 'AT3G44790.1'\n",
    "Outfile       = open(genename+'.boviz.svg','w')\n",
    "circle = '<circle cx=\"%d\" cy=\"%d\" r=\"%d\" \\\n",
    "          style=\"fill:%s;stroke:black;stroke-width:1;fill-opacity:%f;stroke-opacity:0.9\" />'\n",
    "line   = '<line x1=\"%d\" y1=\"%d\" x2=\"%d\" y2=\"%d\" stroke=\"%s\" stroke-width=\"1\" />' \n",
    "print('<svg height=\"%d\" width=\"%d\">'%(canvas_height,canvas_width),file=Outfile)\n",
    "\n",
    "if str(type(df_bo_cut_index.loc[genename])) == \"<class 'pandas.core.frame.DataFrame'>\":\n",
    "    for x,y,msim in df_bo_cut_index.loc[genename][['x','y','msim']].values:\n",
    "        print(line%(xaxis,yaxis,x,y,'blue'),file=Outfile)\n",
    "        print(circle%(x,y,5,'green',msim),file=Outfile)\n",
    "        #print(x,y)\n",
    "print(circle%(xaxis,yaxis,query_rad,'red',1),file=Outfile)\n",
    "print('</svg>',file=Outfile)\n",
    "Outfile.close()     \n",
    "display(SVG('./%s.boviz.svg'%genename))"
   ]
  },
  {
   "cell_type": "code",
   "execution_count": null,
   "metadata": {
    "collapsed": true
   },
   "outputs": [],
   "source": []
  }
 ],
 "metadata": {
  "kernelspec": {
   "display_name": "Python 2",
   "language": "python",
   "name": "python2"
  },
  "language_info": {
   "codemirror_mode": {
    "name": "ipython",
    "version": 2
   },
   "file_extension": ".py",
   "mimetype": "text/x-python",
   "name": "python",
   "nbconvert_exporter": "python",
   "pygments_lexer": "ipython2",
   "version": "2.7.6"
  }
 },
 "nbformat": 4,
 "nbformat_minor": 0
}
