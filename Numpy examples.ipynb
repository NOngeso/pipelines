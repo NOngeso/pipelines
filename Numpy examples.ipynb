{
 "metadata": {
  "name": "",
  "signature": "sha256:4869720570e678b7741dd1d7748d7a6b2c1d1b668629264d18f5fc3893e9f164"
 },
 "nbformat": 3,
 "nbformat_minor": 0,
 "worksheets": [
  {
   "cells": [
    {
     "cell_type": "code",
     "collapsed": false,
     "input": [
      "import numpy as np"
     ],
     "language": "python",
     "metadata": {},
     "outputs": [],
     "prompt_number": 1
    },
    {
     "cell_type": "markdown",
     "metadata": {},
     "source": [
      "**\ud14d\uc2a4\ud2b8 \ud30c\uc77c\uc5d0\uc11c \ubc14\ub85c numpy array\ub85c \uac00\uc838\uc624\ub294 \ubc29\ubc95!**"
     ]
    },
    {
     "cell_type": "code",
     "collapsed": false,
     "input": [
      "def head(data,num):\n",
      "    i = 0 \n",
      "    for each in data:\n",
      "            print each\n",
      "            if i == num:\n",
      "                return()\n",
      "            i += 1"
     ],
     "language": "python",
     "metadata": {},
     "outputs": [],
     "prompt_number": 3
    },
    {
     "cell_type": "code",
     "collapsed": false,
     "input": [
      "file_in = '/data2/k821209/KimKH/RNAseq/gene_exp.diff.fc.out'\n",
      "data = np.loadtxt(file_in,usecols = (1,2,3))\n",
      "head(data[:,2],10)"
     ],
     "language": "python",
     "metadata": {},
     "outputs": [
      {
       "output_type": "stream",
       "stream": "stdout",
       "text": [
        "-0.0838935\n",
        "0.617214\n",
        "-0.259104\n",
        "-0.258211\n",
        "-0.611245\n",
        "0.128742\n",
        "0.760077\n",
        "0.140457\n",
        "-0.523226\n",
        "-0.0962662\n",
        "-0.494503\n"
       ]
      },
      {
       "metadata": {},
       "output_type": "pyout",
       "prompt_number": 6,
       "text": [
        "()"
       ]
      }
     ],
     "prompt_number": 6
    },
    {
     "cell_type": "markdown",
     "metadata": {},
     "source": [
      "**array\uc758 string \ud0c0\uc785\uc744 float\ud0c0\uc785\uc73c\ub85c \ud1b5\uc9f8\ub85c \ubc14\uafb8\uae30**"
     ]
    },
    {
     "cell_type": "code",
     "collapsed": false,
     "input": [
      "import numpy as np\n",
      "x = np.array(['1.1', '2.2', '3.3'], dtype='|S4')\n",
      "y = x.astype(np.float)"
     ],
     "language": "python",
     "metadata": {},
     "outputs": [],
     "prompt_number": 2
    },
    {
     "cell_type": "markdown",
     "metadata": {},
     "source": [
      "**Array\uc758 dimension\uc744 \uc54c\uace0 \uc2f6\uc744\ub54c**"
     ]
    },
    {
     "cell_type": "code",
     "collapsed": false,
     "input": [
      "y.shape"
     ],
     "language": "python",
     "metadata": {},
     "outputs": [
      {
       "metadata": {},
       "output_type": "pyout",
       "prompt_number": 3,
       "text": [
        "(3,)"
       ]
      }
     ],
     "prompt_number": 3
    },
    {
     "cell_type": "code",
     "collapsed": false,
     "input": [
      "b = np.array([[5, 6]])\n",
      "b.shape"
     ],
     "language": "python",
     "metadata": {},
     "outputs": [
      {
       "metadata": {},
       "output_type": "pyout",
       "prompt_number": 4,
       "text": [
        "(1, 2)"
       ]
      }
     ],
     "prompt_number": 4
    },
    {
     "cell_type": "markdown",
     "metadata": {},
     "source": [
      "**Array \ub07c\ub9ac \ubd99\uc77c\ub54c**"
     ]
    },
    {
     "cell_type": "code",
     "collapsed": false,
     "input": [
      "#c = np.array([[1,2],[3,4]])\n",
      "#print np.concatenate((c,b))\n",
      "#print np.concatenate((c,b.T),axis=1)\n",
      "a = np.array([1,2,3,4])\n",
      "b = np.array([5,6,7,8])\n",
      "c = np.resize(a,(4,1))\n",
      "d = np.resize(b,(4,1))\n",
      "print np.concatenate((c,d),axis=1)"
     ],
     "language": "python",
     "metadata": {},
     "outputs": [
      {
       "output_type": "stream",
       "stream": "stdout",
       "text": [
        "[[1 5]\n",
        " [2 6]\n",
        " [3 7]\n",
        " [4 8]]\n"
       ]
      }
     ],
     "prompt_number": 10
    },
    {
     "cell_type": "markdown",
     "metadata": {},
     "source": [
      "**Array \uc815\ub9ac**"
     ]
    },
    {
     "cell_type": "code",
     "collapsed": false,
     "input": [
      "d = np.array([True,False,True])\n",
      "x[d]"
     ],
     "language": "python",
     "metadata": {},
     "outputs": [
      {
       "metadata": {},
       "output_type": "pyout",
       "prompt_number": 10,
       "text": [
        "array(['1.1', '3.3'], \n",
        "      dtype='|S4')"
       ]
      }
     ],
     "prompt_number": 10
    },
    {
     "cell_type": "code",
     "collapsed": false,
     "input": [
      "a = np.array([1,2,3])\n",
      "np.vstack((a,[1,2,3]))"
     ],
     "language": "python",
     "metadata": {},
     "outputs": [
      {
       "metadata": {},
       "output_type": "pyout",
       "prompt_number": 44,
       "text": [
        "array([[1, 2, 3],\n",
        "       [1, 2, 3]])"
       ]
      }
     ],
     "prompt_number": 44
    },
    {
     "cell_type": "code",
     "collapsed": false,
     "input": [
      "a = np.zeros((50,1000))\n",
      "data = np.random.lognormal(size=(37, 4), mean=1.5, sigma=1.75)\n",
      "data\n"
     ],
     "language": "python",
     "metadata": {},
     "outputs": [
      {
       "metadata": {},
       "output_type": "pyout",
       "prompt_number": 28,
       "text": [
        "array([[  1.71937533e+00,   9.68605715e+00,   4.27691922e+00,\n",
        "          8.20706784e+00],\n",
        "       [  3.12346189e+00,   1.60840992e+01,   8.36761267e-01,\n",
        "          9.61301721e+00],\n",
        "       [  4.23830254e+00,   1.84603021e+00,   9.57747849e-01,\n",
        "          9.34043774e-01],\n",
        "       [  1.72064929e+01,   4.49917219e+00,   5.80960540e+01,\n",
        "          3.00706715e+01],\n",
        "       [  2.96289272e+01,   6.58798584e+00,   2.65773290e+01,\n",
        "          3.63715786e+01],\n",
        "       [  3.07116123e+00,   5.80286828e+01,   1.23286149e+00,\n",
        "          1.36143486e+00],\n",
        "       [  1.18001196e+01,   3.63711078e+01,   3.34120179e+00,\n",
        "          6.83495045e+00],\n",
        "       [  5.44150172e+00,   9.28075525e+00,   8.42392556e+00,\n",
        "          7.63552818e+00],\n",
        "       [  1.37758382e+01,   1.13266988e+00,   1.49508217e+00,\n",
        "          4.66230116e+01],\n",
        "       [  1.71280643e+01,   3.81723536e+00,   3.34339720e+00,\n",
        "          2.75100129e-01],\n",
        "       [  5.33721496e+00,   5.02689310e+00,   2.89084395e+01,\n",
        "          6.33519808e-01],\n",
        "       [  6.99475724e-01,   8.11769899e-01,   1.79682509e+01,\n",
        "          3.99782278e+01],\n",
        "       [  1.95907689e+00,   2.33704183e+00,   3.77559662e+00,\n",
        "          5.60213394e+00],\n",
        "       [  1.08631906e+01,   2.78513386e-01,   2.04382899e+02,\n",
        "          1.08626169e+02],\n",
        "       [  5.34761031e+00,   4.53948707e+00,   7.72848950e+00,\n",
        "          4.87323761e+00],\n",
        "       [  2.20664004e+01,   7.07530985e+00,   1.94477666e+01,\n",
        "          1.92850031e+00],\n",
        "       [  4.12946563e+00,   1.99518878e+00,   2.42634205e+00,\n",
        "          2.91623521e+00],\n",
        "       [  1.14401308e+01,   3.77702758e+00,   3.06763437e-01,\n",
        "          3.39046419e+00],\n",
        "       [  1.11603358e+01,   3.85275243e+00,   3.60706784e+00,\n",
        "          2.69993856e+01],\n",
        "       [  5.45163589e-01,   1.10875324e+01,   2.31449752e-01,\n",
        "          1.49982249e+01],\n",
        "       [  5.42048034e+00,   8.07638999e-01,   1.11889358e+00,\n",
        "          1.44854391e+01],\n",
        "       [  5.36583516e-01,   2.75705862e+00,   1.46757667e+00,\n",
        "          1.80279864e+01],\n",
        "       [  4.62002300e+01,   3.56369567e+00,   1.56069031e+01,\n",
        "          7.71013504e-01],\n",
        "       [  2.05534622e-01,   7.61809427e-01,   8.73705447e-01,\n",
        "          1.05747433e+01],\n",
        "       [  9.65102602e+01,   8.24284767e-01,   3.07697845e+00,\n",
        "          3.18973568e+00],\n",
        "       [  1.03207170e+01,   3.79572507e+01,   5.94768878e-01,\n",
        "          3.53147529e+01],\n",
        "       [  6.01654481e-01,   1.14614269e+01,   9.29885302e+00,\n",
        "          2.87354304e+00],\n",
        "       [  3.50961240e+00,   1.41450464e+00,   6.27023764e+02,\n",
        "          4.20935149e-01],\n",
        "       [  3.59060906e+00,   1.14026110e+01,   8.54781073e-01,\n",
        "          1.11759778e-01],\n",
        "       [  1.81689474e+01,   7.85551156e-01,   8.38287311e+00,\n",
        "          2.48927362e+01],\n",
        "       [  6.72265625e+00,   4.87594301e+00,   4.96330676e+00,\n",
        "          8.41777068e+01],\n",
        "       [  5.10638917e-02,   2.22536005e-01,   3.09579167e-02,\n",
        "          8.97314986e+01],\n",
        "       [  5.54645955e+00,   6.59446505e+00,   8.88094521e-01,\n",
        "          2.64770949e+00],\n",
        "       [  5.04133924e-01,   5.54218120e+00,   8.26264046e+01,\n",
        "          1.95569363e+02],\n",
        "       [  1.30067237e+00,   2.98857458e+00,   1.50425451e+01,\n",
        "          4.36681649e-01],\n",
        "       [  1.17616890e+01,   1.14266372e+00,   3.11718523e+00,\n",
        "          7.88753185e+00],\n",
        "       [  2.63664966e-01,   4.75540131e+00,   2.20924370e+00,\n",
        "          4.14270980e+01]])"
       ]
      }
     ],
     "prompt_number": 28
    },
    {
     "cell_type": "code",
     "collapsed": false,
     "input": [
      "data = np.arange(6).reshape((3,2))\n",
      "print data\n",
      "#np.average(data, axis=1, weights=[1./3, 3./4])\n",
      "np.average(data, axis=1)"
     ],
     "language": "python",
     "metadata": {},
     "outputs": [
      {
       "output_type": "stream",
       "stream": "stdout",
       "text": [
        "[[0 1]\n",
        " [2 3]\n",
        " [4 5]]\n"
       ]
      },
      {
       "metadata": {},
       "output_type": "pyout",
       "prompt_number": 35,
       "text": [
        "array([ 0.5,  2.5,  4.5])"
       ]
      }
     ],
     "prompt_number": 35
    },
    {
     "cell_type": "code",
     "collapsed": false,
     "input": [
      "a = np.array([1,2,3])\n",
      "b = np.array([2,1,4])\n",
      "#c = np.vstack((a,b))\n",
      "\n",
      "#print c\n",
      "np.amax((a,b),axis=0)"
     ],
     "language": "python",
     "metadata": {},
     "outputs": [
      {
       "metadata": {},
       "output_type": "pyout",
       "prompt_number": 56,
       "text": [
        "array([2, 2, 4])"
       ]
      }
     ],
     "prompt_number": 56
    },
    {
     "cell_type": "code",
     "collapsed": false,
     "input": [
      "a[::-1]*(-1)"
     ],
     "language": "python",
     "metadata": {},
     "outputs": [
      {
       "metadata": {},
       "output_type": "pyout",
       "prompt_number": 59,
       "text": [
        "array([-3, -2, -1])"
       ]
      }
     ],
     "prompt_number": 59
    },
    {
     "cell_type": "code",
     "collapsed": false,
     "input": [
      "c = np.array([[1,2,3],[4,5,6]])\n",
      "d = np.sum(c,axis=1)\n",
      "e = (d>10)\n",
      "print c\n",
      "print d\n",
      "print e\n",
      "print c[e]"
     ],
     "language": "python",
     "metadata": {},
     "outputs": [
      {
       "output_type": "stream",
       "stream": "stdout",
       "text": [
        "[[1 2 3]\n",
        " [4 5 6]]\n",
        "[ 6 15]\n",
        "[False  True]\n",
        "[[4 5 6]]\n"
       ]
      }
     ],
     "prompt_number": 66
    },
    {
     "cell_type": "code",
     "collapsed": false,
     "input": [
      "a = np.array([1,2,3,4])\n",
      "b = (a>1) & (a<3)\n",
      "\n",
      "np.log(a)"
     ],
     "language": "python",
     "metadata": {},
     "outputs": [
      {
       "metadata": {},
       "output_type": "pyout",
       "prompt_number": 69,
       "text": [
        "array([ 0.        ,  0.69314718,  1.09861229,  1.38629436])"
       ]
      }
     ],
     "prompt_number": 69
    }
   ],
   "metadata": {}
  }
 ]
}